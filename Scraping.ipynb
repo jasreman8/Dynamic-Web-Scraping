{
 "cells": [
  {
   "cell_type": "markdown",
   "id": "8fed0d01",
   "metadata": {
    "ExecuteTime": {
     "end_time": "2023-04-14T19:03:38.499301Z",
     "start_time": "2023-04-14T19:03:38.309696Z"
    }
   },
   "source": [
    "We want the data from the following sources:\n",
    " - Renkseed (Current availability: 2018-2022)\n",
    "        - http://dealer.renkseed.com:8080/plot-results.shtml\n",
    "        \n",
    " - Beck's  (2014 - 2022)\n",
    "        - https://www.beckshybrids.com/Yield-Data\n",
    "\n",
    " - Dekalb/Asgrow/Deltapine (Aganytime: 2019 - 2022)\n",
    "        - https://www.dekalbasgrowdeltapine.com/en-us/local-yield-results.html#crop=&radius=50&year=&zipcode=\n",
    "        \n",
    " - Burrus Seeds (2013-2022)\n",
    "        - https://burrusseed.com/burrus-plot-data/\n",
    "        \n",
    " - Nuteck (2018-2022)\n",
    "        - https://nutechseed.com/products/harvest-results-2021/\n",
    "\n",
    " - Daryland (2020-2021)\n",
    "        - https://dairylandseed.com/yield-data/corn/\n",
    "        \n",
    " - Pioneer (2020-2022)\n",
    "        - https://www.pioneer.com/us/yield-results.corn.html"
   ]
  },
  {
   "cell_type": "markdown",
   "id": "712bfa79",
   "metadata": {},
   "source": [
    " - pip install selenium\n",
    " - pip install webdriver_manager\n",
    " - pip install scrapy\n",
    " - pip install autopep8\n",
    " - pip install pylint\n",
    " - pip install scrapyrt\n",
    " - pip install splash"
   ]
  },
  {
   "cell_type": "code",
   "execution_count": 1,
   "id": "40d49697",
   "metadata": {
    "ExecuteTime": {
     "end_time": "2023-05-22T19:23:48.241761Z",
     "start_time": "2023-05-22T19:23:47.760716Z"
    }
   },
   "outputs": [],
   "source": [
    "from urllib.request import urlopen\n",
    "from bs4 import BeautifulSoup\n",
    "import os"
   ]
  },
  {
   "cell_type": "code",
   "execution_count": 1,
   "id": "3a0b5da1",
   "metadata": {
    "ExecuteTime": {
     "end_time": "2023-05-23T12:54:30.713664Z",
     "start_time": "2023-05-23T12:54:28.886564Z"
    }
   },
   "outputs": [
    {
     "name": "stdout",
     "output_type": "stream",
     "text": [
      "\u001b[31mERROR: Could not find a version that satisfies the requirement urllib (from versions: none)\u001b[0m\n",
      "\u001b[31mERROR: No matching distribution found for urllib\u001b[0m\n",
      "\u001b[33mWARNING: You are using pip version 21.1.2; however, version 23.1.2 is available.\n",
      "You should consider upgrading via the '/home/ipython/software/python/python39/virtualenvs/pairs-python3/bin/python -m pip install --upgrade pip' command.\u001b[0m\n",
      "Note: you may need to restart the kernel to use updated packages.\n"
     ]
    }
   ],
   "source": [
    "pip install urllib"
   ]
  },
  {
   "cell_type": "code",
   "execution_count": 9,
   "id": "abd7b4bb",
   "metadata": {
    "ExecuteTime": {
     "end_time": "2023-05-22T19:25:52.589672Z",
     "start_time": "2023-05-22T19:25:51.799941Z"
    }
   },
   "outputs": [],
   "source": [
    "import scrapy"
   ]
  },
  {
   "cell_type": "code",
   "execution_count": 10,
   "id": "13a45d75",
   "metadata": {
    "ExecuteTime": {
     "end_time": "2023-05-22T19:26:13.981336Z",
     "start_time": "2023-05-22T19:26:13.949967Z"
    }
   },
   "outputs": [
    {
     "data": {
      "text/plain": [
       "scrapy.spiders.Spider"
      ]
     },
     "execution_count": 10,
     "metadata": {},
     "output_type": "execute_result"
    }
   ],
   "source": [
    "scrapy.Spider"
   ]
  },
  {
   "cell_type": "code",
   "execution_count": 13,
   "id": "ce5d9227",
   "metadata": {
    "ExecuteTime": {
     "end_time": "2023-05-22T19:30:05.953012Z",
     "start_time": "2023-05-22T19:30:05.945028Z"
    }
   },
   "outputs": [],
   "source": [
    "class seeds(scrapy.Spider):\n",
    "    self.name='seed_companies'\n",
    "    self.allowed_domains = ['https://www.dekalbasgrowdeltapine.com/en-us/local-yield-results.html']\n",
    "    self.start_urls = ['https://www.dekalbasgrowdeltapine.com/en-us/local-yield-results.html#crop=corn&radius=200&year=2021,2022&zipcode=63017']\n",
    "    \n",
    "    def parse(self, response):\n",
    "        print(response.body)"
   ]
  },
  {
   "cell_type": "code",
   "execution_count": 6,
   "id": "329e55f0",
   "metadata": {
    "ExecuteTime": {
     "end_time": "2023-05-23T12:56:41.676461Z",
     "start_time": "2023-05-23T12:56:41.670221Z"
    }
   },
   "outputs": [],
   "source": [
    "html = 'https://www.dekalbasgrowdeltapine.com/en-us/local-yield-results/_jcr_content/root/responsivegrid/harvest_results.harvest.json?brand=dekalbasgrowdeltapine&crop=corn&year=2022&lat=38.6510111206033&lng=-90.536417186744&radius=200'"
   ]
  },
  {
   "cell_type": "code",
   "execution_count": 7,
   "id": "4de65238",
   "metadata": {
    "ExecuteTime": {
     "end_time": "2023-05-23T12:56:42.823422Z",
     "start_time": "2023-05-23T12:56:42.622430Z"
    }
   },
   "outputs": [],
   "source": [
    "import requests\n",
    "from bs4 import BeautifulSoup\n",
    "\n",
    "\n",
    "vgm_url = html\n",
    "html_text = requests.get(vgm_url).text\n",
    "soup = BeautifulSoup(html_text, 'html.parser')"
   ]
  },
  {
   "cell_type": "code",
   "execution_count": 8,
   "id": "766fe2a2",
   "metadata": {
    "ExecuteTime": {
     "end_time": "2023-05-23T12:56:44.181855Z",
     "start_time": "2023-05-23T12:56:44.170009Z"
    }
   },
   "outputs": [
    {
     "data": {
      "text/plain": [
       "<html><head>\n",
       "<title>Access Denied</title>\n",
       "</head><body>\n",
       "<h1>Access Denied</h1>\n",
       " \n",
       "You don't have permission to access \"http://www.dekalbasgrowdeltapine.com/en-us/local-yield-results/_jcr_content/root/responsivegrid/harvest_results.harvest.json?\" on this server.<p>\n",
       "Reference #18.cc83c217.1684846602.421d47d9\n",
       "</p></body>\n",
       "</html>"
      ]
     },
     "execution_count": 8,
     "metadata": {},
     "output_type": "execute_result"
    }
   ],
   "source": [
    "soup"
   ]
  },
  {
   "cell_type": "code",
   "execution_count": 43,
   "id": "75801f5c",
   "metadata": {
    "ExecuteTime": {
     "end_time": "2023-05-24T16:51:10.130970Z",
     "start_time": "2023-05-24T16:51:10.124891Z"
    }
   },
   "outputs": [],
   "source": [
    "url = 'https://burrus23.seedware.net/embed/harvestData/getReport/6834'"
   ]
  },
  {
   "cell_type": "code",
   "execution_count": null,
   "id": "945f993a",
   "metadata": {},
   "outputs": [],
   "source": []
  },
  {
   "cell_type": "code",
   "execution_count": null,
   "id": "3be499c2",
   "metadata": {},
   "outputs": [],
   "source": []
  },
  {
   "cell_type": "code",
   "execution_count": 49,
   "id": "c23c2759",
   "metadata": {
    "ExecuteTime": {
     "end_time": "2023-05-24T16:54:58.008621Z",
     "start_time": "2023-05-24T16:54:57.573493Z"
    }
   },
   "outputs": [],
   "source": [
    "agent = {\"User-Agent\":\"Mozilla/5.0\"}\n",
    "response = requests.get(url,headers=agent, stream=True)\n",
    "\n",
    "with open('burrus_1.pdf', 'wb') as f:\n",
    "    for chunk in response.iter_content(2000):\n",
    "        f.write(chunk)"
   ]
  },
  {
   "cell_type": "code",
   "execution_count": 51,
   "id": "d567d6b6",
   "metadata": {
    "ExecuteTime": {
     "end_time": "2023-05-24T16:56:16.702237Z",
     "start_time": "2023-05-24T16:56:16.373743Z"
    }
   },
   "outputs": [
    {
     "ename": "RuntimeError",
     "evalue": "The content for this response was already consumed",
     "output_type": "error",
     "traceback": [
      "\u001b[0;31m---------------------------------------------------------------------------\u001b[0m",
      "\u001b[0;31mRuntimeError\u001b[0m                              Traceback (most recent call last)",
      "Input \u001b[0;32mIn [51]\u001b[0m, in \u001b[0;36m<cell line: 1>\u001b[0;34m()\u001b[0m\n\u001b[0;32m----> 1\u001b[0m \u001b[43mresponse\u001b[49m\u001b[38;5;241;43m.\u001b[39;49m\u001b[43mtext\u001b[49m\n",
      "File \u001b[0;32m~/software/python/python39/virtualenvs/pairs-python3/lib/python3.9/site-packages/requests/models.py:923\u001b[0m, in \u001b[0;36mResponse.text\u001b[0;34m(self)\u001b[0m\n\u001b[1;32m    920\u001b[0m content \u001b[38;5;241m=\u001b[39m \u001b[38;5;28;01mNone\u001b[39;00m\n\u001b[1;32m    921\u001b[0m encoding \u001b[38;5;241m=\u001b[39m \u001b[38;5;28mself\u001b[39m\u001b[38;5;241m.\u001b[39mencoding\n\u001b[0;32m--> 923\u001b[0m \u001b[38;5;28;01mif\u001b[39;00m \u001b[38;5;129;01mnot\u001b[39;00m \u001b[38;5;28;43mself\u001b[39;49m\u001b[38;5;241;43m.\u001b[39;49m\u001b[43mcontent\u001b[49m:\n\u001b[1;32m    924\u001b[0m     \u001b[38;5;28;01mreturn\u001b[39;00m \u001b[38;5;124m\"\u001b[39m\u001b[38;5;124m\"\u001b[39m\n\u001b[1;32m    926\u001b[0m \u001b[38;5;66;03m# Fallback to auto-detected encoding.\u001b[39;00m\n",
      "File \u001b[0;32m~/software/python/python39/virtualenvs/pairs-python3/lib/python3.9/site-packages/requests/models.py:894\u001b[0m, in \u001b[0;36mResponse.content\u001b[0;34m(self)\u001b[0m\n\u001b[1;32m    891\u001b[0m \u001b[38;5;28;01mif\u001b[39;00m \u001b[38;5;28mself\u001b[39m\u001b[38;5;241m.\u001b[39m_content \u001b[38;5;129;01mis\u001b[39;00m \u001b[38;5;28;01mFalse\u001b[39;00m:\n\u001b[1;32m    892\u001b[0m     \u001b[38;5;66;03m# Read the contents.\u001b[39;00m\n\u001b[1;32m    893\u001b[0m     \u001b[38;5;28;01mif\u001b[39;00m \u001b[38;5;28mself\u001b[39m\u001b[38;5;241m.\u001b[39m_content_consumed:\n\u001b[0;32m--> 894\u001b[0m         \u001b[38;5;28;01mraise\u001b[39;00m \u001b[38;5;167;01mRuntimeError\u001b[39;00m(\u001b[38;5;124m\"\u001b[39m\u001b[38;5;124mThe content for this response was already consumed\u001b[39m\u001b[38;5;124m\"\u001b[39m)\n\u001b[1;32m    896\u001b[0m     \u001b[38;5;28;01mif\u001b[39;00m \u001b[38;5;28mself\u001b[39m\u001b[38;5;241m.\u001b[39mstatus_code \u001b[38;5;241m==\u001b[39m \u001b[38;5;241m0\u001b[39m \u001b[38;5;129;01mor\u001b[39;00m \u001b[38;5;28mself\u001b[39m\u001b[38;5;241m.\u001b[39mraw \u001b[38;5;129;01mis\u001b[39;00m \u001b[38;5;28;01mNone\u001b[39;00m:\n\u001b[1;32m    897\u001b[0m         \u001b[38;5;28mself\u001b[39m\u001b[38;5;241m.\u001b[39m_content \u001b[38;5;241m=\u001b[39m \u001b[38;5;28;01mNone\u001b[39;00m\n",
      "\u001b[0;31mRuntimeError\u001b[0m: The content for this response was already consumed"
     ]
    }
   ],
   "source": [
    "response.text"
   ]
  },
  {
   "cell_type": "code",
   "execution_count": null,
   "id": "970dbd63",
   "metadata": {},
   "outputs": [],
   "source": []
  },
  {
   "cell_type": "code",
   "execution_count": 37,
   "id": "4aa6fd7e",
   "metadata": {
    "ExecuteTime": {
     "end_time": "2023-05-24T16:13:10.762606Z",
     "start_time": "2023-05-24T16:13:08.315038Z"
    },
    "scrolled": true
   },
   "outputs": [
    {
     "data": {
      "text/html": [
       "<div>\n",
       "<style scoped>\n",
       "    .dataframe tbody tr th:only-of-type {\n",
       "        vertical-align: middle;\n",
       "    }\n",
       "\n",
       "    .dataframe tbody tr th {\n",
       "        vertical-align: top;\n",
       "    }\n",
       "\n",
       "    .dataframe thead th {\n",
       "        text-align: right;\n",
       "    }\n",
       "</style>\n",
       "<table border=\"1\" class=\"dataframe\">\n",
       "  <thead>\n",
       "    <tr style=\"text-align: right;\">\n",
       "      <th></th>\n",
       "      <th>cooperatorName</th>\n",
       "      <th>harvestDate</th>\n",
       "      <th>plantingDate</th>\n",
       "      <th>plantingRate</th>\n",
       "      <th>seedRate</th>\n",
       "      <th>plantingRateUom</th>\n",
       "      <th>soilTexture</th>\n",
       "      <th>yieldUnit</th>\n",
       "      <th>yieldUnitAbbrev</th>\n",
       "      <th>fipsCode</th>\n",
       "      <th>...</th>\n",
       "      <th>advantageMessaging.performanceValueAvg</th>\n",
       "      <th>advantageMessaging.isUsingAdvantageMessaging</th>\n",
       "      <th>advantageMessaging.isUsingAverageMessaging</th>\n",
       "      <th>advantageMessaging.legend</th>\n",
       "      <th>pricingDetails.dryingCost</th>\n",
       "      <th>pricingDetails.reportingMoisture</th>\n",
       "      <th>pricingDetails.targetMoisture</th>\n",
       "      <th>pricingDetails.unitPrice</th>\n",
       "      <th>pricingDetails.formattedDryingCost</th>\n",
       "      <th>pricingDetails.formattedUnitPrice</th>\n",
       "    </tr>\n",
       "  </thead>\n",
       "  <tbody>\n",
       "    <tr>\n",
       "      <th>0</th>\n",
       "      <td>Paul Kamphoefner</td>\n",
       "      <td>Oct 03 2020</td>\n",
       "      <td>Apr 20 2020</td>\n",
       "      <td></td>\n",
       "      <td>31,500</td>\n",
       "      <td></td>\n",
       "      <td>Silt Loam</td>\n",
       "      <td>Bushels/Acre</td>\n",
       "      <td>Bu/A</td>\n",
       "      <td>29183</td>\n",
       "      <td>...</td>\n",
       "      <td>242.0</td>\n",
       "      <td>False</td>\n",
       "      <td>True</td>\n",
       "      <td>[{\"item\":\"AM\",\"description\":\"Optimum\\u00ae Acr...</td>\n",
       "      <td>0.04</td>\n",
       "      <td>15.0</td>\n",
       "      <td>15.0</td>\n",
       "      <td>3.5</td>\n",
       "      <td>.04</td>\n",
       "      <td>3.50</td>\n",
       "    </tr>\n",
       "    <tr>\n",
       "      <th>1</th>\n",
       "      <td>Anonymous</td>\n",
       "      <td>Sep 24 2019</td>\n",
       "      <td>Apr 11 2019</td>\n",
       "      <td></td>\n",
       "      <td>36,000</td>\n",
       "      <td></td>\n",
       "      <td>Sandy Loam</td>\n",
       "      <td>Bushels/Acre</td>\n",
       "      <td>Bu/A</td>\n",
       "      <td>29183</td>\n",
       "      <td>...</td>\n",
       "      <td>258.7</td>\n",
       "      <td>True</td>\n",
       "      <td>False</td>\n",
       "      <td>[{\"item\":\"AMXT\",\"description\":\"Optimum\\u00ae A...</td>\n",
       "      <td>0.04</td>\n",
       "      <td>15.0</td>\n",
       "      <td>15.0</td>\n",
       "      <td>4.0</td>\n",
       "      <td>.04</td>\n",
       "      <td>4.00</td>\n",
       "    </tr>\n",
       "    <tr>\n",
       "      <th>2</th>\n",
       "      <td>Anonymous</td>\n",
       "      <td>Sep 23 2020</td>\n",
       "      <td>Apr 20 2020</td>\n",
       "      <td></td>\n",
       "      <td>30,000</td>\n",
       "      <td></td>\n",
       "      <td>n/a</td>\n",
       "      <td>Bushels/Acre</td>\n",
       "      <td>Bu/A</td>\n",
       "      <td>17133</td>\n",
       "      <td>...</td>\n",
       "      <td>246.3</td>\n",
       "      <td>True</td>\n",
       "      <td>False</td>\n",
       "      <td>[{\"item\":\"AM\",\"description\":\"Optimum\\u00ae Acr...</td>\n",
       "      <td>0.04</td>\n",
       "      <td>15.0</td>\n",
       "      <td>15.0</td>\n",
       "      <td>3.5</td>\n",
       "      <td>.04</td>\n",
       "      <td>3.50</td>\n",
       "    </tr>\n",
       "    <tr>\n",
       "      <th>3</th>\n",
       "      <td>Saale Farm And Grain</td>\n",
       "      <td>Nov 03 2020</td>\n",
       "      <td>Jun 16 2020</td>\n",
       "      <td></td>\n",
       "      <td>160,000</td>\n",
       "      <td></td>\n",
       "      <td>Silt Loam</td>\n",
       "      <td>Bushels/Acre</td>\n",
       "      <td>Bu/A</td>\n",
       "      <td>29183</td>\n",
       "      <td>...</td>\n",
       "      <td>68.8</td>\n",
       "      <td>True</td>\n",
       "      <td>False</td>\n",
       "      <td>[{\"item\":\"Enlist E3\",\"description\":\"Enlist E3\\...</td>\n",
       "      <td>0.00</td>\n",
       "      <td>15.0</td>\n",
       "      <td>15.0</td>\n",
       "      <td>8.5</td>\n",
       "      <td>.00</td>\n",
       "      <td>8.50</td>\n",
       "    </tr>\n",
       "    <tr>\n",
       "      <th>4</th>\n",
       "      <td>Adam Bonderer</td>\n",
       "      <td>Sep 08 2020</td>\n",
       "      <td>Apr 21 2020</td>\n",
       "      <td></td>\n",
       "      <td>30,000</td>\n",
       "      <td></td>\n",
       "      <td>Silt Loam</td>\n",
       "      <td>Bushels/Acre</td>\n",
       "      <td>Bu/A</td>\n",
       "      <td>29183</td>\n",
       "      <td>...</td>\n",
       "      <td>221.8</td>\n",
       "      <td>True</td>\n",
       "      <td>False</td>\n",
       "      <td>[{\"item\":\"AM\",\"description\":\"Optimum\\u00ae Acr...</td>\n",
       "      <td>0.04</td>\n",
       "      <td>15.0</td>\n",
       "      <td>15.0</td>\n",
       "      <td>3.5</td>\n",
       "      <td>.04</td>\n",
       "      <td>3.50</td>\n",
       "    </tr>\n",
       "  </tbody>\n",
       "</table>\n",
       "<p>5 rows × 84 columns</p>\n",
       "</div>"
      ],
      "text/plain": [
       "         cooperatorName  harvestDate plantingDate plantingRate seedRate  \\\n",
       "0      Paul Kamphoefner  Oct 03 2020  Apr 20 2020                31,500   \n",
       "1             Anonymous  Sep 24 2019  Apr 11 2019                36,000   \n",
       "2             Anonymous  Sep 23 2020  Apr 20 2020                30,000   \n",
       "3  Saale Farm And Grain  Nov 03 2020  Jun 16 2020               160,000   \n",
       "4         Adam Bonderer  Sep 08 2020  Apr 21 2020                30,000   \n",
       "\n",
       "  plantingRateUom soilTexture     yieldUnit yieldUnitAbbrev fipsCode  ...  \\\n",
       "0                   Silt Loam  Bushels/Acre            Bu/A    29183  ...   \n",
       "1                  Sandy Loam  Bushels/Acre            Bu/A    29183  ...   \n",
       "2                         n/a  Bushels/Acre            Bu/A    17133  ...   \n",
       "3                   Silt Loam  Bushels/Acre            Bu/A    29183  ...   \n",
       "4                   Silt Loam  Bushels/Acre            Bu/A    29183  ...   \n",
       "\n",
       "  advantageMessaging.performanceValueAvg  \\\n",
       "0                                  242.0   \n",
       "1                                  258.7   \n",
       "2                                  246.3   \n",
       "3                                   68.8   \n",
       "4                                  221.8   \n",
       "\n",
       "  advantageMessaging.isUsingAdvantageMessaging  \\\n",
       "0                                        False   \n",
       "1                                         True   \n",
       "2                                         True   \n",
       "3                                         True   \n",
       "4                                         True   \n",
       "\n",
       "  advantageMessaging.isUsingAverageMessaging  \\\n",
       "0                                       True   \n",
       "1                                      False   \n",
       "2                                      False   \n",
       "3                                      False   \n",
       "4                                      False   \n",
       "\n",
       "                           advantageMessaging.legend  \\\n",
       "0  [{\"item\":\"AM\",\"description\":\"Optimum\\u00ae Acr...   \n",
       "1  [{\"item\":\"AMXT\",\"description\":\"Optimum\\u00ae A...   \n",
       "2  [{\"item\":\"AM\",\"description\":\"Optimum\\u00ae Acr...   \n",
       "3  [{\"item\":\"Enlist E3\",\"description\":\"Enlist E3\\...   \n",
       "4  [{\"item\":\"AM\",\"description\":\"Optimum\\u00ae Acr...   \n",
       "\n",
       "  pricingDetails.dryingCost  pricingDetails.reportingMoisture  \\\n",
       "0                      0.04                              15.0   \n",
       "1                      0.04                              15.0   \n",
       "2                      0.04                              15.0   \n",
       "3                      0.00                              15.0   \n",
       "4                      0.04                              15.0   \n",
       "\n",
       "  pricingDetails.targetMoisture pricingDetails.unitPrice  \\\n",
       "0                          15.0                      3.5   \n",
       "1                          15.0                      4.0   \n",
       "2                          15.0                      3.5   \n",
       "3                          15.0                      8.5   \n",
       "4                          15.0                      3.5   \n",
       "\n",
       "  pricingDetails.formattedDryingCost pricingDetails.formattedUnitPrice  \n",
       "0                                .04                              3.50  \n",
       "1                                .04                              4.00  \n",
       "2                                .04                              3.50  \n",
       "3                                .00                              8.50  \n",
       "4                                .04                              3.50  \n",
       "\n",
       "[5 rows x 84 columns]"
      ]
     },
     "execution_count": 37,
     "metadata": {},
     "output_type": "execute_result"
    }
   ],
   "source": [
    "import bs4\n",
    "import pandas as pd\n",
    "import requests\n",
    "\n",
    "def extract_source(url):\n",
    "    agent = {\"User-Agent\":\"Mozilla/5.0\"}\n",
    "    source=requests.get(url, headers=agent)\n",
    "    \n",
    "    data = source.json()\n",
    "    return data\n",
    "\n",
    "df = pd.json_normalize(extract_source(url)['harvestReports'])\n",
    "df.head()\n",
    "# df.to_csv('example_parsing_2.csv', index=None)"
   ]
  },
  {
   "cell_type": "code",
   "execution_count": 40,
   "id": "d98fd89a",
   "metadata": {
    "ExecuteTime": {
     "end_time": "2023-05-24T16:13:51.940606Z",
     "start_time": "2023-05-24T16:13:51.928650Z"
    }
   },
   "outputs": [
    {
     "data": {
      "text/plain": [
       "array(['corn', 'soybeans'], dtype=object)"
      ]
     },
     "execution_count": 40,
     "metadata": {},
     "output_type": "execute_result"
    }
   ],
   "source": [
    "df.cropName.unique()"
   ]
  },
  {
   "cell_type": "code",
   "execution_count": 41,
   "id": "57b79126",
   "metadata": {
    "ExecuteTime": {
     "end_time": "2023-05-24T16:14:00.937494Z",
     "start_time": "2023-05-24T16:14:00.924200Z"
    }
   },
   "outputs": [
    {
     "data": {
      "text/plain": [
       "corn        628\n",
       "soybeans    211\n",
       "Name: cropName, dtype: int64"
      ]
     },
     "execution_count": 41,
     "metadata": {},
     "output_type": "execute_result"
    }
   ],
   "source": [
    "df.cropName.value_counts()"
   ]
  },
  {
   "cell_type": "code",
   "execution_count": null,
   "id": "3150a3f9",
   "metadata": {},
   "outputs": [],
   "source": []
  },
  {
   "cell_type": "code",
   "execution_count": 36,
   "id": "57e6ea10",
   "metadata": {
    "ExecuteTime": {
     "end_time": "2023-05-24T16:12:37.991189Z",
     "start_time": "2023-05-24T16:12:37.985279Z"
    }
   },
   "outputs": [],
   "source": [
    "url ='https://www.dekalbasgrowdeltapine.com/en-us/local-yield-results/_jcr_content/root/responsivegrid/harvest_results.harvest.json?brand=dekalbasgrowdeltapine&crop=corn&crop=soybeans&year=2022&year=2019&year=2020&year=2021&lat=38.6510111206033&lng=-90.536417186744&radius=200'"
   ]
  },
  {
   "cell_type": "code",
   "execution_count": 35,
   "id": "c3985aef",
   "metadata": {
    "ExecuteTime": {
     "end_time": "2023-05-24T15:40:50.776482Z",
     "start_time": "2023-05-24T15:40:50.709930Z"
    }
   },
   "outputs": [
    {
     "data": {
      "text/html": [
       "<div>\n",
       "<style scoped>\n",
       "    .dataframe tbody tr th:only-of-type {\n",
       "        vertical-align: middle;\n",
       "    }\n",
       "\n",
       "    .dataframe tbody tr th {\n",
       "        vertical-align: top;\n",
       "    }\n",
       "\n",
       "    .dataframe thead th {\n",
       "        text-align: right;\n",
       "    }\n",
       "</style>\n",
       "<table border=\"1\" class=\"dataframe\">\n",
       "  <thead>\n",
       "    <tr style=\"text-align: right;\">\n",
       "      <th></th>\n",
       "      <th>cooperatorName</th>\n",
       "      <th>harvestDate</th>\n",
       "      <th>plantingDate</th>\n",
       "      <th>plantingRate</th>\n",
       "      <th>seedRate</th>\n",
       "      <th>plantingRateUom</th>\n",
       "      <th>soilTexture</th>\n",
       "      <th>yieldUnit</th>\n",
       "      <th>yieldUnitAbbrev</th>\n",
       "      <th>fipsCode</th>\n",
       "      <th>...</th>\n",
       "      <th>advantageMessaging.performanceValueAvg</th>\n",
       "      <th>advantageMessaging.isUsingAdvantageMessaging</th>\n",
       "      <th>advantageMessaging.isUsingAverageMessaging</th>\n",
       "      <th>advantageMessaging.legend</th>\n",
       "      <th>pricingDetails.dryingCost</th>\n",
       "      <th>pricingDetails.reportingMoisture</th>\n",
       "      <th>pricingDetails.targetMoisture</th>\n",
       "      <th>pricingDetails.unitPrice</th>\n",
       "      <th>pricingDetails.formattedDryingCost</th>\n",
       "      <th>pricingDetails.formattedUnitPrice</th>\n",
       "    </tr>\n",
       "  </thead>\n",
       "  <tbody>\n",
       "    <tr>\n",
       "      <th>0</th>\n",
       "      <td>Not Available</td>\n",
       "      <td>Oct 04 2022</td>\n",
       "      <td>May 01 2022</td>\n",
       "      <td>32000</td>\n",
       "      <td></td>\n",
       "      <td>Seeds/Acre</td>\n",
       "      <td>Clay Loam</td>\n",
       "      <td>Bushels(56#)/ Acre</td>\n",
       "      <td>bu56/ac</td>\n",
       "      <td>17163</td>\n",
       "      <td>...</td>\n",
       "      <td>173.1</td>\n",
       "      <td>True</td>\n",
       "      <td>False</td>\n",
       "      <td></td>\n",
       "      <td>0.04</td>\n",
       "      <td>15.0</td>\n",
       "      <td>15.0</td>\n",
       "      <td>5.0</td>\n",
       "      <td>.04</td>\n",
       "      <td>5.00</td>\n",
       "    </tr>\n",
       "    <tr>\n",
       "      <th>1</th>\n",
       "      <td>Joe Gerson</td>\n",
       "      <td>Oct 24 2022</td>\n",
       "      <td>May 14 2022</td>\n",
       "      <td>34000</td>\n",
       "      <td></td>\n",
       "      <td>Seeds/Acre</td>\n",
       "      <td>Silt Loam</td>\n",
       "      <td>Bushels(56#)/ Acre</td>\n",
       "      <td>bu56/ac</td>\n",
       "      <td>17013</td>\n",
       "      <td>...</td>\n",
       "      <td>230.9</td>\n",
       "      <td>False</td>\n",
       "      <td>True</td>\n",
       "      <td></td>\n",
       "      <td>0.04</td>\n",
       "      <td>15.0</td>\n",
       "      <td>15.0</td>\n",
       "      <td>5.0</td>\n",
       "      <td>.04</td>\n",
       "      <td>5.00</td>\n",
       "    </tr>\n",
       "    <tr>\n",
       "      <th>2</th>\n",
       "      <td>Glendell H Farms</td>\n",
       "      <td>Nov 03 2022</td>\n",
       "      <td>May 12 2022</td>\n",
       "      <td>32000</td>\n",
       "      <td></td>\n",
       "      <td>Seeds/Acre</td>\n",
       "      <td>Clay Loam</td>\n",
       "      <td>Bushels(56#)/ Acre</td>\n",
       "      <td>bu56/ac</td>\n",
       "      <td>17133</td>\n",
       "      <td>...</td>\n",
       "      <td>175.5</td>\n",
       "      <td>True</td>\n",
       "      <td>False</td>\n",
       "      <td></td>\n",
       "      <td>0.04</td>\n",
       "      <td>15.0</td>\n",
       "      <td>15.0</td>\n",
       "      <td>5.0</td>\n",
       "      <td>.04</td>\n",
       "      <td>5.00</td>\n",
       "    </tr>\n",
       "    <tr>\n",
       "      <th>3</th>\n",
       "      <td>Don Schrader</td>\n",
       "      <td>Oct 03 2022</td>\n",
       "      <td>May 13 2022</td>\n",
       "      <td>34000</td>\n",
       "      <td></td>\n",
       "      <td>Seeds/Acre</td>\n",
       "      <td>Clay Loam</td>\n",
       "      <td>Bushels(56#)/ Acre</td>\n",
       "      <td>bu56/ac</td>\n",
       "      <td>17133</td>\n",
       "      <td>...</td>\n",
       "      <td>195.9</td>\n",
       "      <td>True</td>\n",
       "      <td>False</td>\n",
       "      <td></td>\n",
       "      <td>0.04</td>\n",
       "      <td>15.0</td>\n",
       "      <td>15.0</td>\n",
       "      <td>5.0</td>\n",
       "      <td>.04</td>\n",
       "      <td>5.00</td>\n",
       "    </tr>\n",
       "    <tr>\n",
       "      <th>4</th>\n",
       "      <td>Dietz Dairy Farm</td>\n",
       "      <td>Oct 22 2022</td>\n",
       "      <td>Apr 26 2022</td>\n",
       "      <td>34000</td>\n",
       "      <td></td>\n",
       "      <td>Seeds/Acre</td>\n",
       "      <td>Silt Loam</td>\n",
       "      <td>Bushels(56#)/ Acre</td>\n",
       "      <td>bu56/ac</td>\n",
       "      <td>17163</td>\n",
       "      <td>...</td>\n",
       "      <td>236.0</td>\n",
       "      <td>True</td>\n",
       "      <td>False</td>\n",
       "      <td></td>\n",
       "      <td>0.04</td>\n",
       "      <td>15.0</td>\n",
       "      <td>15.0</td>\n",
       "      <td>5.0</td>\n",
       "      <td>.04</td>\n",
       "      <td>5.00</td>\n",
       "    </tr>\n",
       "  </tbody>\n",
       "</table>\n",
       "<p>5 rows × 84 columns</p>\n",
       "</div>"
      ],
      "text/plain": [
       "     cooperatorName  harvestDate plantingDate plantingRate seedRate  \\\n",
       "0     Not Available  Oct 04 2022  May 01 2022        32000            \n",
       "1        Joe Gerson  Oct 24 2022  May 14 2022        34000            \n",
       "2  Glendell H Farms  Nov 03 2022  May 12 2022        32000            \n",
       "3      Don Schrader  Oct 03 2022  May 13 2022        34000            \n",
       "4  Dietz Dairy Farm  Oct 22 2022  Apr 26 2022        34000            \n",
       "\n",
       "  plantingRateUom soilTexture           yieldUnit yieldUnitAbbrev fipsCode  \\\n",
       "0      Seeds/Acre   Clay Loam  Bushels(56#)/ Acre         bu56/ac    17163   \n",
       "1      Seeds/Acre   Silt Loam  Bushels(56#)/ Acre         bu56/ac    17013   \n",
       "2      Seeds/Acre   Clay Loam  Bushels(56#)/ Acre         bu56/ac    17133   \n",
       "3      Seeds/Acre   Clay Loam  Bushels(56#)/ Acre         bu56/ac    17133   \n",
       "4      Seeds/Acre   Silt Loam  Bushels(56#)/ Acre         bu56/ac    17163   \n",
       "\n",
       "   ... advantageMessaging.performanceValueAvg  \\\n",
       "0  ...                                  173.1   \n",
       "1  ...                                  230.9   \n",
       "2  ...                                  175.5   \n",
       "3  ...                                  195.9   \n",
       "4  ...                                  236.0   \n",
       "\n",
       "  advantageMessaging.isUsingAdvantageMessaging  \\\n",
       "0                                         True   \n",
       "1                                        False   \n",
       "2                                         True   \n",
       "3                                         True   \n",
       "4                                         True   \n",
       "\n",
       "  advantageMessaging.isUsingAverageMessaging advantageMessaging.legend  \\\n",
       "0                                      False                             \n",
       "1                                       True                             \n",
       "2                                      False                             \n",
       "3                                      False                             \n",
       "4                                      False                             \n",
       "\n",
       "  pricingDetails.dryingCost  pricingDetails.reportingMoisture  \\\n",
       "0                      0.04                              15.0   \n",
       "1                      0.04                              15.0   \n",
       "2                      0.04                              15.0   \n",
       "3                      0.04                              15.0   \n",
       "4                      0.04                              15.0   \n",
       "\n",
       "  pricingDetails.targetMoisture pricingDetails.unitPrice  \\\n",
       "0                          15.0                      5.0   \n",
       "1                          15.0                      5.0   \n",
       "2                          15.0                      5.0   \n",
       "3                          15.0                      5.0   \n",
       "4                          15.0                      5.0   \n",
       "\n",
       "  pricingDetails.formattedDryingCost pricingDetails.formattedUnitPrice  \n",
       "0                                .04                              5.00  \n",
       "1                                .04                              5.00  \n",
       "2                                .04                              5.00  \n",
       "3                                .04                              5.00  \n",
       "4                                .04                              5.00  \n",
       "\n",
       "[5 rows x 84 columns]"
      ]
     },
     "execution_count": 35,
     "metadata": {},
     "output_type": "execute_result"
    }
   ],
   "source": [
    "df.head()"
   ]
  },
  {
   "cell_type": "code",
   "execution_count": 30,
   "id": "bf5119d5",
   "metadata": {
    "ExecuteTime": {
     "end_time": "2023-05-23T20:07:10.391576Z",
     "start_time": "2023-05-23T20:07:09.419510Z"
    }
   },
   "outputs": [
    {
     "name": "stdout",
     "output_type": "stream",
     "text": [
      "None\n"
     ]
    }
   ],
   "source": [
    "import bs4\n",
    "import requests\n",
    "\n",
    "def extract_source(url):\n",
    "    agent = {\"User-Agent\":\"Mozilla/5.0\"}\n",
    "    source=requests.get(url, headers=agent).text\n",
    "    return source\n",
    "\n",
    "def extract_data(source):\n",
    "    soup=bs4.BeautifulSoup(source, 'lxml')\n",
    "    names = soup.findAll(\"grossRevenueAdvantage\")\n",
    "    for i in names:\n",
    "        print(\"i\")\n",
    "\n",
    "print(extract_data(extract_source(html)))"
   ]
  },
  {
   "cell_type": "code",
   "execution_count": 29,
   "id": "af4219f6",
   "metadata": {
    "ExecuteTime": {
     "end_time": "2023-05-23T19:59:02.468820Z",
     "start_time": "2023-05-23T19:59:02.454931Z"
    }
   },
   "outputs": [
    {
     "name": "stdout",
     "output_type": "stream",
     "text": [
      "Encountered a start tag: html\n",
      "Encountered a start tag: head\n",
      "Encountered a start tag: title\n",
      "Encountered some data  : Test\n",
      "Encountered an end tag : title\n",
      "Encountered an end tag : head\n",
      "Encountered a start tag: body\n",
      "Encountered a start tag: h1\n",
      "Encountered some data  : Parse me!\n",
      "Encountered an end tag : h1\n",
      "Encountered an end tag : body\n",
      "Encountered an end tag : html\n"
     ]
    }
   ],
   "source": [
    "from html.parser import HTMLParser\n",
    "\n",
    "class MyHTMLParser(HTMLParser):\n",
    "    def handle_starttag(self, tag, attrs):\n",
    "        print(\"Encountered a start tag:\", tag)\n",
    "\n",
    "    def handle_endtag(self, tag):\n",
    "        print(\"Encountered an end tag :\", tag)\n",
    "\n",
    "    def handle_data(self, data):\n",
    "        print(\"Encountered some data  :\", data)\n",
    "\n",
    "parser = MyHTMLParser()\n",
    "parser.feed('<html><head><title>Test</title></head>'\n",
    "            '<body><h1>Parse me!</h1></body></html>')"
   ]
  },
  {
   "cell_type": "code",
   "execution_count": null,
   "id": "72539c8a",
   "metadata": {},
   "outputs": [],
   "source": []
  },
  {
   "cell_type": "code",
   "execution_count": null,
   "id": "e725827a",
   "metadata": {},
   "outputs": [],
   "source": []
  },
  {
   "cell_type": "code",
   "execution_count": null,
   "id": "ad0f4b10",
   "metadata": {},
   "outputs": [],
   "source": []
  },
  {
   "cell_type": "code",
   "execution_count": 9,
   "id": "96b7ee89",
   "metadata": {
    "ExecuteTime": {
     "end_time": "2023-05-23T12:57:00.153456Z",
     "start_time": "2023-05-23T12:57:00.146688Z"
    }
   },
   "outputs": [],
   "source": [
    "for link in soup.find_all('a'):\n",
    "    print(link.get('href'))"
   ]
  },
  {
   "cell_type": "code",
   "execution_count": null,
   "id": "e143d875",
   "metadata": {},
   "outputs": [],
   "source": []
  },
  {
   "cell_type": "code",
   "execution_count": 19,
   "id": "635746ee",
   "metadata": {
    "ExecuteTime": {
     "end_time": "2023-05-23T12:54:07.858255Z",
     "start_time": "2023-05-23T12:54:07.822278Z"
    }
   },
   "outputs": [
    {
     "ename": "ModuleNotFoundError",
     "evalue": "No module named 'urllib2'",
     "output_type": "error",
     "traceback": [
      "\u001b[0;31m---------------------------------------------------------------------------\u001b[0m",
      "\u001b[0;31mModuleNotFoundError\u001b[0m                       Traceback (most recent call last)",
      "Input \u001b[0;32mIn [19]\u001b[0m, in \u001b[0;36m<cell line: 1>\u001b[0;34m()\u001b[0m\n\u001b[0;32m----> 1\u001b[0m \u001b[38;5;28;01mimport\u001b[39;00m \u001b[38;5;21;01murllib2\u001b[39;00m\n\u001b[1;32m      2\u001b[0m \u001b[38;5;28;01mfrom\u001b[39;00m \u001b[38;5;21;01mBeautifulSoup\u001b[39;00m \u001b[38;5;28;01mimport\u001b[39;00m BeautifulSoup\n\u001b[1;32m      4\u001b[0m page \u001b[38;5;241m=\u001b[39m urllib2\u001b[38;5;241m.\u001b[39murlopen(html)\n",
      "\u001b[0;31mModuleNotFoundError\u001b[0m: No module named 'urllib2'"
     ]
    }
   ],
   "source": [
    "import urllib2\n",
    "from BeautifulSoup import BeautifulSoup\n",
    "\n",
    "page = urllib2.urlopen(html)\n",
    "soup = BeautifulSoup(page)\n",
    "\n",
    "x = soup.body.find('div', attrs={'class' : 'container'}).text"
   ]
  },
  {
   "cell_type": "code",
   "execution_count": 16,
   "id": "9311b6e5",
   "metadata": {
    "ExecuteTime": {
     "end_time": "2023-05-23T12:51:39.429722Z",
     "start_time": "2023-05-23T12:51:39.136914Z"
    }
   },
   "outputs": [
    {
     "name": "stderr",
     "output_type": "stream",
     "text": [
      "/home/ipython/software/python/python39/virtualenvs/pairs-python3/lib/python3.9/site-packages/bs4/__init__.py:431: MarkupResemblesLocatorWarning: \"https://www.dekalbasgrowdeltapine.com/en-us/local-yield-results/_jcr_content/root/responsivegrid/harvest_results.harvest.json?brand=dekalbasgrowdeltapine&crop=corn&year=2022&lat=38.6510111206033&lng=-90.536417186744&radius=200\" looks like a URL. Beautiful Soup is not an HTTP client. You should probably use an HTTP client like requests to get the document behind the URL, and feed that document to Beautiful Soup.\n",
      "  warnings.warn(\n"
     ]
    },
    {
     "ename": "AttributeError",
     "evalue": "'NoneType' object has no attribute 'text'",
     "output_type": "error",
     "traceback": [
      "\u001b[0;31m---------------------------------------------------------------------------\u001b[0m",
      "\u001b[0;31mAttributeError\u001b[0m                            Traceback (most recent call last)",
      "Input \u001b[0;32mIn [16]\u001b[0m, in \u001b[0;36m<cell line: 7>\u001b[0;34m()\u001b[0m\n\u001b[1;32m      5\u001b[0m \u001b[38;5;66;03m# html = #the HTML code you've written above\u001b[39;00m\n\u001b[1;32m      6\u001b[0m parsed_html \u001b[38;5;241m=\u001b[39m BeautifulSoup(html)\n\u001b[0;32m----> 7\u001b[0m \u001b[38;5;28mprint\u001b[39m(\u001b[43mparsed_html\u001b[49m\u001b[38;5;241;43m.\u001b[39;49m\u001b[43mbody\u001b[49m\u001b[38;5;241;43m.\u001b[39;49m\u001b[43mfind\u001b[49m\u001b[43m(\u001b[49m\u001b[38;5;124;43m'\u001b[39;49m\u001b[38;5;124;43mdiv\u001b[39;49m\u001b[38;5;124;43m'\u001b[39;49m\u001b[43m,\u001b[49m\u001b[43m \u001b[49m\u001b[43mattrs\u001b[49m\u001b[38;5;241;43m=\u001b[39;49m\u001b[43m{\u001b[49m\u001b[38;5;124;43m'\u001b[39;49m\u001b[38;5;124;43mclass\u001b[39;49m\u001b[38;5;124;43m'\u001b[39;49m\u001b[43m:\u001b[49m\u001b[38;5;124;43m'\u001b[39;49m\u001b[38;5;124;43mcontainer\u001b[39;49m\u001b[38;5;124;43m'\u001b[39;49m\u001b[43m}\u001b[49m\u001b[43m)\u001b[49m\u001b[38;5;241;43m.\u001b[39;49m\u001b[43mtext\u001b[49m)\n",
      "\u001b[0;31mAttributeError\u001b[0m: 'NoneType' object has no attribute 'text'"
     ]
    }
   ],
   "source": [
    "try: \n",
    "    from BeautifulSoup import BeautifulSoup\n",
    "except ImportError:\n",
    "    from bs4 import BeautifulSoup\n",
    "# html = #the HTML code you've written above\n",
    "parsed_html = BeautifulSoup(html)\n",
    "print(parsed_html.body.find('div', attrs={'class':'container'}).text)"
   ]
  },
  {
   "cell_type": "code",
   "execution_count": null,
   "id": "a3148ddf",
   "metadata": {},
   "outputs": [],
   "source": []
  },
  {
   "cell_type": "code",
   "execution_count": null,
   "id": "2004d20e",
   "metadata": {},
   "outputs": [],
   "source": []
  },
  {
   "cell_type": "code",
   "execution_count": 2,
   "id": "dcae1d9b",
   "metadata": {
    "ExecuteTime": {
     "end_time": "2023-05-22T19:23:50.638151Z",
     "start_time": "2023-05-22T19:23:49.073720Z"
    }
   },
   "outputs": [
    {
     "ename": "ModuleNotFoundError",
     "evalue": "No module named 'selenium'",
     "output_type": "error",
     "traceback": [
      "\u001b[0;31m---------------------------------------------------------------------------\u001b[0m",
      "\u001b[0;31mModuleNotFoundError\u001b[0m                       Traceback (most recent call last)",
      "Input \u001b[0;32mIn [2]\u001b[0m, in \u001b[0;36m<cell line: 1>\u001b[0;34m()\u001b[0m\n\u001b[0;32m----> 1\u001b[0m \u001b[38;5;28;01mfrom\u001b[39;00m \u001b[38;5;21;01mselenium\u001b[39;00m \u001b[38;5;28;01mimport\u001b[39;00m webdriver \n\u001b[1;32m      2\u001b[0m \u001b[38;5;28;01mfrom\u001b[39;00m \u001b[38;5;21;01mselenium\u001b[39;00m\u001b[38;5;21;01m.\u001b[39;00m\u001b[38;5;21;01mwebdriver\u001b[39;00m\u001b[38;5;21;01m.\u001b[39;00m\u001b[38;5;21;01mcommon\u001b[39;00m\u001b[38;5;21;01m.\u001b[39;00m\u001b[38;5;21;01mby\u001b[39;00m \u001b[38;5;28;01mimport\u001b[39;00m By \n\u001b[1;32m      3\u001b[0m \u001b[38;5;28;01mfrom\u001b[39;00m \u001b[38;5;21;01mselenium\u001b[39;00m\u001b[38;5;21;01m.\u001b[39;00m\u001b[38;5;21;01mwebdriver\u001b[39;00m\u001b[38;5;21;01m.\u001b[39;00m\u001b[38;5;21;01mchrome\u001b[39;00m\u001b[38;5;21;01m.\u001b[39;00m\u001b[38;5;21;01mservice\u001b[39;00m \u001b[38;5;28;01mimport\u001b[39;00m Service \u001b[38;5;28;01mas\u001b[39;00m ChromeService \n",
      "\u001b[0;31mModuleNotFoundError\u001b[0m: No module named 'selenium'"
     ]
    }
   ],
   "source": [
    "from selenium import webdriver \n",
    "from selenium.webdriver.common.by import By \n",
    "from selenium.webdriver.chrome.service import Service as ChromeService \n",
    "from webdriver_manager.chrome import ChromeDriverManager \n",
    "import time \n",
    "import scrapy\n",
    " \n",
    "options = webdriver.ChromeOptions() \n",
    "options.headless = True \n",
    "# driver = webdriver.Chrome(service=ChromeService(ChromeDriverManager().install()), options=options) "
   ]
  },
  {
   "cell_type": "code",
   "execution_count": 3,
   "id": "51a3c75b",
   "metadata": {
    "ExecuteTime": {
     "end_time": "2023-04-30T13:17:12.872608Z",
     "start_time": "2023-04-30T13:17:12.867839Z"
    }
   },
   "outputs": [],
   "source": [
    "from selenium import webdriver\n",
    "from selenium.webdriver.chrome.service import Service as ChromeService\n",
    "from webdriver_manager.chrome import ChromeDriverManager"
   ]
  },
  {
   "cell_type": "code",
   "execution_count": 4,
   "id": "4c2ace4c",
   "metadata": {
    "ExecuteTime": {
     "end_time": "2023-04-30T13:17:13.192503Z",
     "start_time": "2023-04-30T13:17:13.186834Z"
    }
   },
   "outputs": [],
   "source": [
    "from selenium import webdriver\n",
    "from selenium.webdriver.chrome.options import Options\n",
    "from bs4 import BeautifulSoup\n",
    "import os\n",
    "import requests"
   ]
  },
  {
   "cell_type": "code",
   "execution_count": 5,
   "id": "70f89a0f",
   "metadata": {
    "ExecuteTime": {
     "end_time": "2023-04-30T13:17:15.680972Z",
     "start_time": "2023-04-30T13:17:13.484829Z"
    }
   },
   "outputs": [],
   "source": [
    "import re\n",
    "import urllib.request\n",
    "response = urllib.request.urlopen('https://burrusseed.com/burrus-plot-data/')\n",
    "html = response.read()\n",
    "text = html.decode()\n",
    "# re.findall('(.*?)',text)"
   ]
  },
  {
   "cell_type": "code",
   "execution_count": 6,
   "id": "67323fe2",
   "metadata": {
    "ExecuteTime": {
     "end_time": "2023-04-30T13:17:15.690960Z",
     "start_time": "2023-04-30T13:17:15.686278Z"
    }
   },
   "outputs": [],
   "source": [
    "# url = 'https://www.dairylandseed.com/yield-data/corn/?search=state&state=IL&year=2022&cropType=0'\n",
    "# soup = BeautifulSoup(test_file)\n",
    "# print(soup.find(id=\"test\").get_text())"
   ]
  },
  {
   "cell_type": "code",
   "execution_count": 8,
   "id": "95c30b9d",
   "metadata": {
    "ExecuteTime": {
     "end_time": "2023-04-30T13:17:29.206042Z",
     "start_time": "2023-04-30T13:17:29.167036Z"
    }
   },
   "outputs": [
    {
     "ename": "NameError",
     "evalue": "name 'scrapy' is not defined",
     "output_type": "error",
     "traceback": [
      "\u001b[0;31m---------------------------------------------------------------------------\u001b[0m",
      "\u001b[0;31mNameError\u001b[0m                                 Traceback (most recent call last)",
      "Input \u001b[0;32mIn [8]\u001b[0m, in \u001b[0;36m<cell line: 1>\u001b[0;34m()\u001b[0m\n\u001b[0;32m----> 1\u001b[0m \u001b[43mscrapy\u001b[49m\n",
      "\u001b[0;31mNameError\u001b[0m: name 'scrapy' is not defined"
     ]
    }
   ],
   "source": [
    "scrapy.Spider"
   ]
  },
  {
   "cell_type": "code",
   "execution_count": null,
   "id": "41a818d1",
   "metadata": {},
   "outputs": [],
   "source": []
  },
  {
   "cell_type": "code",
   "execution_count": 7,
   "id": "784eb01e",
   "metadata": {
    "ExecuteTime": {
     "end_time": "2023-04-30T13:17:16.614252Z",
     "start_time": "2023-04-30T13:17:15.695146Z"
    }
   },
   "outputs": [
    {
     "ename": "NameError",
     "evalue": "name 'url' is not defined",
     "output_type": "error",
     "traceback": [
      "\u001b[0;31m---------------------------------------------------------------------------\u001b[0m",
      "\u001b[0;31mNameError\u001b[0m                                 Traceback (most recent call last)",
      "Input \u001b[0;32mIn [7]\u001b[0m, in \u001b[0;36m<cell line: 1>\u001b[0;34m()\u001b[0m\n\u001b[0;32m----> 1\u001b[0m page \u001b[38;5;241m=\u001b[39m urlopen(\u001b[43murl\u001b[49m)\n",
      "\u001b[0;31mNameError\u001b[0m: name 'url' is not defined"
     ]
    }
   ],
   "source": [
    "page = urlopen(url)"
   ]
  },
  {
   "cell_type": "code",
   "execution_count": 55,
   "id": "7f39063b",
   "metadata": {
    "ExecuteTime": {
     "end_time": "2023-04-22T21:54:22.986495Z",
     "start_time": "2023-04-22T21:54:22.977441Z"
    }
   },
   "outputs": [
    {
     "data": {
      "text/plain": [
       "<http.client.HTTPResponse at 0x7fce257a3d90>"
      ]
     },
     "execution_count": 55,
     "metadata": {},
     "output_type": "execute_result"
    }
   ],
   "source": [
    "page"
   ]
  },
  {
   "cell_type": "code",
   "execution_count": 56,
   "id": "58874fc7",
   "metadata": {
    "ExecuteTime": {
     "end_time": "2023-04-22T21:54:25.596712Z",
     "start_time": "2023-04-22T21:54:25.590335Z"
    }
   },
   "outputs": [],
   "source": [
    "html_bytes = page.read()"
   ]
  },
  {
   "cell_type": "code",
   "execution_count": 57,
   "id": "47243529",
   "metadata": {
    "ExecuteTime": {
     "end_time": "2023-04-22T21:54:25.993837Z",
     "start_time": "2023-04-22T21:54:25.987966Z"
    }
   },
   "outputs": [],
   "source": [
    "html = html_bytes.decode(\"utf8\")"
   ]
  },
  {
   "cell_type": "code",
   "execution_count": 67,
   "id": "b66ba1cb",
   "metadata": {
    "ExecuteTime": {
     "end_time": "2023-04-22T22:27:44.195496Z",
     "start_time": "2023-04-22T22:27:44.190007Z"
    }
   },
   "outputs": [],
   "source": [
    "# print(html)"
   ]
  },
  {
   "cell_type": "code",
   "execution_count": 59,
   "id": "fd249f5d",
   "metadata": {
    "ExecuteTime": {
     "end_time": "2023-04-22T21:54:27.751064Z",
     "start_time": "2023-04-22T21:54:27.742194Z"
    }
   },
   "outputs": [
    {
     "data": {
      "text/plain": [
       "68"
      ]
     },
     "execution_count": 59,
     "metadata": {},
     "output_type": "execute_result"
    }
   ],
   "source": [
    "title_index = html.find(\"<title>\")\n",
    "title_index"
   ]
  },
  {
   "cell_type": "code",
   "execution_count": 60,
   "id": "e5ee9c70",
   "metadata": {
    "ExecuteTime": {
     "end_time": "2023-04-22T21:54:28.498507Z",
     "start_time": "2023-04-22T21:54:28.489789Z"
    }
   },
   "outputs": [
    {
     "data": {
      "text/plain": [
       "75"
      ]
     },
     "execution_count": 60,
     "metadata": {},
     "output_type": "execute_result"
    }
   ],
   "source": [
    "start_index = title_index + len(\"<title>\")\n",
    "start_index"
   ]
  },
  {
   "cell_type": "code",
   "execution_count": 61,
   "id": "4a8e377a",
   "metadata": {
    "ExecuteTime": {
     "end_time": "2023-04-22T21:54:29.150561Z",
     "start_time": "2023-04-22T21:54:29.141703Z"
    }
   },
   "outputs": [
    {
     "data": {
      "text/plain": [
       "82"
      ]
     },
     "execution_count": 61,
     "metadata": {},
     "output_type": "execute_result"
    }
   ],
   "source": [
    "end_index = html.find(\"</title>\")\n",
    "end_index"
   ]
  },
  {
   "cell_type": "code",
   "execution_count": 62,
   "id": "d32ad367",
   "metadata": {
    "ExecuteTime": {
     "end_time": "2023-04-22T21:54:29.547109Z",
     "start_time": "2023-04-22T21:54:29.538327Z"
    }
   },
   "outputs": [
    {
     "data": {
      "text/plain": [
       "'Angular'"
      ]
     },
     "execution_count": 62,
     "metadata": {},
     "output_type": "execute_result"
    }
   ],
   "source": [
    "title = html[start_index:end_index]\n",
    "title"
   ]
  },
  {
   "cell_type": "code",
   "execution_count": null,
   "id": "01ba9ced",
   "metadata": {
    "ExecuteTime": {
     "end_time": "2023-04-14T19:03:40.615010Z",
     "start_time": "2023-04-14T19:03:39.682046Z"
    }
   },
   "outputs": [],
   "source": []
  },
  {
   "cell_type": "code",
   "execution_count": null,
   "id": "b894cc1a",
   "metadata": {
    "ExecuteTime": {
     "end_time": "2023-04-21T16:47:26.857115Z",
     "start_time": "2023-04-21T16:47:26.737156Z"
    }
   },
   "outputs": [],
   "source": []
  },
  {
   "cell_type": "code",
   "execution_count": 63,
   "id": "d6bebd28",
   "metadata": {
    "ExecuteTime": {
     "end_time": "2023-04-22T21:54:31.933668Z",
     "start_time": "2023-04-22T21:54:31.928369Z"
    }
   },
   "outputs": [],
   "source": [
    "url = 'https://burrusseed.com/burrus-plot-data/'"
   ]
  },
  {
   "cell_type": "code",
   "execution_count": 64,
   "id": "ca598c07",
   "metadata": {
    "ExecuteTime": {
     "end_time": "2023-04-22T21:54:33.267753Z",
     "start_time": "2023-04-22T21:54:32.520551Z"
    }
   },
   "outputs": [],
   "source": [
    "response = requests.get(url)"
   ]
  },
  {
   "cell_type": "code",
   "execution_count": 65,
   "id": "aa3631a2",
   "metadata": {
    "ExecuteTime": {
     "end_time": "2023-04-22T21:54:33.278465Z",
     "start_time": "2023-04-22T21:54:33.273082Z"
    }
   },
   "outputs": [],
   "source": [
    "html = response.text"
   ]
  },
  {
   "cell_type": "code",
   "execution_count": 66,
   "id": "8750381a",
   "metadata": {
    "ExecuteTime": {
     "end_time": "2023-04-22T21:54:34.064267Z",
     "start_time": "2023-04-22T21:54:34.054617Z"
    }
   },
   "outputs": [
    {
     "name": "stdout",
     "output_type": "stream",
     "text": [
      "<!DOCTYPE html>\r\n",
      "<html lang=\"en-US\">\r\n",
      "<head>\r\n",
      "\t<meta charset=\"UTF-8\" />\r\n",
      "\t<meta name=\"viewport\" content=\"width=device-width, initial-scale=1\">\r\n",
      "\t<link rel=\"profile\" href=\"http://gmpg.org/xfn/11\" />\r\n",
      "\t<script type='text/javascript'>\n",
      "/* <![CDATA[ */\n",
      "var evf_settings = {\"currency_code\":\"USD\",\"currency_thousands\":\",\",\"currency_decimal\":\".\",\"currency_symbol\":\"$\",\"currency_symbol_pos\":\"left\"}\n",
      "/* ]]> */\n",
      "</script>\n",
      "<meta name='robots' content='index, follow, max-image-preview:large, max-snippet:-1, max-video-preview:-1' />\n",
      "\n",
      "\t<!-- This site is optimized with the Yoast SEO plugin v20.5 - https://yoast.com/wordpress/plugins/seo/ -->\n",
      "\t<title>Plot Data - Burrus Seed</title>\n",
      "\t<meta name=\"description\" content=\"See 2022 harvest data from corn and soybean plots across the Burrus Seed footprint. Adjust the date to see historical data as well.\" />\n",
      "\t<link rel=\"canonical\" href=\"https://burrusseed.com/burrus-plot-data/\" />\n",
      "\t<meta property=\"og:locale\" content=\"en_US\" />\n",
      "\t<meta property=\"og:type\" content=\"article\" />\n",
      "\t<meta property=\"og:title\" content=\"Plot Data - Burrus Seed\" />\n",
      "\t<meta property=\"og:description\" content=\"See 2022 harvest data from corn and soybean plots across the Burrus Seed footprint. Adjust the date to see historical data as well.\" />\n",
      "\t<meta property=\"og:url\" content=\"https://burrusseed.com/burrus-plot-data/\" />\n",
      "\t<meta property=\"og:site_name\" content=\"Burrus Seed\" />\n",
      "\t<meta property=\"article:published_time\" content=\"2022-09-02T14:02:00+00:00\" />\n",
      "\t<meta property=\"article:modified_time\" content=\"2022-10-24T14:51:45+00:00\" />\n",
      "\t<meta property=\"og:image\" content=\"https://burrusseed.com/wp-content/uploads/2020/09/Products-Plot-Data.jpg\" />\n",
      "\t<meta property=\"og:image:width\" content=\"800\" />\n",
      "\t<meta property=\"og:image:height\" content=\"445\" />\n",
      "\t<meta property=\"og:image:type\" content=\"image/jpeg\" />\n",
      "\t<meta name=\"author\" content=\"BURRUSadmin\" />\n",
      "\t<meta name=\"twitter:card\" content=\"summary_large_image\" />\n",
      "\t<meta name=\"twitter:label1\" content=\"Written by\" />\n",
      "\t<meta name=\"twitter:data1\" content=\"BURRUSadmin\" />\n",
      "\t<meta name=\"twitter:label2\" content=\"Est. reading time\" />\n",
      "\t<meta name=\"twitter:data2\" content=\"1 minute\" />\n",
      "\t<script type=\"application/ld+json\" class=\"yoast-schema-graph\">{\"@context\":\"https://schema.org\",\"@graph\":[{\"@type\":\"Article\",\"@id\":\"https://burrusseed.com/burrus-plot-data/#article\",\"isPartOf\":{\"@id\":\"https://burrusseed.com/burrus-plot-data/\"},\"author\":{\"name\":\"BURRUSadmin\",\"@id\":\"https://burrusseed.com/#/schema/person/5cd59e1451ce51dca05a7fa9d979b58b\"},\"headline\":\"Plot Data\",\"datePublished\":\"2022-09-02T14:02:00+00:00\",\"dateModified\":\"2022-10-24T14:51:45+00:00\",\"mainEntityOfPage\":{\"@id\":\"https://burrusseed.com/burrus-plot-data/\"},\"wordCount\":12,\"publisher\":{\"@id\":\"https://burrusseed.com/#organization\"},\"image\":{\"@id\":\"https://burrusseed.com/burrus-plot-data/#primaryimage\"},\"thumbnailUrl\":\"https://burrusseed.com/wp-content/uploads/2020/09/Products-Plot-Data.jpg\",\"articleSection\":[\"Latest\",\"Products\"],\"inLanguage\":\"en-US\"},{\"@type\":\"WebPage\",\"@id\":\"https://burrusseed.com/burrus-plot-data/\",\"url\":\"https://burrusseed.com/burrus-plot-data/\",\"name\":\"Plot Data - Burrus Seed\",\"isPartOf\":{\"@id\":\"https://burrusseed.com/#website\"},\"primaryImageOfPage\":{\"@id\":\"https://burrusseed.com/burrus-plot-data/#primaryimage\"},\"image\":{\"@id\":\"https://burrusseed.com/burrus-plot-data/#primaryimage\"},\"thumbnailUrl\":\"https://burrusseed.com/wp-content/uploads/2020/09/Products-Plot-Data.jpg\",\"datePublished\":\"2022-09-02T14:02:00+00:00\",\"dateModified\":\"2022-10-24T14:51:45+00:00\",\"description\":\"See 2022 harvest data from corn and soybean plots across the Burrus Seed footprint. Adjust the date to see historical data as well.\",\"breadcrumb\":{\"@id\":\"https://burrusseed.com/burrus-plot-data/#breadcrumb\"},\"inLanguage\":\"en-US\",\"potentialAction\":[{\"@type\":\"ReadAction\",\"target\":[\"https://burrusseed.com/burrus-plot-data/\"]}]},{\"@type\":\"ImageObject\",\"inLanguage\":\"en-US\",\"@id\":\"https://burrusseed.com/burrus-plot-data/#primaryimage\",\"url\":\"https://burrusseed.com/wp-content/uploads/2020/09/Products-Plot-Data.jpg\",\"contentUrl\":\"https://burrusseed.com/wp-content/uploads/2020/09/Products-Plot-Data.jpg\",\"width\":800,\"height\":445},{\"@type\":\"BreadcrumbList\",\"@id\":\"https://burrusseed.com/burrus-plot-data/#breadcrumb\",\"itemListElement\":[{\"@type\":\"ListItem\",\"position\":1,\"name\":\"Home\",\"item\":\"https://burrusseed.com/\"},{\"@type\":\"ListItem\",\"position\":2,\"name\":\"Plot Data\"}]},{\"@type\":\"WebSite\",\"@id\":\"https://burrusseed.com/#website\",\"url\":\"https://burrusseed.com/\",\"name\":\"Burrus Seed\",\"description\":\"Hybrid Corn and Soybean Seed Products\",\"publisher\":{\"@id\":\"https://burrusseed.com/#organization\"},\"potentialAction\":[{\"@type\":\"SearchAction\",\"target\":{\"@type\":\"EntryPoint\",\"urlTemplate\":\"https://burrusseed.com/?s={search_term_string}\"},\"query-input\":\"required name=search_term_string\"}],\"inLanguage\":\"en-US\"},{\"@type\":\"Organization\",\"@id\":\"https://burrusseed.com/#organization\",\"name\":\"Burrus Seed\",\"url\":\"https://burrusseed.com/\",\"logo\":{\"@type\":\"ImageObject\",\"inLanguage\":\"en-US\",\"@id\":\"https://burrusseed.com/#/schema/logo/image/\",\"url\":\"https://burrusseed.com/wp-content/uploads/2019/07/Arrow-and-Burrus.png\",\"contentUrl\":\"https://burrusseed.com/wp-content/uploads/2019/07/Arrow-and-Burrus.png\",\"width\":350,\"height\":102,\"caption\":\"Burrus Seed\"},\"image\":{\"@id\":\"https://burrusseed.com/#/schema/logo/image/\"}},{\"@type\":\"Person\",\"@id\":\"https://burrusseed.com/#/schema/person/5cd59e1451ce51dca05a7fa9d979b58b\",\"name\":\"BURRUSadmin\",\"image\":{\"@type\":\"ImageObject\",\"inLanguage\":\"en-US\",\"@id\":\"https://burrusseed.com/#/schema/person/image/\",\"url\":\"https://secure.gravatar.com/avatar/a349b0d027a7ef340216e1e1108fd7f1?s=96&d=mm&r=g\",\"contentUrl\":\"https://secure.gravatar.com/avatar/a349b0d027a7ef340216e1e1108fd7f1?s=96&d=mm&r=g\",\"caption\":\"BURRUSadmin\"},\"url\":\"https://burrusseed.com/author/burrusadmin/\"}]}</script>\n",
      "\t<!-- / Yoast SEO plugin. -->\n",
      "\n",
      "\n",
      "<link rel='dns-prefetch' href='//fonts.googleapis.com' />\n",
      "<link rel=\"alternate\" type=\"application/rss+xml\" title=\"Burrus Seed &raquo; Feed\" href=\"https://burrusseed.com/feed/\" />\n",
      "<link rel=\"alternate\" type=\"application/rss+xml\" title=\"Burrus Seed &raquo; Comments Feed\" href=\"https://burrusseed.com/comments/feed/\" />\n",
      "<script type=\"text/javascript\">\n",
      "window._wpemojiSettings = {\"baseUrl\":\"https:\\/\\/s.w.org\\/images\\/core\\/emoji\\/14.0.0\\/72x72\\/\",\"ext\":\".png\",\"svgUrl\":\"https:\\/\\/s.w.org\\/images\\/core\\/emoji\\/14.0.0\\/svg\\/\",\"svgExt\":\".svg\",\"source\":{\"concatemoji\":\"https:\\/\\/burrusseed.com\\/wp-includes\\/js\\/wp-emoji-release.min.js?ver=6.2\"}};\n",
      "/*! This file is auto-generated */\n",
      "!function(e,a,t){var n,r,o,i=a.createElement(\"canvas\"),p=i.getContext&&i.getContext(\"2d\");function s(e,t){p.clearRect(0,0,i.width,i.height),p.fillText(e,0,0);e=i.toDataURL();return p.clearRect(0,0,i.width,i.height),p.fillText(t,0,0),e===i.toDataURL()}function c(e){var t=a.createElement(\"script\");t.src=e,t.defer=t.type=\"text/javascript\",a.getElementsByTagName(\"head\")[0].appendChild(t)}for(o=Array(\"flag\",\"emoji\"),t.supports={everything:!0,everythingExceptFlag:!0},r=0;r<o.length;r++)t.supports[o[r]]=function(e){if(p&&p.fillText)switch(p.textBaseline=\"top\",p.font=\"600 32px Arial\",e){case\"flag\":return s(\"\\ud83c\\udff3\\ufe0f\\u200d\\u26a7\\ufe0f\",\"\\ud83c\\udff3\\ufe0f\\u200b\\u26a7\\ufe0f\")?!1:!s(\"\\ud83c\\uddfa\\ud83c\\uddf3\",\"\\ud83c\\uddfa\\u200b\\ud83c\\uddf3\")&&!s(\"\\ud83c\\udff4\\udb40\\udc67\\udb40\\udc62\\udb40\\udc65\\udb40\\udc6e\\udb40\\udc67\\udb40\\udc7f\",\"\\ud83c\\udff4\\u200b\\udb40\\udc67\\u200b\\udb40\\udc62\\u200b\\udb40\\udc65\\u200b\\udb40\\udc6e\\u200b\\udb40\\udc67\\u200b\\udb40\\udc7f\");case\"emoji\":return!s(\"\\ud83e\\udef1\\ud83c\\udffb\\u200d\\ud83e\\udef2\\ud83c\\udfff\",\"\\ud83e\\udef1\\ud83c\\udffb\\u200b\\ud83e\\udef2\\ud83c\\udfff\")}return!1}(o[r]),t.supports.everything=t.supports.everything&&t.supports[o[r]],\"flag\"!==o[r]&&(t.supports.everythingExceptFlag=t.supports.everythingExceptFlag&&t.supports[o[r]]);t.supports.everythingExceptFlag=t.supports.everythingExceptFlag&&!t.supports.flag,t.DOMReady=!1,t.readyCallback=function(){t.DOMReady=!0},t.supports.everything||(n=function(){t.readyCallback()},a.addEventListener?(a.addEventListener(\"DOMContentLoaded\",n,!1),e.addEventListener(\"load\",n,!1)):(e.attachEvent(\"onload\",n),a.attachEvent(\"onreadystatechange\",function(){\"complete\"===a.readyState&&t.readyCallback()})),(e=t.source||{}).concatemoji?c(e.concatemoji):e.wpemoji&&e.twemoji&&(c(e.twemoji),c(e.wpemoji)))}(window,document,window._wpemojiSettings);\n",
      "</script>\n",
      "<style type=\"text/css\">\n",
      "img.wp-smiley,\n",
      "img.emoji {\n",
      "\tdisplay: inline !important;\n",
      "\tborder: none !important;\n",
      "\tbox-shadow: none !important;\n",
      "\theight: 1em !important;\n",
      "\twidth: 1em !important;\n",
      "\tmargin: 0 0.07em !important;\n",
      "\tvertical-align: -0.1em !important;\n",
      "\tbackground: none !important;\n",
      "\tpadding: 0 !important;\n",
      "}\n",
      "</style>\n",
      "\t<link rel='stylesheet' id='wp-block-library-css' href='https://burrusseed.com/wp-includes/css/dist/block-library/style.min.css?ver=6.2' type='text/css' media='all' />\n",
      "<link rel='stylesheet' id='wp-components-css' href='https://burrusseed.com/wp-includes/css/dist/components/style.min.css?ver=6.2' type='text/css' media='all' />\n",
      "<link rel='stylesheet' id='wp-block-editor-css' href='https://burrusseed.com/wp-includes/css/dist/block-editor/style.min.css?ver=6.2' type='text/css' media='all' />\n",
      "<link rel='stylesheet' id='wp-nux-css' href='https://burrusseed.com/wp-includes/css/dist/nux/style.min.css?ver=6.2' type='text/css' media='all' />\n",
      "<link rel='stylesheet' id='wp-reusable-blocks-css' href='https://burrusseed.com/wp-includes/css/dist/reusable-blocks/style.min.css?ver=6.2' type='text/css' media='all' />\n",
      "<link rel='stylesheet' id='wp-editor-css' href='https://burrusseed.com/wp-includes/css/dist/editor/style.min.css?ver=6.2' type='text/css' media='all' />\n",
      "<link rel='stylesheet' id='simple-iframe-style-css' href='https://burrusseed.com/wp-content/plugins/simple-iframe/dist/blocks.style.build.css?ver=6.2' type='text/css' media='all' />\n",
      "<link rel='stylesheet' id='classic-theme-styles-css' href='https://burrusseed.com/wp-includes/css/classic-themes.min.css?ver=6.2' type='text/css' media='all' />\n",
      "<style id='global-styles-inline-css' type='text/css'>\n",
      "body{--wp--preset--color--black: #000000;--wp--preset--color--cyan-bluish-gray: #abb8c3;--wp--preset--color--white: #ffffff;--wp--preset--color--pale-pink: #f78da7;--wp--preset--color--vivid-red: #cf2e2e;--wp--preset--color--luminous-vivid-orange: #ff6900;--wp--preset--color--luminous-vivid-amber: #fcb900;--wp--preset--color--light-green-cyan: #7bdcb5;--wp--preset--color--vivid-green-cyan: #00d084;--wp--preset--color--pale-cyan-blue: #8ed1fc;--wp--preset--color--vivid-cyan-blue: #0693e3;--wp--preset--color--vivid-purple: #9b51e0;--wp--preset--gradient--vivid-cyan-blue-to-vivid-purple: linear-gradient(135deg,rgba(6,147,227,1) 0%,rgb(155,81,224) 100%);--wp--preset--gradient--light-green-cyan-to-vivid-green-cyan: linear-gradient(135deg,rgb(122,220,180) 0%,rgb(0,208,130) 100%);--wp--preset--gradient--luminous-vivid-amber-to-luminous-vivid-orange: linear-gradient(135deg,rgba(252,185,0,1) 0%,rgba(255,105,0,1) 100%);--wp--preset--gradient--luminous-vivid-orange-to-vivid-red: linear-gradient(135deg,rgba(255,105,0,1) 0%,rgb(207,46,46) 100%);--wp--preset--gradient--very-light-gray-to-cyan-bluish-gray: linear-gradient(135deg,rgb(238,238,238) 0%,rgb(169,184,195) 100%);--wp--preset--gradient--cool-to-warm-spectrum: linear-gradient(135deg,rgb(74,234,220) 0%,rgb(151,120,209) 20%,rgb(207,42,186) 40%,rgb(238,44,130) 60%,rgb(251,105,98) 80%,rgb(254,248,76) 100%);--wp--preset--gradient--blush-light-purple: linear-gradient(135deg,rgb(255,206,236) 0%,rgb(152,150,240) 100%);--wp--preset--gradient--blush-bordeaux: linear-gradient(135deg,rgb(254,205,165) 0%,rgb(254,45,45) 50%,rgb(107,0,62) 100%);--wp--preset--gradient--luminous-dusk: linear-gradient(135deg,rgb(255,203,112) 0%,rgb(199,81,192) 50%,rgb(65,88,208) 100%);--wp--preset--gradient--pale-ocean: linear-gradient(135deg,rgb(255,245,203) 0%,rgb(182,227,212) 50%,rgb(51,167,181) 100%);--wp--preset--gradient--electric-grass: linear-gradient(135deg,rgb(202,248,128) 0%,rgb(113,206,126) 100%);--wp--preset--gradient--midnight: linear-gradient(135deg,rgb(2,3,129) 0%,rgb(40,116,252) 100%);--wp--preset--duotone--dark-grayscale: url('#wp-duotone-dark-grayscale');--wp--preset--duotone--grayscale: url('#wp-duotone-grayscale');--wp--preset--duotone--purple-yellow: url('#wp-duotone-purple-yellow');--wp--preset--duotone--blue-red: url('#wp-duotone-blue-red');--wp--preset--duotone--midnight: url('#wp-duotone-midnight');--wp--preset--duotone--magenta-yellow: url('#wp-duotone-magenta-yellow');--wp--preset--duotone--purple-green: url('#wp-duotone-purple-green');--wp--preset--duotone--blue-orange: url('#wp-duotone-blue-orange');--wp--preset--font-size--small: 13px;--wp--preset--font-size--medium: 20px;--wp--preset--font-size--large: 36px;--wp--preset--font-size--x-large: 42px;--wp--preset--spacing--20: 0.44rem;--wp--preset--spacing--30: 0.67rem;--wp--preset--spacing--40: 1rem;--wp--preset--spacing--50: 1.5rem;--wp--preset--spacing--60: 2.25rem;--wp--preset--spacing--70: 3.38rem;--wp--preset--spacing--80: 5.06rem;--wp--preset--shadow--natural: 6px 6px 9px rgba(0, 0, 0, 0.2);--wp--preset--shadow--deep: 12px 12px 50px rgba(0, 0, 0, 0.4);--wp--preset--shadow--sharp: 6px 6px 0px rgba(0, 0, 0, 0.2);--wp--preset--shadow--outlined: 6px 6px 0px -3px rgba(255, 255, 255, 1), 6px 6px rgba(0, 0, 0, 1);--wp--preset--shadow--crisp: 6px 6px 0px rgba(0, 0, 0, 1);}:where(.is-layout-flex){gap: 0.5em;}body .is-layout-flow > .alignleft{float: left;margin-inline-start: 0;margin-inline-end: 2em;}body .is-layout-flow > .alignright{float: right;margin-inline-start: 2em;margin-inline-end: 0;}body .is-layout-flow > .aligncenter{margin-left: auto !important;margin-right: auto !important;}body .is-layout-constrained > .alignleft{float: left;margin-inline-start: 0;margin-inline-end: 2em;}body .is-layout-constrained > .alignright{float: right;margin-inline-start: 2em;margin-inline-end: 0;}body .is-layout-constrained > .aligncenter{margin-left: auto !important;margin-right: auto !important;}body .is-layout-constrained > :where(:not(.alignleft):not(.alignright):not(.alignfull)){max-width: var(--wp--style--global--content-size);margin-left: auto !important;margin-right: auto !important;}body .is-layout-constrained > .alignwide{max-width: var(--wp--style--global--wide-size);}body .is-layout-flex{display: flex;}body .is-layout-flex{flex-wrap: wrap;align-items: center;}body .is-layout-flex > *{margin: 0;}:where(.wp-block-columns.is-layout-flex){gap: 2em;}.has-black-color{color: var(--wp--preset--color--black) !important;}.has-cyan-bluish-gray-color{color: var(--wp--preset--color--cyan-bluish-gray) !important;}.has-white-color{color: var(--wp--preset--color--white) !important;}.has-pale-pink-color{color: var(--wp--preset--color--pale-pink) !important;}.has-vivid-red-color{color: var(--wp--preset--color--vivid-red) !important;}.has-luminous-vivid-orange-color{color: var(--wp--preset--color--luminous-vivid-orange) !important;}.has-luminous-vivid-amber-color{color: var(--wp--preset--color--luminous-vivid-amber) !important;}.has-light-green-cyan-color{color: var(--wp--preset--color--light-green-cyan) !important;}.has-vivid-green-cyan-color{color: var(--wp--preset--color--vivid-green-cyan) !important;}.has-pale-cyan-blue-color{color: var(--wp--preset--color--pale-cyan-blue) !important;}.has-vivid-cyan-blue-color{color: var(--wp--preset--color--vivid-cyan-blue) !important;}.has-vivid-purple-color{color: var(--wp--preset--color--vivid-purple) !important;}.has-black-background-color{background-color: var(--wp--preset--color--black) !important;}.has-cyan-bluish-gray-background-color{background-color: var(--wp--preset--color--cyan-bluish-gray) !important;}.has-white-background-color{background-color: var(--wp--preset--color--white) !important;}.has-pale-pink-background-color{background-color: var(--wp--preset--color--pale-pink) !important;}.has-vivid-red-background-color{background-color: var(--wp--preset--color--vivid-red) !important;}.has-luminous-vivid-orange-background-color{background-color: var(--wp--preset--color--luminous-vivid-orange) !important;}.has-luminous-vivid-amber-background-color{background-color: var(--wp--preset--color--luminous-vivid-amber) !important;}.has-light-green-cyan-background-color{background-color: var(--wp--preset--color--light-green-cyan) !important;}.has-vivid-green-cyan-background-color{background-color: var(--wp--preset--color--vivid-green-cyan) !important;}.has-pale-cyan-blue-background-color{background-color: var(--wp--preset--color--pale-cyan-blue) !important;}.has-vivid-cyan-blue-background-color{background-color: var(--wp--preset--color--vivid-cyan-blue) !important;}.has-vivid-purple-background-color{background-color: var(--wp--preset--color--vivid-purple) !important;}.has-black-border-color{border-color: var(--wp--preset--color--black) !important;}.has-cyan-bluish-gray-border-color{border-color: var(--wp--preset--color--cyan-bluish-gray) !important;}.has-white-border-color{border-color: var(--wp--preset--color--white) !important;}.has-pale-pink-border-color{border-color: var(--wp--preset--color--pale-pink) !important;}.has-vivid-red-border-color{border-color: var(--wp--preset--color--vivid-red) !important;}.has-luminous-vivid-orange-border-color{border-color: var(--wp--preset--color--luminous-vivid-orange) !important;}.has-luminous-vivid-amber-border-color{border-color: var(--wp--preset--color--luminous-vivid-amber) !important;}.has-light-green-cyan-border-color{border-color: var(--wp--preset--color--light-green-cyan) !important;}.has-vivid-green-cyan-border-color{border-color: var(--wp--preset--color--vivid-green-cyan) !important;}.has-pale-cyan-blue-border-color{border-color: var(--wp--preset--color--pale-cyan-blue) !important;}.has-vivid-cyan-blue-border-color{border-color: var(--wp--preset--color--vivid-cyan-blue) !important;}.has-vivid-purple-border-color{border-color: var(--wp--preset--color--vivid-purple) !important;}.has-vivid-cyan-blue-to-vivid-purple-gradient-background{background: var(--wp--preset--gradient--vivid-cyan-blue-to-vivid-purple) !important;}.has-light-green-cyan-to-vivid-green-cyan-gradient-background{background: var(--wp--preset--gradient--light-green-cyan-to-vivid-green-cyan) !important;}.has-luminous-vivid-amber-to-luminous-vivid-orange-gradient-background{background: var(--wp--preset--gradient--luminous-vivid-amber-to-luminous-vivid-orange) !important;}.has-luminous-vivid-orange-to-vivid-red-gradient-background{background: var(--wp--preset--gradient--luminous-vivid-orange-to-vivid-red) !important;}.has-very-light-gray-to-cyan-bluish-gray-gradient-background{background: var(--wp--preset--gradient--very-light-gray-to-cyan-bluish-gray) !important;}.has-cool-to-warm-spectrum-gradient-background{background: var(--wp--preset--gradient--cool-to-warm-spectrum) !important;}.has-blush-light-purple-gradient-background{background: var(--wp--preset--gradient--blush-light-purple) !important;}.has-blush-bordeaux-gradient-background{background: var(--wp--preset--gradient--blush-bordeaux) !important;}.has-luminous-dusk-gradient-background{background: var(--wp--preset--gradient--luminous-dusk) !important;}.has-pale-ocean-gradient-background{background: var(--wp--preset--gradient--pale-ocean) !important;}.has-electric-grass-gradient-background{background: var(--wp--preset--gradient--electric-grass) !important;}.has-midnight-gradient-background{background: var(--wp--preset--gradient--midnight) !important;}.has-small-font-size{font-size: var(--wp--preset--font-size--small) !important;}.has-medium-font-size{font-size: var(--wp--preset--font-size--medium) !important;}.has-large-font-size{font-size: var(--wp--preset--font-size--large) !important;}.has-x-large-font-size{font-size: var(--wp--preset--font-size--x-large) !important;}\n",
      ".wp-block-navigation a:where(:not(.wp-element-button)){color: inherit;}\n",
      ":where(.wp-block-columns.is-layout-flex){gap: 2em;}\n",
      ".wp-block-pullquote{font-size: 1.5em;line-height: 1.6;}\n",
      "</style>\n",
      "<link rel='stylesheet' id='ctf_styles-css' href='https://burrusseed.com/wp-content/plugins/custom-twitter-feeds-pro/css/ctf-styles.min.css?ver=1.8' type='text/css' media='all' />\n",
      "<link rel='stylesheet' id='dashicons-css' href='https://burrusseed.com/wp-includes/css/dashicons.min.css?ver=6.2' type='text/css' media='all' />\n",
      "<link rel='stylesheet' id='everest-forms-general-css' href='https://burrusseed.com/wp-content/plugins/everest-forms/assets/css/everest-forms.css?ver=1.9.9' type='text/css' media='all' />\n",
      "<link rel='stylesheet' id='wpsm_ac-font-awesome-front-css' href='https://burrusseed.com/wp-content/plugins/responsive-accordion-and-collapse/css/font-awesome/css/font-awesome.min.css?ver=6.2' type='text/css' media='all' />\n",
      "<link rel='stylesheet' id='wpsm_ac_bootstrap-front-css' href='https://burrusseed.com/wp-content/plugins/responsive-accordion-and-collapse/css/bootstrap-front.css?ver=6.2' type='text/css' media='all' />\n",
      "<link rel='stylesheet' id='wpsm_team_b-font-awesome-front-css' href='https://burrusseed.com/wp-content/plugins/team-builder/assets/css/font-awesome/css/font-awesome.min.css?ver=6.2' type='text/css' media='all' />\n",
      "<link rel='stylesheet' id='wpsm_team_b_bootstrap-front-css' href='https://burrusseed.com/wp-content/plugins/team-builder/assets/css/bootstrap-front.css?ver=6.2' type='text/css' media='all' />\n",
      "<link rel='stylesheet' id='wpsm_team_b_team-css' href='https://burrusseed.com/wp-content/plugins/team-builder/assets/css/team.css?ver=6.2' type='text/css' media='all' />\n",
      "<link rel='stylesheet' id='wpsm_team_b_owl_carousel_min_css-css' href='https://burrusseed.com/wp-content/plugins/team-builder/assets/css/owl.carousel.min.css?ver=6.2' type='text/css' media='all' />\n",
      "<link rel='stylesheet' id='SFSImainCss-css' href='https://burrusseed.com/wp-content/plugins/ultimate-social-media-icons/css/sfsi-style.css?ver=2.8.1' type='text/css' media='all' />\n",
      "<link rel='stylesheet' id='everest-forms-pro-frontend-css' href='https://burrusseed.com/wp-content/plugins/everest-forms-pro/assets/css/everest-forms-pro-frontend.css?ver=1.3.7.2' type='text/css' media='all' />\n",
      "<link rel='stylesheet' id='colormag_style-css' href='https://burrusseed.com/wp-content/themes/colormag-pro/style.css?ver=6.2' type='text/css' media='all' />\n",
      "<link rel='stylesheet' id='colormag_googlefonts-css' href='//fonts.googleapis.com/css?family=Francois+One%7CMerriweather+Sans&#038;ver=6.2' type='text/css' media='all' />\n",
      "<link rel='stylesheet' id='colormag-featured-image-popup-css-css' href='https://burrusseed.com/wp-content/themes/colormag-pro/js/magnific-popup/magnific-popup.min.css?ver=20150310' type='text/css' media='all' />\n",
      "<link rel='stylesheet' id='colormag-fontawesome-css' href='https://burrusseed.com/wp-content/themes/colormag-pro/fontawesome/css/font-awesome.min.css?ver=4.7.0' type='text/css' media='all' />\n",
      "<link rel='stylesheet' id='dflip-icons-style-css' href='https://burrusseed.com/wp-content/plugins/3d-flipbook-dflip-lite/assets/css/themify-icons.min.css?ver=1.7.35' type='text/css' media='all' />\n",
      "<link rel='stylesheet' id='dflip-style-css' href='https://burrusseed.com/wp-content/plugins/3d-flipbook-dflip-lite/assets/css/dflip.min.css?ver=1.7.35' type='text/css' media='all' />\n",
      "<script type='text/javascript' src='https://burrusseed.com/wp-includes/js/jquery/jquery.min.js?ver=3.6.3' id='jquery-core-js'></script>\n",
      "<script type='text/javascript' src='https://burrusseed.com/wp-includes/js/jquery/jquery-migrate.min.js?ver=3.4.0' id='jquery-migrate-js'></script>\n",
      "<script type='text/javascript' src='https://burrusseed.com/wp-content/plugins/team-builder/assets/js/owl.carousel.min.js?ver=6.2' id='wpsm_team_b_owl_carousel_min_js-js'></script>\n",
      "<script type='text/javascript' src='https://burrusseed.com/wp-content/plugins/staff-team/js/imagelightbox.min.js?ver=1.1.7' id='SC_imagelightbox-js'></script>\n",
      "<script type='text/javascript' src='https://burrusseed.com/wp-content/plugins/staff-team/js/common.js?ver=1.1.7' id='team_contact_common-js'></script>\n",
      "<script type='text/javascript' id='SC_Script-js-extra'>\n",
      "/* <![CDATA[ */\n",
      "var contLDomain = {\"mess_text\":[\"The Name field is required\",\"The Message field is required\",\"The Title field is Required\",\"Incorrect security code\",\"The Phone field is required\",\"Please provide a valid email address\",\"Please consent to data usage\"],\"paginate\":{\"prev\":\"\",\"next\":\"\"},\"more_inf\":\"More\",\"readmore_inf\":\"Read More\",\"send_email\":\"Send Email\",\"category\":\"Category\",\"email\":\"Email\",\"tabPicture\":\"Picture\",\"tabName\":\"Name\",\"tabCateg\":\"Category\",\"tabEmail\":\"Email\",\"tabParam\":\"Parameters\"};\n",
      "var contactAjaxUrl = [\"https:\\/\\/burrusseed.com\\/wp-admin\\/admin-ajax.php\"];\n",
      "/* ]]> */\n",
      "</script>\n",
      "<script type='text/javascript' src='https://burrusseed.com/wp-content/plugins/staff-team/js/SC_Script.js?ver=1.1.7' id='SC_Script-js'></script>\n",
      "<script type='text/javascript' src='https://burrusseed.com/wp-content/plugins/staff-team/js/responsive.js?ver=1.1.7' id='responsive-js'></script>\n",
      "<!--[if lte IE 8]>\n",
      "<script type='text/javascript' src='https://burrusseed.com/wp-content/themes/colormag-pro/js/html5shiv.min.js?ver=6.2' id='html5-js'></script>\n",
      "<![endif]-->\n",
      "<link rel=\"https://api.w.org/\" href=\"https://burrusseed.com/wp-json/\" /><link rel=\"alternate\" type=\"application/json\" href=\"https://burrusseed.com/wp-json/wp/v2/posts/1952\" /><link rel=\"EditURI\" type=\"application/rsd+xml\" title=\"RSD\" href=\"https://burrusseed.com/xmlrpc.php?rsd\" />\n",
      "<link rel=\"wlwmanifest\" type=\"application/wlwmanifest+xml\" href=\"https://burrusseed.com/wp-includes/wlwmanifest.xml\" />\n",
      "<meta name=\"generator\" content=\"WordPress 6.2\" />\n",
      "<meta name=\"generator\" content=\"Everest Forms 1.9.9\" />\n",
      "<link rel='shortlink' href='https://burrusseed.com/?p=1952' />\n",
      "<link rel=\"alternate\" type=\"application/json+oembed\" href=\"https://burrusseed.com/wp-json/oembed/1.0/embed?url=https%3A%2F%2Fburrusseed.com%2Fburrus-plot-data%2F\" />\n",
      "<link rel=\"alternate\" type=\"text/xml+oembed\" href=\"https://burrusseed.com/wp-json/oembed/1.0/embed?url=https%3A%2F%2Fburrusseed.com%2Fburrus-plot-data%2F&#038;format=xml\" />\n",
      "\n",
      "\t\t<!-- GA Google Analytics @ https://m0n.co/ga -->\n",
      "\t\t<script>\n",
      "\t\t\t(function(i,s,o,g,r,a,m){i['GoogleAnalyticsObject']=r;i[r]=i[r]||function(){\n",
      "\t\t\t(i[r].q=i[r].q||[]).push(arguments)},i[r].l=1*new Date();a=s.createElement(o),\n",
      "\t\t\tm=s.getElementsByTagName(o)[0];a.async=1;a.src=g;m.parentNode.insertBefore(a,m)\n",
      "\t\t\t})(window,document,'script','https://www.google-analytics.com/analytics.js','ga');\n",
      "\t\t\tga('create', 'UA-160166879-1', 'auto');\n",
      "\t\t\tga('send', 'pageview');\n",
      "\t\t</script>\n",
      "\n",
      "\t<!-- Facebook Pixel Code --><script>!function(f,b,e,v,n,t,s){if(f.fbq)return;n=f.fbq=function(){n.callMethod?n.callMethod.apply(n,arguments):n.queue.push(arguments)};if(!f._fbq)f._fbq=n;n.push=n;n.loaded=!0;n.version='2.0';n.queue=[];t=b.createElement(e);t.async=!0;t.src=v;s=b.getElementsByTagName(e)[0];s.parentNode.insertBefore(t,s)}(window,document,'script','https://connect.facebook.net/en_US/fbevents.js'); fbq('init', '915848783121641'); fbq('track', 'PageView');</script><noscript> </noscript><!-- End Facebook Pixel Code -->\n",
      "<!--BEGIN: TRACKING CODE MANAGER (v2.0.16) BY INTELLYWP.COM IN HEAD//-->\n",
      "<!-- Google Tag Manager -->\r\n",
      "<script>(function(w,d,s,l,i){w[l]=w[l]||[];w[l].push({'gtm.start':\r\n",
      "new Date().getTime(),event:'gtm.js'});var f=d.getElementsByTagName(s)[0],\r\n",
      "j=d.createElement(s),dl=l!='dataLayer'?'&l='+l:'';j.async=true;j.src=\r\n",
      "'https://www.googletagmanager.com/gtm.js?id='+i+dl;f.parentNode.insertBefore(j,f);\r\n",
      "})(window,document,'script','dataLayer','GTM-W6LZDPC');</script>\r\n",
      "<!-- End Google Tag Manager -->\n",
      "<!--END: https://wordpress.org/plugins/tracking-code-manager IN HEAD//--><meta name=\"follow.it-verification-code-ekdOZjJUZGR2aTVSODA5VnM0dVE3SUJZdmxHMk5YUGtZY0JHM3hoRkxLaFdSMlBlRkFuS2d0bkg0N205aGFvbzlTT2d5T0RYM0xyWVdXZnBEZEpwSGVOR05XZFlZMDBiQnVURm9YRGk4MWw2NzY2VnNlU0V0RjRKNXNFd1cvRU58WUg1MUdDOEF0OHkweEpqa3Z0dTU2N0NoMnpnTFlqYXZDUEZiamlycnZBST0=\" content=\"hEx27WrEuuQaMqWXbY1G\"/>\n",
      "        <script type=\"text/javascript\">\n",
      "            var jQueryMigrateHelperHasSentDowngrade = false;\n",
      "\n",
      "\t\t\twindow.onerror = function( msg, url, line, col, error ) {\n",
      "\t\t\t\t// Break out early, do not processing if a downgrade reqeust was already sent.\n",
      "\t\t\t\tif ( jQueryMigrateHelperHasSentDowngrade ) {\n",
      "\t\t\t\t\treturn true;\n",
      "                }\n",
      "\n",
      "\t\t\t\tvar xhr = new XMLHttpRequest();\n",
      "\t\t\t\tvar nonce = '2faf082726';\n",
      "\t\t\t\tvar jQueryFunctions = [\n",
      "\t\t\t\t\t'andSelf',\n",
      "\t\t\t\t\t'browser',\n",
      "\t\t\t\t\t'live',\n",
      "\t\t\t\t\t'boxModel',\n",
      "\t\t\t\t\t'support.boxModel',\n",
      "\t\t\t\t\t'size',\n",
      "\t\t\t\t\t'swap',\n",
      "\t\t\t\t\t'clean',\n",
      "\t\t\t\t\t'sub',\n",
      "                ];\n",
      "\t\t\t\tvar match_pattern = /\\)\\.(.+?) is not a function/;\n",
      "                var erroredFunction = msg.match( match_pattern );\n",
      "\n",
      "                // If there was no matching functions, do not try to downgrade.\n",
      "                if ( typeof erroredFunction !== 'object' || typeof erroredFunction[1] === \"undefined\" || -1 === jQueryFunctions.indexOf( erroredFunction[1] ) ) {\n",
      "                    return true;\n",
      "                }\n",
      "\n",
      "                // Set that we've now attempted a downgrade request.\n",
      "                jQueryMigrateHelperHasSentDowngrade = true;\n",
      "\n",
      "\t\t\t\txhr.open( 'POST', 'https://burrusseed.com/wp-admin/admin-ajax.php' );\n",
      "\t\t\t\txhr.setRequestHeader( 'Content-Type', 'application/x-www-form-urlencoded' );\n",
      "\t\t\t\txhr.onload = function () {\n",
      "\t\t\t\t\tvar response,\n",
      "                        reload = false;\n",
      "\n",
      "\t\t\t\t\tif ( 200 === xhr.status ) {\n",
      "                        try {\n",
      "                        \tresponse = JSON.parse( xhr.response );\n",
      "\n",
      "                        \treload = response.data.reload;\n",
      "                        } catch ( e ) {\n",
      "                        \treload = false;\n",
      "                        }\n",
      "                    }\n",
      "\n",
      "\t\t\t\t\t// Automatically reload the page if a deprecation caused an automatic downgrade, ensure visitors get the best possible experience.\n",
      "\t\t\t\t\tif ( reload ) {\n",
      "\t\t\t\t\t\tlocation.reload();\n",
      "                    }\n",
      "\t\t\t\t};\n",
      "\n",
      "\t\t\t\txhr.send( encodeURI( 'action=jquery-migrate-downgrade-version&_wpnonce=' + nonce ) );\n",
      "\n",
      "\t\t\t\t// Suppress error alerts in older browsers\n",
      "\t\t\t\treturn true;\n",
      "\t\t\t}\n",
      "        </script>\n",
      "\n",
      "\t\t<script data-cfasync=\"false\"> var dFlipLocation = \"https://burrusseed.com/wp-content/plugins/3d-flipbook-dflip-lite/assets/\"; var dFlipWPGlobal = {\"text\":{\"toggleSound\":\"Turn on\\/off Sound\",\"toggleThumbnails\":\"Toggle Thumbnails\",\"toggleOutline\":\"Toggle Outline\\/Bookmark\",\"previousPage\":\"Previous Page\",\"nextPage\":\"Next Page\",\"toggleFullscreen\":\"Toggle Fullscreen\",\"zoomIn\":\"Zoom In\",\"zoomOut\":\"Zoom Out\",\"toggleHelp\":\"Toggle Help\",\"singlePageMode\":\"Single Page Mode\",\"doublePageMode\":\"Double Page Mode\",\"downloadPDFFile\":\"Download PDF File\",\"gotoFirstPage\":\"Goto First Page\",\"gotoLastPage\":\"Goto Last Page\",\"share\":\"Share\",\"mailSubject\":\"I wanted you to see this FlipBook\",\"mailBody\":\"Check out this site {{url}}\",\"loading\":\"DearFlip: Loading \"},\"moreControls\":\"download,pageMode,startPage,endPage,sound\",\"hideControls\":\"\",\"scrollWheel\":\"true\",\"backgroundColor\":\"#777\",\"backgroundImage\":\"\",\"height\":\"auto\",\"paddingLeft\":\"20\",\"paddingRight\":\"20\",\"controlsPosition\":\"bottom\",\"duration\":800,\"soundEnable\":\"true\",\"enableDownload\":\"true\",\"enableAnnotation\":\"false\",\"enableAnalytics\":\"false\",\"webgl\":\"true\",\"hard\":\"none\",\"maxTextureSize\":\"1600\",\"rangeChunkSize\":\"524288\",\"zoomRatio\":1.5,\"stiffness\":3,\"pageMode\":\"0\",\"singlePageMode\":\"0\",\"pageSize\":\"0\",\"autoPlay\":\"false\",\"autoPlayDuration\":5000,\"autoPlayStart\":\"false\",\"linkTarget\":\"2\",\"sharePrefix\":\"dearflip-\"};</script><style type=\"text/css\" id=\"custom-background-css\">\n",
      "body.custom-background { background-color: #ffffff; }\n",
      "</style>\n",
      "\t<link rel=\"icon\" href=\"https://burrusseed.com/wp-content/uploads/2019/04/cropped-apple-touch-icon-32x32.png\" sizes=\"32x32\" />\n",
      "<link rel=\"icon\" href=\"https://burrusseed.com/wp-content/uploads/2019/04/cropped-apple-touch-icon-192x192.png\" sizes=\"192x192\" />\n",
      "<link rel=\"apple-touch-icon\" href=\"https://burrusseed.com/wp-content/uploads/2019/04/cropped-apple-touch-icon-180x180.png\" />\n",
      "<meta name=\"msapplication-TileImage\" content=\"https://burrusseed.com/wp-content/uploads/2019/04/cropped-apple-touch-icon-270x270.png\" />\n",
      "<!-- Burrus Seed Internal Styles -->\t\t<style type=\"text/css\"> .colormag-button,blockquote,button,input[type=reset],input[type=button],\r\n",
      "\t\tinput[type=submit]{background-color:#16315a}\r\n",
      "\t\ta,#masthead .main-small-navigation li:hover > .sub-toggle i,\r\n",
      "\t\t#masthead .main-small-navigation li.current-page-ancestor > .sub-toggle i,\r\n",
      "\t\t#masthead .main-small-navigation li.current-menu-ancestor > .sub-toggle i,\r\n",
      "\t\t#masthead .main-small-navigation li.current-page-item > .sub-toggle i,\r\n",
      "\t\t#masthead .main-small-navigation li.current-menu-item > .sub-toggle i,\r\n",
      "\t\t#masthead.colormag-header-classic #site-navigation .fa.search-top:hover,\r\n",
      "\t\t#masthead.colormag-header-classic #site-navigation.main-small-navigation .random-post a:hover .fa-random,\r\n",
      "\t\t#masthead.colormag-header-classic #site-navigation.main-navigation .random-post a:hover .fa-random,\r\n",
      "\t\t#masthead.colormag-header-classic .breaking-news .newsticker a:hover,\r\n",
      "\t\t.dark-skin #masthead.colormag-header-classic #site-navigation.main-navigation .home-icon:hover .fa{color:#16315a}\r\n",
      "\t\t#site-navigation{border-top:4px solid #16315a}\r\n",
      "\t\t.home-icon.front_page_on,.main-navigation a:hover,.main-navigation ul li ul li a:hover,\r\n",
      "\t\t.main-navigation ul li ul li:hover>a,\r\n",
      "\t\t.main-navigation ul li.current-menu-ancestor>a,\r\n",
      "\t\t.main-navigation ul li.current-menu-item ul li a:hover,\r\n",
      "\t\t.main-navigation ul li.current-menu-item>a,\r\n",
      "\t\t.main-navigation ul li.current_page_ancestor>a,.main-navigation ul li.current_page_item>a,\r\n",
      "\t\t.main-navigation ul li:hover>a,.main-small-navigation li a:hover,.site-header .menu-toggle:hover,\r\n",
      "\t\t#masthead.colormag-header-classic .main-navigation ul ul.sub-menu li:hover > a,\r\n",
      "\t\t#masthead.colormag-header-classic .main-navigation ul ul.sub-menu li.current-menu-ancestor > a,\r\n",
      "\t\t#masthead.colormag-header-classic .main-navigation ul ul.sub-menu li.current-menu-item > a,\r\n",
      "\t\t#masthead.colormag-header-clean #site-navigation .menu-toggle:hover,\r\n",
      "\t\t#masthead.colormag-header-clean #site-navigation.main-small-navigation .menu-toggle,\r\n",
      "\t\t#masthead.colormag-header-classic #site-navigation.main-small-navigation .menu-toggle,\r\n",
      "\t\t#masthead .main-small-navigation li:hover > a, #masthead .main-small-navigation li.current-page-ancestor > a,\r\n",
      "\t\t#masthead .main-small-navigation li.current-menu-ancestor > a, #masthead .main-small-navigation li.current-page-item > a,\r\n",
      "\t\t#masthead .main-small-navigation li.current-menu-item > a,\r\n",
      "\t\t#masthead.colormag-header-classic #site-navigation .menu-toggle:hover,\r\n",
      "\t\t.main-navigation ul li.focus > a,\r\n",
      "        #masthead.colormag-header-classic .main-navigation ul ul.sub-menu li.focus > a { background-color:#16315a}\r\n",
      "\t\t#masthead.colormag-header-classic .main-navigation ul ul.sub-menu li:hover,\r\n",
      "\t\t#masthead.colormag-header-classic .main-navigation ul ul.sub-menu li.current-menu-ancestor,\r\n",
      "\t\t#masthead.colormag-header-classic .main-navigation ul ul.sub-menu li.current-menu-item,\r\n",
      "\t\t#masthead.colormag-header-classic #site-navigation .menu-toggle:hover,\r\n",
      "\t\t#masthead.colormag-header-classic #site-navigation.main-small-navigation .menu-toggle,\r\n",
      "\r\n",
      "\t\t#masthead.colormag-header-classic .main-navigation ul > li:hover > a,\r\n",
      "        #masthead.colormag-header-classic .main-navigation ul > li.current-menu-item > a,\r\n",
      "        #masthead.colormag-header-classic .main-navigation ul > li.current-menu-ancestor > a,\r\n",
      "        #masthead.colormag-header-classic .main-navigation ul li.focus > a { border-color:#16315a}\r\n",
      "        #masthead.colormag-header-classic .main-navigation .home-icon a:hover .fa { color:#16315a}\r\n",
      "\t\t.main-small-navigation .current-menu-item>a,.main-small-navigation .current_page_item>a,\r\n",
      "\t\t#masthead.colormag-header-clean .main-small-navigation li:hover > a,\r\n",
      "\t\t#masthead.colormag-header-clean .main-small-navigation li.current-page-ancestor > a,\r\n",
      "\t\t#masthead.colormag-header-clean .main-small-navigation li.current-menu-ancestor > a,\r\n",
      "\t\t#masthead.colormag-header-clean .main-small-navigation li.current-page-item > a,\r\n",
      "\t\t#masthead.colormag-header-clean .main-small-navigation li.current-menu-item > a { background:#16315a}\r\n",
      "\t\t#main .breaking-news-latest,.fa.search-top:hover{background-color:#16315a}\r\n",
      "\t\t.byline a:hover,.comments a:hover,.edit-link a:hover,.posted-on a:hover,\r\n",
      "\t\t.social-links i.fa:hover,.tag-links a:hover,\r\n",
      "\t\t#masthead.colormag-header-clean .social-links li:hover i.fa,\r\n",
      "\t\t#masthead.colormag-header-classic .social-links li:hover i.fa,\r\n",
      "\t\t#masthead.colormag-header-clean .breaking-news .newsticker a:hover{color:#16315a}\r\n",
      "\t\t.widget_featured_posts .article-content .above-entry-meta .cat-links a,\r\n",
      "\t\t.widget_call_to_action .btn--primary,.colormag-footer--classic .footer-widgets-area .widget-title span::before,\r\n",
      "\t\t.colormag-footer--classic-bordered .footer-widgets-area .widget-title span::before{background-color:#16315a}\r\n",
      "\t\t.widget_featured_posts .article-content .entry-title a:hover{color:#16315a}\r\n",
      "\t\t.widget_featured_posts .widget-title{border-bottom:2px solid #16315a}\r\n",
      "\t\t.widget_featured_posts .widget-title span,\r\n",
      "\t\t.widget_featured_slider .slide-content .above-entry-meta .cat-links a{background-color:#16315a}\r\n",
      "\t\t.widget_featured_slider .slide-content .below-entry-meta .byline a:hover,\r\n",
      "\t\t.widget_featured_slider .slide-content .below-entry-meta .comments a:hover,\r\n",
      "\t\t.widget_featured_slider .slide-content .below-entry-meta .posted-on a:hover,\r\n",
      "\t\t.widget_featured_slider .slide-content .entry-title a:hover{color:#16315a}\r\n",
      "\t\t.widget_highlighted_posts .article-content .above-entry-meta .cat-links a{background-color:#16315a}\r\n",
      "\t\t.widget_block_picture_news.widget_featured_posts .article-content .entry-title a:hover,\r\n",
      "\t\t.widget_highlighted_posts .article-content .below-entry-meta .byline a:hover,\r\n",
      "\t\t.widget_highlighted_posts .article-content .below-entry-meta .comments a:hover,\r\n",
      "\t\t.widget_highlighted_posts .article-content .below-entry-meta .posted-on a:hover,\r\n",
      "\t\t.widget_highlighted_posts .article-content .entry-title a:hover{color:#16315a}\r\n",
      "\t\t.category-slide-next,.category-slide-prev,.slide-next,\r\n",
      "\t\t.slide-prev,.tabbed-widget ul li{background-color:#16315a}\r\n",
      "\t\ti.fa-arrow-up, i.fa-arrow-down{color:#16315a}\r\n",
      "\t\t#secondary .widget-title{border-bottom:2px solid #16315a}\r\n",
      "\t\t#content .wp-pagenavi .current,#content .wp-pagenavi a:hover,\r\n",
      "\t\t#secondary .widget-title span{background-color:#16315a}\r\n",
      "\t\t#site-title a{color:#16315a}\r\n",
      "\t\t.page-header .page-title{border-bottom:2px solid #16315a}\r\n",
      "\t\t#content .post .article-content .above-entry-meta .cat-links a,\r\n",
      "\t\t.page-header .page-title span{background-color:#16315a}\r\n",
      "\t\t#content .post .article-content .entry-title a:hover,.entry-meta .byline i,\r\n",
      "\t\t.entry-meta .cat-links i,.entry-meta a,.post .entry-title a:hover,.search .entry-title a:hover{color:#16315a}\r\n",
      "\t\t.entry-meta .post-format i{background-color:#16315a}\r\n",
      "\t\t.entry-meta .comments-link a:hover,.entry-meta .edit-link a:hover,.entry-meta .posted-on a:hover,\r\n",
      "\t\t.entry-meta .tag-links a:hover,.single #content .tags a:hover{color:#16315a}\r\n",
      "\t\t.format-link .entry-content a,.more-link{background-color:#16315a}\r\n",
      "\t\t.count,.next a:hover,.previous a:hover,.related-posts-main-title .fa,\r\n",
      "\t\t.single-related-posts .article-content .entry-title a:hover{color:#16315a}\r\n",
      "\t\t.pagination a span:hover{color:#16315a;border-color:#16315a}\r\n",
      "\t\t.pagination span{background-color:#16315a}\r\n",
      "\t\t#content .comments-area a.comment-edit-link:hover,#content .comments-area a.comment-permalink:hover,\r\n",
      "\t\t#content .comments-area article header cite a:hover,.comments-area .comment-author-link a:hover{color:#16315a}\r\n",
      "\t\t.comments-area .comment-author-link span{background-color:#16315a}\r\n",
      "\t\t.comment .comment-reply-link:hover,.nav-next a,.nav-previous a{color:#16315a}\r\n",
      "\t\t.footer-widgets-area .widget-title{border-bottom:2px solid #16315a}\r\n",
      "\t\t.footer-widgets-area .widget-title span{background-color:#16315a}\r\n",
      "\t\t#colophon .footer-menu ul li a:hover,.footer-widgets-area a:hover,a#scroll-up i{color:#16315a}\r\n",
      "\t\t.advertisement_above_footer .widget-title{border-bottom:2px solid #16315a}\r\n",
      "\t\t.advertisement_above_footer .widget-title span{background-color:#16315a}\r\n",
      "\t\t.sub-toggle{background:#16315a}\r\n",
      "\t\t.main-small-navigation li.current-menu-item > .sub-toggle i {color:#16315a}\r\n",
      "\t\t.error{background:#16315a}\r\n",
      "\t\t.num-404{color:#16315a}\r\n",
      "\t\t#primary .widget-title{border-bottom: 2px solid #16315a}\r\n",
      "\t\t#primary .widget-title span{background-color:#16315a}\r\n",
      "\t\t.related-posts-wrapper-flyout .entry-title a:hover{color:#16315a}\r\n",
      "\t\t.related-posts-wrapper.style-three .article-content .entry-title a:hover:before{background:#16315a}\r\n",
      "\t\t.human-diff-time .human-diff-time-display:hover{color:#16315a}\r\n",
      "\t\t.widget_slider_area .widget-title,.widget_beside_slider .widget-title { border-bottom:2px solid#16315a}\r\n",
      "\t\t.widget_slider_area .widget-title span,.widget_beside_slider .widget-title span { background-color:#16315a}\r\n",
      "\t\t.top-full-width-sidebar .widget-title{border-bottom: 2px solid #16315a}\r\n",
      "\t\t.top-full-width-sidebar .widget-title span{background-color:#16315a} #site-title a { font-family: Francois One; } #site-description { font-family: Merriweather Sans; } .main-navigation li, .site-header .menu-toggle { font-family: Merriweather Sans; } h1, h2, h3, h4, h5, h6 { font-family: Francois One; } body, button, input, select, textarea, p, blockquote p, .entry-meta, .more-link { font-family: Merriweather Sans; } #site-title a { color: #16315a; } #site-description { color: #542d00; } h1, h2, h3, h4, h5, h6 { color: #7f4400; } .post .entry-title, .post .entry-title a { color: #16315a; } .type-page .entry-title { color: #16315a; } body, button, input, select, textarea { color: #542d00; } .posted-on a, .byline a, .comments a, .tag-links a, .edit-link a, .human-diff-time .human-diff-time-display, #content .post .article-content .below-entry-meta .total-views { color: #542d00; } .colormag-button, input[type=\"reset\"], input[type=\"button\"], input[type=\"submit\"], button, .more-link span { background-color: #19a4d1; } .footer-widgets-area, .footer-widgets-area p { color: #e0f7ff; } .footer-widgets-wrapper { background-color: #16315a; } #colophon .tg-upper-footer-widgets .widget { background-color: #19a4d1; } .footer-socket-wrapper .copyright { color: #ffffff; } .footer-socket-wrapper .copyright a { color: #4bcffa; } #colophon .footer-menu ul li a { color: #ffffff; } .footer-socket-wrapper { background-color: #19a4d1; }#colophon { background-position: center center; }#colophon { background-size: auto; }#colophon { background-attachment: scroll; }#colophon { background-repeat: repeat; }</style>\r\n",
      "\t\t\t\t<style type=\"text/css\" id=\"wp-custom-css\">\n",
      "\t\t\t/* Header Area */\n",
      ".news-bar {\n",
      "\t-webkit-box-shadow:none;\n",
      "\tbox-shadow: none;\n",
      "}\n",
      "#masthead.colormag-header-classic .breaking-news .breaking-news-latest {\n",
      "\tbackground:#16315a;\n",
      "}\n",
      "#masthead.colormag-header-classic .home-icon .fa {\n",
      "\tcolor: #16315a;\n",
      "}\n",
      "/*Home Page Featured Area */\n",
      ".widget_featured_slider .slide-content .entry-title a:hover, .widget_highlighted_posts .article-content .entry-title a:hover {\n",
      "\tcolor: #ffc423;\n",
      "}\n",
      ".below-entry-meta {display:none;}\n",
      "\n",
      "/*Footer Area */\n",
      "#colophon p.small-type {font-size:70%; }\n",
      ".footer-widgets-wrapper {border-top: 1px solid #19a4d1;\n",
      "background-color: #16315a;}\n",
      ".footer-widgets-area .widget-title span {background-color:transparent;}\n",
      ".footer-socket-wrapper .copyright {font-size:9px;}\n",
      ".footer-widgets-area a:hover {color: #19a4d1;}\n",
      ".social-links i.fa-twitter { color: #e7ebef;}\n",
      "/*Footer Layout 3 col */\n",
      "div.tg-fourth-footer-widget {\n",
      "\tdisplay:none;\n",
      "}\n",
      ".tg-second-footer-widget, .tg-third-footer-widget {width: 39.473684%;}\n",
      "@media screen and (max-width: 600px){\n",
      ".tg-second-footer-widget, .tg-third-footer-widget  {\n",
      "\twidth: 100%;}\n",
      "\t.footer-socket-wrapper .copyright {padding-top:20px;}\n",
      "}\n",
      "\n",
      "/* sitewide styles */\n",
      ".orange {color:#fd7122;}\n",
      ".bright-blue {color:#19a4d1;}\n",
      ".dark-blue {color:#16315a;}\n",
      ".green {color: #009900;}\n",
      ".brown {color: #7f4400;}\n",
      ".yellow {color: #ffc423;}\n",
      "h1, h2, h3, h4, h5 {text-transform: uppercase;}\n",
      "a:hover {color: #19a4d1;}\n",
      "blockquote {\n",
      "\tbackground-color:#fff;\n",
      "\tmargin-left:0px;\n",
      "\tpadding-left:0px;\n",
      "\tborder-left: 50px solid #16315a;\n",
      "\tborder-radius: 0;\n",
      "\tcolor: #16315a;\n",
      "}\n",
      "cite {color: #16315a;}\n",
      "\n",
      "#content .post .article-content .entry-title a, #content .post .single-title-above .entry-title a {color: #16315a;}\n",
      "#content .post .article-content .entry-title a:hover, #content .post .single-title-above .entry-title a:hover {color: #19a4d1;}\n",
      ".spacer-50 {height: 50px; line-height:50px; display:block;}\n",
      ".spacer-100 {height: 100px; line-height:100px; display:block;}\n",
      "\n",
      ".entry-content ul {\n",
      "\tlist-style: disc;\n",
      "\t\tpadding-left:15px;\n",
      "\n",
      "}\n",
      ".entry-content ul li {\n",
      "\tpadding-bottom:20px;\n",
      "}\n",
      "\n",
      ".wp-block-image.text-left  {text-align: left;} \n",
      "\n",
      ".share-buttons {padding-bottom:30px;}\n",
      "/* plot data iframe */\n",
      "\tiframe.plot-results { \n",
      "\twidth: 100%;\n",
      "\tmin-height: 1000px;\n",
      "\tborder:none;\n",
      "\t}\n",
      "\n",
      "/* grower charts page */\n",
      "figure.grower-chart {border: 1px solid #e7ebef;}\n",
      "/* ========================================================================== */\n",
      "/* START SEEDWARE STYLES ==================================================== */\n",
      "/* ========================================================================== */\n",
      "div.sw-wizard input {\n",
      "\tmargin-right:20px;\n",
      "}\n",
      "\n",
      "input.sw-button               { background-color:#009900; }\n",
      "input.sw-button:hover         { background-color:#19a4d1; }\n",
      "input.sw-button.disabled      { background-color:#aaaaaa!important; }\n",
      "input.sw-button.on            { background-color:#16315a; }\n",
      "\n",
      "input.sw-button-back,\n",
      "input.sw-button-back:hover,\n",
      "input.sw-button-next,\n",
      "input.sw-button-next:hover    { background-color:#19a4d1; }\n",
      "\n",
      "input.sw-button-results       { background-color: #16315a; }\n",
      "input.sw-button-results:hover { background-color:#19a4d1; }\n",
      "\n",
      "table.sw-table                { font-size:13px; width:90%; }\n",
      "table.sw-table th.sw-nw, \n",
      "table.sw-table td.sw-nw       { white-space: nowrap; }\n",
      "\n",
      "#seedware .sw-platform { \n",
      "\tdisplay: inline-block; \n",
      "\tborder: 1px solid #333;\n",
      "\ttext-align: center; \n",
      "\tpadding: 10px; \n",
      "\tborder-radius: 5px;\n",
      "\tmargin: 0 10px 10px 0; \n",
      "\twidth: 150px; \n",
      "}\n",
      "#seedware .sw-platform h2 { \n",
      "height: 45px; \n",
      "font-size: 16px;\n",
      "\n",
      "}\n",
      "#seedware .sw-platform p { \n",
      "height: 80px; \n",
      "font-size: 12px;\n",
      "\n",
      "} \n",
      "#seedware div.sw-platform input.sw-button { \n",
      "margin-right: 0;\n",
      "}\n",
      "\n",
      "#seedware .sw-platform-img-container { \n",
      "\theight: 30px;\n",
      "\tmargin: 10px 0; \n",
      "}\n",
      "#seedware .sw-platform-img-container img { \n",
      "\tmax-height: 100%;\n",
      "\tmax-width: 100%; \n",
      "}\n",
      "/* ========================================================================== */\n",
      "/* END SEEDWARE STYLES ====================================================== */\n",
      "/* ========================================================================== */\n",
      "/* MetaSlider Plugin */\n",
      ".flex-control-paging li a.flex-active {color:#19a4d1 !important; }\n",
      ".metaslider.ms-theme-architekt .flexslider ul.slides .caption-wrap {color: #542d00!important;}\n",
      ".metaslider.ms-theme-architekt .flexslider ul.flex-direction-nav li a, .flex-direction-nav a:before {color: #16315a !important;}\n",
      ".metaslider.ms-theme-architekt .flexslider ul.flex-direction-nav li a:hover, .flex-direction-nav a:hover:before {color: #19a4d1 !important;}\n",
      ".ms-theme-architekt.metaslider-flex {padding-bottom:30px!important;}\n",
      "\n",
      "/* Timeline Express Plugin */\n",
      "\n",
      "/* Team Member Plugin - see plugin page for custom css */\n",
      "\n",
      "/* Accordion Plugin see plugin page */\n",
      "\n",
      "/* Draw Attention Sales Managers */\n",
      ".hotspot-content a {color: #ffc423;}\n",
      "\n",
      "/* Twitter Feed */\n",
      "#ctf #ctf-more {background: #e7ebef;}\n",
      "\n",
      "/* Responsive */\n",
      "@media (max-width: 320px) {\n",
      "}\n",
      "@media (max-width: 480px) {\n",
      "\t\n",
      "}\n",
      "@media (max-width: 767px) {\n",
      "\t.home-icon {float:right;}\n",
      "\t#secondary {padding-top:30px;}\n",
      "\ttable.sw-table {font-size:12px; width:80%;}\n",
      "\n",
      "}\n",
      "@media (max-width: 1024px) {\n",
      "\t.home-icon {float:right;}\n",
      "\t#secondary {padding-top:30px;}\n",
      "\ttable.sw-table {font-size:11px; width:70%;}\n",
      "\n",
      "}\n",
      "\n",
      "@media (max-width: 1199px) {} \n",
      "\n",
      "\n",
      "\n",
      "\n",
      "\n",
      "/* FOOTER FORM */\n",
      " \n",
      "\n",
      "\n",
      "#page .advertisement_above_footer {\n",
      "\ttext-align:center;\n",
      "\tdisplay:block;\n",
      "\tbackground-color:#19a4d1;\n",
      "}\n",
      "\n",
      ".home #page .advertisement_above_footer, .page-id-285 #page .advertisement_above_footer {\n",
      "\tdisplay:none;\n",
      "}\n",
      "\n",
      ".advertisement_above_footer h4 {\n",
      "\tcolor:#ffffff;\n",
      "\tpadding-top:5px;\n",
      "\tpadding-bottom:0;\n",
      "}\n",
      "\n",
      ".advertisement_above_footer .everest-forms label {\n",
      "\tcolor:#ffffff;\n",
      "}\n",
      "\n",
      ".advertisement_above_footer .everest-forms .evf-field-container .evf-frontend-row .evf-frontend-grid {\n",
      "\twidth:auto;\n",
      "}\n",
      "\n",
      ".advertisement_above_footer .input-text {\n",
      "\theight:36px;\n",
      "}\n",
      "\n",
      ".advertisement_above_footer .everest-forms .evf-field-container .evf-frontend-row .evf-frontend-grid .evf-field {\n",
      "\tdisplay:inline-block;\n",
      "}\n",
      "\n",
      ".advertisement_above_footer .evf-field-container {\n",
      "\twidth:auto;\n",
      "\tdisplay:inline-block;\n",
      "}\n",
      "\n",
      ".advertisement_above_footer .evf-submit-container {\n",
      "\tdisplay:inline-block;\n",
      "}\n",
      "\n",
      ".advertisement_above_footer .everest-forms button.button:not(.button-large) {\n",
      "\theight:34px;\n",
      "\tline-height:.5;\n",
      "}\t\t</style>\n",
      "\t\t<meta name=\"facebook-domain-verification\" content=\"f0uukekvmcu3tkhiu2amo6ns4lg14x\" />\r\n",
      "</head>\r\n",
      "\r\n",
      "<body class=\"post-template-default single single-post postid-1952 single-format-standard custom-background wp-custom-logo everest-forms-no-js sfsi_actvite_theme_thin  box-layout\">\r\n",
      "\r\n",
      "<!-- Twitter universal website tag code -->\r\n",
      "<script>\r\n",
      "!function(e,t,n,s,u,a){e.twq||(s=e.twq=function(){s.exe?s.exe.apply(s,arguments):s.queue.push(arguments);\r\n",
      "},s.version='1.1',s.queue=[],u=t.createElement(n),u.async=!0,u.src='//static.ads-twitter.com/uwt.js',\r\n",
      "a=t.getElementsByTagName(n)[0],a.parentNode.insertBefore(u,a))}(window,document,'script');\r\n",
      "// Insert Twitter Pixel ID and Standard Event data below\r\n",
      "twq('init','o31ri');\r\n",
      "twq('track','PageView');\r\n",
      "</script>\r\n",
      "<!-- End Twitter universal website tag code --><svg xmlns=\"http://www.w3.org/2000/svg\" viewBox=\"0 0 0 0\" width=\"0\" height=\"0\" focusable=\"false\" role=\"none\" style=\"visibility: hidden; position: absolute; left: -9999px; overflow: hidden;\" ><defs><filter id=\"wp-duotone-dark-grayscale\"><feColorMatrix color-interpolation-filters=\"sRGB\" type=\"matrix\" values=\" .299 .587 .114 0 0 .299 .587 .114 0 0 .299 .587 .114 0 0 .299 .587 .114 0 0 \" /><feComponentTransfer color-interpolation-filters=\"sRGB\" ><feFuncR type=\"table\" tableValues=\"0 0.49803921568627\" /><feFuncG type=\"table\" tableValues=\"0 0.49803921568627\" /><feFuncB type=\"table\" tableValues=\"0 0.49803921568627\" /><feFuncA type=\"table\" tableValues=\"1 1\" /></feComponentTransfer><feComposite in2=\"SourceGraphic\" operator=\"in\" /></filter></defs></svg><svg xmlns=\"http://www.w3.org/2000/svg\" viewBox=\"0 0 0 0\" width=\"0\" height=\"0\" focusable=\"false\" role=\"none\" style=\"visibility: hidden; position: absolute; left: -9999px; overflow: hidden;\" ><defs><filter id=\"wp-duotone-grayscale\"><feColorMatrix color-interpolation-filters=\"sRGB\" type=\"matrix\" values=\" .299 .587 .114 0 0 .299 .587 .114 0 0 .299 .587 .114 0 0 .299 .587 .114 0 0 \" /><feComponentTransfer color-interpolation-filters=\"sRGB\" ><feFuncR type=\"table\" tableValues=\"0 1\" /><feFuncG type=\"table\" tableValues=\"0 1\" /><feFuncB type=\"table\" tableValues=\"0 1\" /><feFuncA type=\"table\" tableValues=\"1 1\" /></feComponentTransfer><feComposite in2=\"SourceGraphic\" operator=\"in\" /></filter></defs></svg><svg xmlns=\"http://www.w3.org/2000/svg\" viewBox=\"0 0 0 0\" width=\"0\" height=\"0\" focusable=\"false\" role=\"none\" style=\"visibility: hidden; position: absolute; left: -9999px; overflow: hidden;\" ><defs><filter id=\"wp-duotone-purple-yellow\"><feColorMatrix color-interpolation-filters=\"sRGB\" type=\"matrix\" values=\" .299 .587 .114 0 0 .299 .587 .114 0 0 .299 .587 .114 0 0 .299 .587 .114 0 0 \" /><feComponentTransfer color-interpolation-filters=\"sRGB\" ><feFuncR type=\"table\" tableValues=\"0.54901960784314 0.98823529411765\" /><feFuncG type=\"table\" tableValues=\"0 1\" /><feFuncB type=\"table\" tableValues=\"0.71764705882353 0.25490196078431\" /><feFuncA type=\"table\" tableValues=\"1 1\" /></feComponentTransfer><feComposite in2=\"SourceGraphic\" operator=\"in\" /></filter></defs></svg><svg xmlns=\"http://www.w3.org/2000/svg\" viewBox=\"0 0 0 0\" width=\"0\" height=\"0\" focusable=\"false\" role=\"none\" style=\"visibility: hidden; position: absolute; left: -9999px; overflow: hidden;\" ><defs><filter id=\"wp-duotone-blue-red\"><feColorMatrix color-interpolation-filters=\"sRGB\" type=\"matrix\" values=\" .299 .587 .114 0 0 .299 .587 .114 0 0 .299 .587 .114 0 0 .299 .587 .114 0 0 \" /><feComponentTransfer color-interpolation-filters=\"sRGB\" ><feFuncR type=\"table\" tableValues=\"0 1\" /><feFuncG type=\"table\" tableValues=\"0 0.27843137254902\" /><feFuncB type=\"table\" tableValues=\"0.5921568627451 0.27843137254902\" /><feFuncA type=\"table\" tableValues=\"1 1\" /></feComponentTransfer><feComposite in2=\"SourceGraphic\" operator=\"in\" /></filter></defs></svg><svg xmlns=\"http://www.w3.org/2000/svg\" viewBox=\"0 0 0 0\" width=\"0\" height=\"0\" focusable=\"false\" role=\"none\" style=\"visibility: hidden; position: absolute; left: -9999px; overflow: hidden;\" ><defs><filter id=\"wp-duotone-midnight\"><feColorMatrix color-interpolation-filters=\"sRGB\" type=\"matrix\" values=\" .299 .587 .114 0 0 .299 .587 .114 0 0 .299 .587 .114 0 0 .299 .587 .114 0 0 \" /><feComponentTransfer color-interpolation-filters=\"sRGB\" ><feFuncR type=\"table\" tableValues=\"0 0\" /><feFuncG type=\"table\" tableValues=\"0 0.64705882352941\" /><feFuncB type=\"table\" tableValues=\"0 1\" /><feFuncA type=\"table\" tableValues=\"1 1\" /></feComponentTransfer><feComposite in2=\"SourceGraphic\" operator=\"in\" /></filter></defs></svg><svg xmlns=\"http://www.w3.org/2000/svg\" viewBox=\"0 0 0 0\" width=\"0\" height=\"0\" focusable=\"false\" role=\"none\" style=\"visibility: hidden; position: absolute; left: -9999px; overflow: hidden;\" ><defs><filter id=\"wp-duotone-magenta-yellow\"><feColorMatrix color-interpolation-filters=\"sRGB\" type=\"matrix\" values=\" .299 .587 .114 0 0 .299 .587 .114 0 0 .299 .587 .114 0 0 .299 .587 .114 0 0 \" /><feComponentTransfer color-interpolation-filters=\"sRGB\" ><feFuncR type=\"table\" tableValues=\"0.78039215686275 1\" /><feFuncG type=\"table\" tableValues=\"0 0.94901960784314\" /><feFuncB type=\"table\" tableValues=\"0.35294117647059 0.47058823529412\" /><feFuncA type=\"table\" tableValues=\"1 1\" /></feComponentTransfer><feComposite in2=\"SourceGraphic\" operator=\"in\" /></filter></defs></svg><svg xmlns=\"http://www.w3.org/2000/svg\" viewBox=\"0 0 0 0\" width=\"0\" height=\"0\" focusable=\"false\" role=\"none\" style=\"visibility: hidden; position: absolute; left: -9999px; overflow: hidden;\" ><defs><filter id=\"wp-duotone-purple-green\"><feColorMatrix color-interpolation-filters=\"sRGB\" type=\"matrix\" values=\" .299 .587 .114 0 0 .299 .587 .114 0 0 .299 .587 .114 0 0 .299 .587 .114 0 0 \" /><feComponentTransfer color-interpolation-filters=\"sRGB\" ><feFuncR type=\"table\" tableValues=\"0.65098039215686 0.40392156862745\" /><feFuncG type=\"table\" tableValues=\"0 1\" /><feFuncB type=\"table\" tableValues=\"0.44705882352941 0.4\" /><feFuncA type=\"table\" tableValues=\"1 1\" /></feComponentTransfer><feComposite in2=\"SourceGraphic\" operator=\"in\" /></filter></defs></svg><svg xmlns=\"http://www.w3.org/2000/svg\" viewBox=\"0 0 0 0\" width=\"0\" height=\"0\" focusable=\"false\" role=\"none\" style=\"visibility: hidden; position: absolute; left: -9999px; overflow: hidden;\" ><defs><filter id=\"wp-duotone-blue-orange\"><feColorMatrix color-interpolation-filters=\"sRGB\" type=\"matrix\" values=\" .299 .587 .114 0 0 .299 .587 .114 0 0 .299 .587 .114 0 0 .299 .587 .114 0 0 \" /><feComponentTransfer color-interpolation-filters=\"sRGB\" ><feFuncR type=\"table\" tableValues=\"0.098039215686275 1\" /><feFuncG type=\"table\" tableValues=\"0 0.66274509803922\" /><feFuncB type=\"table\" tableValues=\"0.84705882352941 0.41960784313725\" /><feFuncA type=\"table\" tableValues=\"1 1\" /></feComponentTransfer><feComposite in2=\"SourceGraphic\" operator=\"in\" /></filter></defs></svg>\n",
      "<!--BEGIN: TRACKING CODE MANAGER (v2.0.16) BY INTELLYWP.COM IN BODY//-->\n",
      "<!-- Google Tag Manager (noscript) -->\r\n",
      "<noscript><iframe src=\"https://www.googletagmanager.com/ns.html?id=GTM-W6LZDPC\" height=\"0\" width=\"0\"></iframe></noscript>\r\n",
      "<!-- End Google Tag Manager (noscript) -->\n",
      "<!--END: https://wordpress.org/plugins/tracking-code-manager IN BODY//-->\r\n",
      "\r\n",
      "\r\n",
      "\r\n",
      "<div id=\"page\" class=\"hfeed site\">\r\n",
      "\t<a class=\"skip-link screen-reader-text\" href=\"#main\">Skip to content</a>\r\n",
      "\r\n",
      "\t\r\n",
      "\t\r\n",
      "\t<header id=\"masthead\" class=\"site-header clearfix colormag-header-classic\">\r\n",
      "\t\t<div id=\"header-text-nav-container\" class=\"clearfix\">\r\n",
      "\r\n",
      "\t\t\t\r\n",
      "\t\t\t\t\t\t\t<div class=\"news-bar\">\r\n",
      "\t\t\t\t<div class=\"inner-wrap clearfix\">\r\n",
      "\t\t\t\t\t\r\n",
      "\t\t\t\t\t\t\t<div class=\"breaking-news\">\r\n",
      "\t\t\t<strong class=\"breaking-news-latest\">\r\n",
      "\t\t\t\tBurrus News:\t\t\t</strong>\r\n",
      "\t\t\t<ul class=\"newsticker\">\r\n",
      "\t\t\t\t\t\t\t\t\t<li>\r\n",
      "\t\t\t\t\t\t<a href=\"https://burrusseed.com/detassel/\" title=\"Detassel with Burrus\">Detassel with Burrus</a>\r\n",
      "\t\t\t\t\t</li>\r\n",
      "\t\t\t\t\t\t\t\t\t<li>\r\n",
      "\t\t\t\t\t\t<a href=\"https://burrusseed.com/soil-temperatures/\" title=\"Soil Temperatures\">Soil Temperatures</a>\r\n",
      "\t\t\t\t\t</li>\r\n",
      "\t\t\t\t\t\t\t\t\t<li>\r\n",
      "\t\t\t\t\t\t<a href=\"https://burrusseed.com/planting-plan-communication/\" title=\"Planting Plan Communication\">Planting Plan Communication</a>\r\n",
      "\t\t\t\t\t</li>\r\n",
      "\t\t\t\t\t\t\t\t\t<li>\r\n",
      "\t\t\t\t\t\t<a href=\"https://burrusseed.com/keys-to-product-success/\" title=\"Selection &#038; Placement: Keys to Product Success\">Selection &#038; Placement: Keys to Product Success</a>\r\n",
      "\t\t\t\t\t</li>\r\n",
      "\t\t\t\t\t\t\t\t\t<li>\r\n",
      "\t\t\t\t\t\t<a href=\"https://burrusseed.com/2022-donmario-data/\" title=\"2022 DONMARIO Yield Data\">2022 DONMARIO Yield Data</a>\r\n",
      "\t\t\t\t\t</li>\r\n",
      "\t\t\t\t\t\t\t</ul>\r\n",
      "\t\t</div>\r\n",
      "\t\t\r\n",
      "\t\t\t\t\t\r\n",
      "\t\t\r\n",
      "\t\t<div class=\"social-links clearfix\">\r\n",
      "\t\t\t<ul>\r\n",
      "\t\t\t\t<li><a href=\"https://www.facebook.com/BurrusSeed\" target=\"_blank\"><i class=\"fa fa-facebook\"></i></a></li><li><a href=\"https://twitter.com/BurrusSeed\" target=\"_blank\"><i class=\"fa fa-twitter\"></i></a></li><li><a href=\"https://www.youtube.com/channel/UCWZtdex0cFtht_jEIU69daw\" target=\"_blank\"><i class=\"fa fa-youtube\"></i></a></li><li><a href=\"https://www.linkedin.com/company/burrus-seed-company\" target=\"_blank\"><i class=\"fa fa-linkedin\"></i></a></li>\r\n",
      "\t\t\t\t\t\t\t</ul>\r\n",
      "\t\t</div><!-- .social-links -->\r\n",
      "\t\t\t\t\t\t</div>\r\n",
      "\t\t\t</div>\r\n",
      "\t\t\r\n",
      "\t\t\t\t\r\n",
      "\t\t\t\t\r\n",
      "\t\t<div class=\"inner-wrap\">\r\n",
      "\r\n",
      "\t\t\t<div id=\"header-text-nav-wrap\" class=\"clearfix\">\r\n",
      "\t\t\t\t<div id=\"header-left-section\">\r\n",
      "\t\t\t\t\t\t\t\t\t\t\t<div id=\"header-logo-image\">\r\n",
      "\t\t\t\t\t\t\t<a href=\"https://burrusseed.com/\" class=\"custom-logo-link\" rel=\"home\"><img width=\"350\" height=\"102\" src=\"https://burrusseed.com/wp-content/uploads/2019/07/Arrow-and-Burrus.png\" class=\"custom-logo\" alt=\"Burrus Seed Logo\" decoding=\"async\" srcset=\"https://burrusseed.com/wp-content/uploads/2019/07/Arrow-and-Burrus.png 350w, https://burrusseed.com/wp-content/uploads/2019/07/Arrow-and-Burrus-300x87.png 300w\" sizes=\"(max-width: 350px) 100vw, 350px\" /></a>\t\t\t\t\t\t</div><!-- #header-logo-image -->\r\n",
      "\t\t\t\t\t\t\t\t\t\t\t<div id=\"header-text\" class=\"screen-reader-text\">\r\n",
      "\t\t\t\t\t\t\t\t\t\t\t\t\t<h3 id=\"site-title\">\r\n",
      "\t\t\t\t\t\t\t\t<a href=\"https://burrusseed.com/\" title=\"Burrus Seed\" rel=\"home\">Burrus Seed</a>\r\n",
      "\t\t\t\t\t\t\t</h3>\r\n",
      "\t\t\t\t\t\t\r\n",
      "\t\t\t\t\t\t\t\t\t\t\t\t<p id=\"site-description\">Hybrid Corn and Soybean Seed Products</p>\r\n",
      "\t\t\t\t\t\t<!-- #site-description -->\r\n",
      "\t\t\t\t\t</div><!-- #header-text -->\r\n",
      "\t\t\t\t</div><!-- #header-left-section -->\r\n",
      "\t\t\t\t<div id=\"header-right-section\">\r\n",
      "\t\t\t\t\t\t\t\t\t\t\t<div id=\"header-right-sidebar\" class=\"clearfix\">\r\n",
      "\t\t\t\t\t\t\t<aside id=\"colormag_728x90_advertisement_widget-2\" class=\"widget widget_728x90_advertisement clearfix\">\r\n",
      "\t\t<div class=\"advertisement_728x90\">\r\n",
      "\t\t\t\t\t\t<div class=\"advertisement-content\"><a href=\"http://demo.themegrill.com/colormag-pro/\" class=\"single_ad_728x90\" target=\"_blank\"rel=\"nofollow\">\r\n",
      "\t\t\t\t\t\t\t\t\t\t\t\t<img src=\"http://demo.themegrill.com/colormag/wp-content/uploads/sites/20/2015/07/ad-color-mag-large.jpg\" width=\"728\" height=\"90\" alt=\"\">\r\n",
      "\t\t\t\t\t\t\t\t\t</a></div>\t\t</div>\r\n",
      "\t\t</aside>\t\t\t\t\t\t</div>\r\n",
      "\t\t\t\t\t\t\t\t\t\t</div><!-- #header-right-section -->\r\n",
      "\r\n",
      "\t\t\t</div><!-- #header-text-nav-wrap -->\r\n",
      "\r\n",
      "\t\t</div><!-- .inner-wrap -->\r\n",
      "\r\n",
      "\t\t\r\n",
      "\t\t\t\t\r\n",
      "\t\t\t\t\r\n",
      "\t\t\t\t\t<nav id=\"site-navigation\" class=\"main-navigation clearfix\">\r\n",
      "\t\t\t\t<div class=\"inner-wrap clearfix\">\r\n",
      "\t\t\t\t\t\t\t\t\t\t\t<div class=\"home-icon\">\r\n",
      "\t\t\t\t\t\t\t<a href=\"https://burrusseed.com/\" title=\"Burrus Seed\"><i class=\"fa fa-home\"></i></a>\r\n",
      "\t\t\t\t\t\t</div>\r\n",
      "\t\t\t\t\t\t\r\n",
      "\t\t\t\t\t\t\t\t\t\t\t<div class=\"search-random-icons-container\">\r\n",
      "\t\t\t\t\t\t\t\t\t\t\t\t\t\t\t<div class=\"top-search-wrap\">\r\n",
      "\t\t\t\t\t\t\t\t\t<i class=\"fa fa-search search-top\"></i>\r\n",
      "\t\t\t\t\t\t\t\t\t<div class=\"search-form-top\">\r\n",
      "\t\t\t\t\t\t\t\t\t\t<form action=\"https://burrusseed.com/\" class=\"search-form searchform clearfix\" method=\"get\">\r\n",
      "\t<div class=\"search-wrap\">\r\n",
      "\t\t<input type=\"text\" placeholder=\"Search\" class=\"s field\" name=\"s\">\r\n",
      "\t\t<button class=\"search-icon\" type=\"submit\"></button>\r\n",
      "\t</div>\r\n",
      "</form><!-- .searchform -->\r\n",
      "\t\t\t\t\t\t\t\t\t</div>\r\n",
      "\t\t\t\t\t\t\t\t</div>\r\n",
      "\t\t\t\t\t\t\t\t\t\t\t\t\t</div>\r\n",
      "\t\t\t\t\t\r\n",
      "\t\t\t\t\t<p class=\"menu-toggle\"></p>\r\n",
      "\t\t\t\t\t<div class=\"menu-primary-container\"><ul id=\"menu-primary\" class=\"menu\"><li id=\"menu-item-3019\" class=\"menu-item menu-item-type-custom menu-item-object-custom current-menu-ancestor current-menu-parent menu-item-has-children menu-item-3019\"><a href=\"#\">Products</a>\n",
      "<ul class=\"sub-menu\">\n",
      "\t<li id=\"menu-item-3094\" class=\"menu-item menu-item-type-post_type menu-item-object-page menu-item-3094\"><a href=\"https://burrusseed.com/product-selection-guide/\">Product Selection Guide</a></li>\n",
      "\t<li id=\"menu-item-588\" class=\"menu-item menu-item-type-post_type menu-item-object-page menu-item-588\"><a href=\"https://burrusseed.com/products-corn/\">Corn</a></li>\n",
      "\t<li id=\"menu-item-636\" class=\"menu-item menu-item-type-post_type menu-item-object-page menu-item-636\"><a href=\"https://burrusseed.com/products-soybeans/\">Soybean</a></li>\n",
      "\t<li id=\"menu-item-662\" class=\"menu-item menu-item-type-post_type menu-item-object-page menu-item-662\"><a href=\"https://burrusseed.com/products-alfalfa/\">Alfalfa</a></li>\n",
      "\t<li id=\"menu-item-1954\" class=\"menu-item menu-item-type-post_type menu-item-object-post current-menu-item menu-item-1954\"><a href=\"https://burrusseed.com/burrus-plot-data/\" aria-current=\"page\">Plot Data</a></li>\n",
      "\t<li id=\"menu-item-4165\" class=\"menu-item menu-item-type-post_type menu-item-object-post menu-item-4165\"><a href=\"https://burrusseed.com/perfect-pop/\">Perfect Pop</a></li>\n",
      "</ul>\n",
      "</li>\n",
      "<li id=\"menu-item-3020\" class=\"menu-item menu-item-type-custom menu-item-object-custom menu-item-has-children menu-item-3020\"><a href=\"#\">Company</a>\n",
      "<ul class=\"sub-menu\">\n",
      "\t<li id=\"menu-item-3171\" class=\"menu-item menu-item-type-post_type menu-item-object-page menu-item-3171\"><a href=\"https://burrusseed.com/our-team/\">Our Team</a></li>\n",
      "\t<li id=\"menu-item-3321\" class=\"menu-item menu-item-type-post_type menu-item-object-page menu-item-3321\"><a href=\"https://burrusseed.com/account-managers/\">Account Manager Team</a></li>\n",
      "\t<li id=\"menu-item-933\" class=\"menu-item menu-item-type-post_type menu-item-object-page menu-item-933\"><a href=\"https://burrusseed.com/careers/\">Careers</a></li>\n",
      "\t<li id=\"menu-item-960\" class=\"menu-item menu-item-type-post_type menu-item-object-page menu-item-960\"><a href=\"https://burrusseed.com/internship/\">Internships</a></li>\n",
      "\t<li id=\"menu-item-763\" class=\"menu-item menu-item-type-post_type menu-item-object-page menu-item-763\"><a href=\"https://burrusseed.com/history/\">Legacy</a></li>\n",
      "\t<li id=\"menu-item-3001\" class=\"menu-item menu-item-type-post_type menu-item-object-page menu-item-3001\"><a href=\"https://burrusseed.com/faqs/\">FAQs</a></li>\n",
      "</ul>\n",
      "</li>\n",
      "<li id=\"menu-item-996\" class=\"menu-item menu-item-type-post_type menu-item-object-page menu-item-has-children menu-item-996\"><a href=\"https://burrusseed.com/resources/\">Resources</a>\n",
      "<ul class=\"sub-menu\">\n",
      "\t<li id=\"menu-item-1858\" class=\"menu-item menu-item-type-post_type menu-item-object-page menu-item-1858\"><a href=\"https://burrusseed.com/burrus-buzz-sign-up/\">Newsletter</a></li>\n",
      "\t<li id=\"menu-item-3139\" class=\"menu-item menu-item-type-post_type menu-item-object-post menu-item-3139\"><a href=\"https://burrusseed.com/harvest-report/\">Harvest Report</a></li>\n",
      "\t<li id=\"menu-item-3140\" class=\"menu-item menu-item-type-post_type menu-item-object-page menu-item-3140\"><a href=\"https://burrusseed.com/product-selection-guide/\">Product Selection Guide</a></li>\n",
      "\t<li id=\"menu-item-1095\" class=\"menu-item menu-item-type-post_type menu-item-object-page menu-item-1095\"><a href=\"https://burrusseed.com/resources/grower-charts/\">Grower Tools</a></li>\n",
      "\t<li id=\"menu-item-1142\" class=\"menu-item menu-item-type-post_type menu-item-object-page menu-item-1142\"><a href=\"https://burrusseed.com/resources/media/\">Media</a></li>\n",
      "</ul>\n",
      "</li>\n",
      "<li id=\"menu-item-293\" class=\"menu-item menu-item-type-custom menu-item-object-custom menu-item-has-children menu-item-293\"><a href=\"#\">Connect</a>\n",
      "<ul class=\"sub-menu\">\n",
      "\t<li id=\"menu-item-319\" class=\"menu-item menu-item-type-custom menu-item-object-custom menu-item-319\"><a href=\"https://www.facebook.com/BurrusSeed/\">Facebook</a></li>\n",
      "\t<li id=\"menu-item-318\" class=\"menu-item menu-item-type-custom menu-item-object-custom menu-item-318\"><a href=\"https://twitter.com/BurrusSeed\">Twitter</a></li>\n",
      "\t<li id=\"menu-item-321\" class=\"menu-item menu-item-type-custom menu-item-object-custom menu-item-321\"><a href=\"https://www.youtube.com/burrusseed\">YouTube</a></li>\n",
      "\t<li id=\"menu-item-322\" class=\"menu-item menu-item-type-custom menu-item-object-custom menu-item-322\"><a href=\"https://www.linkedin.com/company/burrus-seed-company/\">LinkedIn</a></li>\n",
      "\t<li id=\"menu-item-3107\" class=\"menu-item menu-item-type-post_type menu-item-object-page menu-item-3107\"><a href=\"https://burrusseed.com/burrus-buzz-sign-up/\">Newsletter</a></li>\n",
      "\t<li id=\"menu-item-3108\" class=\"menu-item menu-item-type-post_type menu-item-object-post menu-item-3108\"><a href=\"https://burrusseed.com/text-information-program/\">Burrus Information Texts</a></li>\n",
      "</ul>\n",
      "</li>\n",
      "<li id=\"menu-item-2231\" class=\"menu-item menu-item-type-post_type menu-item-object-page menu-item-2231\"><a href=\"https://burrusseed.com/contact-us/\">Contact Us</a></li>\n",
      "</ul></div>\r\n",
      "\t\t\t\t</div>\r\n",
      "\t\t\t</nav>\r\n",
      "\t\t\r\n",
      "\t\t\r\n",
      "\t\t\t\r\n",
      "\t\t</div><!-- #header-text-nav-container -->\r\n",
      "\r\n",
      "\t\t\r\n",
      "\t</header>\r\n",
      "\r\n",
      "\t\t\r\n",
      "\t<div id=\"main\" class=\"clearfix\">\r\n",
      "\t\t\r\n",
      "\t\t\r\n",
      "\t\t<div class=\"inner-wrap clearfix\">\r\n",
      "\t\t\t\r\n",
      "\r\n",
      "<div id=\"primary\">\r\n",
      "\t<div id=\"content\" class=\"clearfix\">\r\n",
      "\r\n",
      "\t\t\r\n",
      "\t\t\t\r\n",
      "<article id=\"post-1952\" class=\"post-1952 post type-post status-publish format-standard has-post-thumbnail hentry category-latest category-products\">\r\n",
      "\t\r\n",
      "\t\r\n",
      "\t\r\n",
      "\t\r\n",
      "\t\t\r\n",
      "\t\r\n",
      "\t<div class=\"article-content clearfix\">\r\n",
      "\r\n",
      "\t\t\r\n",
      "\t\t<div class=\"above-entry-meta\"><span class=\"cat-links\"><a href=\"https://burrusseed.com/category/latest/\" style=\"background:#ffc423\" rel=\"category tag\">Latest</a>&nbsp;<a href=\"https://burrusseed.com/category/products/\" style=\"background:#fd7122\" rel=\"category tag\">Products</a>&nbsp;</span></div>\r\n",
      "\t\t\t<header class=\"entry-header\">\r\n",
      "\t\t\t\t<h1 class=\"entry-title\">\r\n",
      "\t\t\t\t\tPlot Data\t\t\t\t</h1>\r\n",
      "\t\t\t</header>\r\n",
      "\r\n",
      "\t\t\t<div class=\"below-entry-meta \">\r\n",
      "\t\t\t<span class=\"posted-on\"><a href=\"https://burrusseed.com/burrus-plot-data/\" title=\"2:02 pm\" rel=\"bookmark\"><i class=\"fa fa-calendar-o\"></i> <time class=\"entry-date published\" datetime=\"2022-09-02T14:02:00+00:00\">September 2, 2022</time><time class=\"updated\" datetime=\"2022-10-24T14:51:45+00:00\">October 24, 2022</time></a></span>\r\n",
      "\t\t\t<span class=\"byline\"><span class=\"author vcard\" itemprop=\"name\"><i class=\"fa fa-user\"></i><a class=\"url fn n\" href=\"https://burrusseed.com/author/burrusadmin/\" title=\"BURRUSadmin\">BURRUSadmin</a></span></span>\r\n",
      "\r\n",
      "\t\t\t<span class=\"post-views\"><i class=\"fa fa-eye\"></i><span class=\"total-views\">20188 Views</span></span>\r\n",
      "\t\t\t</div>\r\n",
      "\t\t<div class=\"entry-content clearfix\">\r\n",
      "\t\t\t\n",
      "<div style=\"height:25px\" aria-hidden=\"true\" class=\"wp-block-spacer\"></div>\n",
      "\n",
      "\n",
      "\n",
      "<p>Find plot data from Burrus Seed for corn and soybeans. </p>\n",
      "\n",
      "\n",
      "\n",
      "<div style=\"height:25px\" aria-hidden=\"true\" class=\"wp-block-spacer\"></div>\n",
      "\n",
      "\n",
      "\n",
      "<iframe src=\"https://burrus.seedware.net/embed/harvest_data_map.php?zip=62611&amp;zoom=7&amp;link=static&amp;coop=1\" class=\"plot-results\" scrolling=\"no\" frameborder=\"0\"></iframe>\n",
      "<div class='sfsiaftrpstwpr'><div class='sfsi_responsive_icons sfsi-mouseOver-effect sfsi-mouseOver-effect-fade_in' style='display:block;margin-top:0px; margin-bottom: 0px; width:100%' data-icon-width-type='Fully responsive' data-icon-width-size='240' data-edge-type='Round' data-edge-radius='5'  ><div class='sfsi_icons_container sfsi_responsive_without_counter_icons sfsi_small_button_container sfsi_icons_container_box_fully_container ' style='width:100%;display:flex; text-align:center;' ><a target='_blank' href='https://www.facebook.com/sharer/sharer.php?u=https%3A%2F%2Fburrusseed.com%2Fburrus-plot-data%2F' style='display:block;text-align:center;margin-left:10px;  flex-basis:100%;' class=sfsi_responsive_fluid ><div class='sfsi_responsive_icon_item_container sfsi_responsive_icon_facebook_container sfsi_small_button  sfsi_centered_icon' style=' border-radius:5px; width:auto; ' ><img style='max-height: 25px;display:unset;margin:0' class='sfsi_wicon' alt='facebook' src='https://burrusseed.com/wp-content/plugins/ultimate-social-media-icons/images/responsive-icon/facebook.svg'><span style='color:#fff'>Share on Facebook</span></div></a><a target='_blank' href='https://twitter.com/intent/tweet?text=Hey%2C+check+out+this+cool+site+I+found%3A+www.yourname.com+%23Topic+via%40my_twitter_name&url=https%3A%2F%2Fburrusseed.com%2Fburrus-plot-data%2F' style='display:block;text-align:center;margin-left:10px;  flex-basis:100%;' class=sfsi_responsive_fluid ><div class='sfsi_responsive_icon_item_container sfsi_responsive_icon_twitter_container sfsi_small_button  sfsi_centered_icon' style=' border-radius:5px; width:auto; ' ><img style='max-height: 25px;display:unset;margin:0' class='sfsi_wicon' alt='Twitter' src='https://burrusseed.com/wp-content/plugins/ultimate-social-media-icons/images/responsive-icon/Twitter.svg'><span style='color:#fff'>Tweet</span></div></a><a target='_blank' href='https://www.pinterest.com/pin/create/link/?url=https://burrusseed.com/burrus-plot-data/' style='display:block;text-align:center;margin-left:10px;  flex-basis:100%;' class=sfsi_responsive_fluid ><div class='sfsi_responsive_icon_item_container sfsi_responsive_icon_pinterest_container sfsi_small_button  sfsi_centered_icon' style=' border-radius:5px; width:auto; ' ><img style='max-height: 25px;display:unset;margin:0' class='sfsi_wicon' alt='Pinterest' src='https://burrusseed.com/wp-content/plugins/ultimate-social-media-icons/images/responsive-icon/Pinterest.svg'><span style='color:#fff'>Save</span></div></a></div></div></div><!--end responsive_icons-->\t\t</div>\r\n",
      "\r\n",
      "\t\t\t</div>\r\n",
      "\r\n",
      "\t</article>\r\n",
      "\r\n",
      "\t\t\r\n",
      "\t</div><!-- #content -->\r\n",
      "\r\n",
      "\t\r\n",
      "\r\n",
      "\t\t\t<ul class=\"default-wp-page clearfix thumbnail-pagination\">\r\n",
      "\t\t\t\t\t\t\t\t\t<li class=\"previous\">\r\n",
      "\t\t\t\t\t\t<img width=\"130\" height=\"90\" src=\"https://burrusseed.com/wp-content/uploads/2021/09/corndrydown-130x90.png\" class=\"attachment-colormag-featured-post-small size-colormag-featured-post-small wp-post-image\" alt=\"\" decoding=\"async\" loading=\"lazy\" srcset=\"https://burrusseed.com/wp-content/uploads/2021/09/corndrydown-130x90.png 130w, https://burrusseed.com/wp-content/uploads/2021/09/corndrydown-392x272.png 392w\" sizes=\"(max-width: 130px) 100vw, 130px\" /><a href=\"https://burrusseed.com/corn-dry-down/\" rel=\"prev\"><span class=\"meta-nav\">&larr; Previous</span> Estimating Corn Dry Down</a>\t\t\t\t\t</li>\r\n",
      "\t\t\t\t\r\n",
      "\t\t\t\t\t\t\t\t\t<li class=\"next\">\r\n",
      "\t\t\t\t\t\t<a href=\"https://burrusseed.com/harvest-observations/\" rel=\"next\">Harvest Observations <span class=\"meta-nav\">Next &rarr;</span></a><img width=\"130\" height=\"90\" src=\"https://burrusseed.com/wp-content/uploads/2022/09/Native.Ad_.1.2022-130x90.jpg\" class=\"attachment-colormag-featured-post-small size-colormag-featured-post-small wp-post-image\" alt=\"\" decoding=\"async\" loading=\"lazy\" srcset=\"https://burrusseed.com/wp-content/uploads/2022/09/Native.Ad_.1.2022-130x90.jpg 130w, https://burrusseed.com/wp-content/uploads/2022/09/Native.Ad_.1.2022-392x272.jpg 392w\" sizes=\"(max-width: 130px) 100vw, 130px\" />\t\t\t\t\t</li>\r\n",
      "\t\t\t\t\t\t\t</ul>\r\n",
      "\r\n",
      "\t\t\t\r\n",
      "\t\t\r\n",
      "\t\t\r\n",
      "\r\n",
      "\t\r\n",
      "\t<div class=\"related-posts-wrapper style-four\">\r\n",
      "\r\n",
      "\t\t<h4 class=\"related-posts-main-title\">\r\n",
      "\t\t\t<i class=\"fa fa-thumbs-up\"></i><span>Related Content</span>\r\n",
      "\t\t</h4>\r\n",
      "\r\n",
      "\t\t<div class=\"related-posts clearfix related-post-carousel\">\r\n",
      "\r\n",
      "\t\t\t\t\t\t\t<div class=\"single-related-posts\">\r\n",
      "\r\n",
      "\t\t\t\t\t\t\t\t\t\t\t<div class=\"related-posts-thumbnail\">\r\n",
      "\t\t\t\t\t\t\t<a href=\"https://burrusseed.com/donmario-dominates/\" title=\"DONMARIO takes Top 3 in MO Central FIRST trial\">\r\n",
      "\t\t\t\t\t\t\t\t<img width=\"390\" height=\"205\" src=\"https://burrusseed.com/wp-content/uploads/2019/11/summaryperf-390x205.jpg\" class=\"attachment-colormag-featured-post-medium size-colormag-featured-post-medium wp-post-image\" alt=\"\" decoding=\"async\" loading=\"lazy\" />\t\t\t\t\t\t\t</a>\r\n",
      "\t\t\t\t\t\t</div>\r\n",
      "\t\t\t\t\t\r\n",
      "\t\t\t\t\t<div class=\"article-content\">\r\n",
      "\r\n",
      "\t\t\t\t\t\t<h3 class=\"entry-title\">\r\n",
      "\t\t\t\t\t\t\t<a href=\"https://burrusseed.com/donmario-dominates/\" rel=\"bookmark\" title=\"DONMARIO takes Top 3 in MO Central FIRST trial\">DONMARIO takes Top 3 in MO Central FIRST trial</a>\r\n",
      "\t\t\t\t\t\t</h3><!--/.post-title-->\r\n",
      "\r\n",
      "\t\t\t\t\t\t\r\n",
      "\t\t\t\t\t\t\t\t\t\t\t\t\t<div class=\"below-entry-meta \">\r\n",
      "\t\t\t\t\t\t\t\t<span class=\"posted-on\"><a href=\"https://burrusseed.com/donmario-dominates/\" title=\"8:14 pm\" rel=\"bookmark\"><i class=\"fa fa-calendar-o\"></i> <time class=\"entry-date published\" datetime=\"2019-11-08T20:14:49+00:00\">November 8, 2019</time><time class=\"updated\" datetime=\"2020-09-21T19:53:36+00:00\">September 21, 2020</time></a></span>\r\n",
      "\t\t\t\t\t\t\t\t<span class=\"byline\"><span class=\"author vcard\"><i class=\"fa fa-user\"></i><a class=\"url fn n\" href=\"https://burrusseed.com/author/burrusadmin/\" title=\"BURRUSadmin\">BURRUSadmin</a></span></span>\r\n",
      "\r\n",
      "\t\t\t\t\t\t\t\t\t\t\t\t\t\t\t</div>\r\n",
      "\t\t\t\t\t\t\r\n",
      "\t\t\t\t\t\t\t\t\t\t\t</div>\r\n",
      "\r\n",
      "\t\t\t\t</div><!--/.related-->\r\n",
      "\t\t\t\t\t\t\t<div class=\"single-related-posts\">\r\n",
      "\r\n",
      "\t\t\t\t\t\t\t\t\t\t\t<div class=\"related-posts-thumbnail\">\r\n",
      "\t\t\t\t\t\t\t<a href=\"https://burrusseed.com/cover-crops/\" title=\"Considering cover crops\">\r\n",
      "\t\t\t\t\t\t\t\t<img width=\"390\" height=\"205\" src=\"https://burrusseed.com/wp-content/uploads/2020/11/COVER-CROP-390x205.jpg\" class=\"attachment-colormag-featured-post-medium size-colormag-featured-post-medium wp-post-image\" alt=\"photo of a field of cover crop\" decoding=\"async\" loading=\"lazy\" />\t\t\t\t\t\t\t</a>\r\n",
      "\t\t\t\t\t\t</div>\r\n",
      "\t\t\t\t\t\r\n",
      "\t\t\t\t\t<div class=\"article-content\">\r\n",
      "\r\n",
      "\t\t\t\t\t\t<h3 class=\"entry-title\">\r\n",
      "\t\t\t\t\t\t\t<a href=\"https://burrusseed.com/cover-crops/\" rel=\"bookmark\" title=\"Considering cover crops\">Considering cover crops</a>\r\n",
      "\t\t\t\t\t\t</h3><!--/.post-title-->\r\n",
      "\r\n",
      "\t\t\t\t\t\t\r\n",
      "\t\t\t\t\t\t\t\t\t\t\t\t\t<div class=\"below-entry-meta \">\r\n",
      "\t\t\t\t\t\t\t\t<span class=\"posted-on\"><a href=\"https://burrusseed.com/cover-crops/\" title=\"3:24 pm\" rel=\"bookmark\"><i class=\"fa fa-calendar-o\"></i> <time class=\"entry-date published\" datetime=\"2020-11-09T15:24:08+00:00\">November 9, 2020</time><time class=\"updated\" datetime=\"2020-11-10T13:53:54+00:00\">November 10, 2020</time></a></span>\r\n",
      "\t\t\t\t\t\t\t\t<span class=\"byline\"><span class=\"author vcard\"><i class=\"fa fa-user\"></i><a class=\"url fn n\" href=\"https://burrusseed.com/author/burrusadmin/\" title=\"BURRUSadmin\">BURRUSadmin</a></span></span>\r\n",
      "\r\n",
      "\t\t\t\t\t\t\t\t\t\t\t\t\t\t\t</div>\r\n",
      "\t\t\t\t\t\t\r\n",
      "\t\t\t\t\t\t\t\t\t\t\t</div>\r\n",
      "\r\n",
      "\t\t\t\t</div><!--/.related-->\r\n",
      "\t\t\t\t\t\t\t<div class=\"single-related-posts\">\r\n",
      "\r\n",
      "\t\t\t\t\t\t\t\t\t\t\t<div class=\"related-posts-thumbnail\">\r\n",
      "\t\t\t\t\t\t\t<a href=\"https://burrusseed.com/stalk-rot/\" title=\"Stalk Rot\">\r\n",
      "\t\t\t\t\t\t\t\t<img width=\"390\" height=\"205\" src=\"https://burrusseed.com/wp-content/uploads/2019/09/stalk-rot-390x205.jpg\" class=\"attachment-colormag-featured-post-medium size-colormag-featured-post-medium wp-post-image\" alt=\"\" decoding=\"async\" loading=\"lazy\" />\t\t\t\t\t\t\t</a>\r\n",
      "\t\t\t\t\t\t</div>\r\n",
      "\t\t\t\t\t\r\n",
      "\t\t\t\t\t<div class=\"article-content\">\r\n",
      "\r\n",
      "\t\t\t\t\t\t<h3 class=\"entry-title\">\r\n",
      "\t\t\t\t\t\t\t<a href=\"https://burrusseed.com/stalk-rot/\" rel=\"bookmark\" title=\"Stalk Rot\">Stalk Rot</a>\r\n",
      "\t\t\t\t\t\t</h3><!--/.post-title-->\r\n",
      "\r\n",
      "\t\t\t\t\t\t\r\n",
      "\t\t\t\t\t\t\t\t\t\t\t\t\t<div class=\"below-entry-meta \">\r\n",
      "\t\t\t\t\t\t\t\t<span class=\"posted-on\"><a href=\"https://burrusseed.com/stalk-rot/\" title=\"8:23 pm\" rel=\"bookmark\"><i class=\"fa fa-calendar-o\"></i> <time class=\"entry-date published\" datetime=\"2019-09-03T20:23:13+00:00\">September 3, 2019</time><time class=\"updated\" datetime=\"2021-01-29T16:21:33+00:00\">January 29, 2021</time></a></span>\r\n",
      "\t\t\t\t\t\t\t\t<span class=\"byline\"><span class=\"author vcard\"><i class=\"fa fa-user\"></i><a class=\"url fn n\" href=\"https://burrusseed.com/author/burrusadmin/\" title=\"BURRUSadmin\">BURRUSadmin</a></span></span>\r\n",
      "\r\n",
      "\t\t\t\t\t\t\t\t\t\t\t\t\t\t\t</div>\r\n",
      "\t\t\t\t\t\t\r\n",
      "\t\t\t\t\t\t\t\t\t\t\t</div>\r\n",
      "\r\n",
      "\t\t\t\t</div><!--/.related-->\r\n",
      "\t\t\t\r\n",
      "\t\t</div><!--/.post-related-->\r\n",
      "\r\n",
      "\t</div>\r\n",
      "\r\n",
      "\r\n",
      "\t\r\n",
      "\t\r\n",
      "</div><!-- #primary -->\r\n",
      "\r\n",
      "\r\n",
      "<div id=\"secondary\">\r\n",
      "\t\t\t\r\n",
      "\t\t<aside id=\"text-11\" class=\"widget widget_text clearfix\">\t\t\t<div class=\"textwidget\"><div id=\"ctf\" class=\"ctf\"><div class=\"ctf-error\"><div class=\"ctf-error-user\"><p>Unable to load Tweets</p><a class=\"twitter-share-button\"href=\"https://twitter.com/share\"data-size=\"large\"data-url=\"https://burrusseed.com/burrus-plot-data/\"data-text=\"Check out this website\"></a><a class=\"twitter-follow-button\"href=\"https://twitter.com/BurrusSeed\"data-show-count=\"false\"data-size=\"large\"data-dnt=\"true\">Follow</a></div></div></div>\n",
      "</div>\n",
      "\t\t</aside>\r\n",
      "\t</div>\r\n",
      "\r\n",
      "\r\n",
      "\r\n",
      "</div><!-- .inner-wrap -->\r\n",
      "</div><!-- #main -->\r\n",
      "\r\n",
      "\t<div class=\"advertisement_above_footer\">\r\n",
      "\t\t<div class=\"inner-wrap\">\r\n",
      "\t\t\t<aside id=\"text-12\" class=\"widget widget_text clearfix\">\t\t\t<div class=\"textwidget\"><h4>You have questions. We have answers.</h4>\n",
      "<div class=\"everest-forms\"><div class=\"evf-container default\" id=\"evf-2932\"><form id=\"evf-form-2932\" class=\"everest-form\" data-formid=\"2932\" data-ajax_submission=\"0\" data-keyboard_friendly_form=\"0\" method=\"post\" enctype=\"multipart/form-data\" action=\"/burrus-plot-data/\"><div class=\"evf-field-container\"><input type=\"hidden\" id=\"_wpnonce2932\" name=\"_wpnonce2932\" value=\"82085bd732\" /><input type=\"hidden\" name=\"_wp_http_referer\" value=\"/burrus-plot-data/\" /><div class=\"evf-frontend-row\" data-row=\"row_1\" conditional_rules=\"[]\"><div class=\"evf-frontend-grid evf-grid-1\" data-grid=\"grid_1\"><div id=\"evf-2932-field_ys0GeZISRs-1-container\" class=\"evf-field evf-field-first-name form-row validate-required\" data-required-field-message=\"This field is required.\" data-field-id=\"ys0GeZISRs-1\"><label class=\"evf-field-label\" for=\"evf-2932-field_ys0GeZISRs-1\"><span class=\"evf-label\">Name</span> <abbr class=\"required\" title=\"Required\">*</abbr></label><input type=\"text\" id=\"evf-2932-field_ys0GeZISRs-1\" class=\"input-text\" name=\"everest_forms[form_fields][ys0GeZISRs-1]\" conditional_id=\"ys0GeZISRs-1\" required></div><div id=\"evf-2932-field_R84RpBocrx-5-container\" class=\"evf-field evf-field-number form-row validate-required\" data-required-field-message=\"Please enter a valid ZIP code.\" data-field-id=\"R84RpBocrx-5\"><label class=\"evf-field-label\" for=\"evf-2932-field_R84RpBocrx-5\"><span class=\"evf-label\">ZIP Code</span> <abbr class=\"required\" title=\"Required\">*</abbr></label><input type=\"number\" id=\"evf-2932-field_R84RpBocrx-5\" class=\"input-text\" name=\"everest_forms[form_fields][R84RpBocrx-5]\" step=\"1\" conditional_id=\"R84RpBocrx-5\" required/></div><div id=\"evf-2932-field_qjHcSDZCGA-6-container\" class=\"evf-field evf-field-phone form-row validate-required validate-phone\" data-required-field-message=\"Please enter a valid phone number.\" data-field-id=\"qjHcSDZCGA-6\"><label class=\"evf-field-label\" for=\"evf-2932-field_qjHcSDZCGA-6\"><span class=\"evf-label\">Phone</span> <abbr class=\"required\" title=\"Required\">*</abbr></label><input type=\"tel\" id=\"evf-2932-field_qjHcSDZCGA-6\" class=\"input-text evf-smart-phone-field\" data-rule-smart-phone-field=\"true\" name=\"everest_forms[form_fields][qjHcSDZCGA-6]\" conditional_id=\"qjHcSDZCGA-6\" required></div><div id=\"evf-2932-field_KBEjz51iMU-7-container\" class=\"evf-field evf-field-email form-row validate-required validate-email\" data-required-field-message=\"Please enter a valid email address.\" data-field-id=\"KBEjz51iMU-7\"><label class=\"evf-field-label\" for=\"evf-2932-field_KBEjz51iMU-7\"><span class=\"evf-label\">Email</span> <abbr class=\"required\" title=\"Required\">*</abbr></label><input type=\"email\" id=\"evf-2932-field_KBEjz51iMU-7\" class=\"input-text\" name=\"everest_forms[form_fields][KBEjz51iMU-7]\" conditional_id=\"KBEjz51iMU-7\" required ></div></div></div></div><div class=\"evf-honeypot-container evf-field-hp\"><label for=\"evf-2932-field-hp\" class=\"evf-field-label\">Message</label><input type=\"text\" name=\"everest_forms[hp]\" id=\"evf-2932-field-hp\" class=\"input-text\"></div><div class=\"evf-submit-container \" ><input type=\"hidden\" name=\"everest_forms[id]\" value=\"2932\"><input type=\"hidden\" name=\"everest_forms[author]\" value=\"1\"><input type=\"hidden\" name=\"everest_forms[post_id]\" value=\"1952\"><button type='submit' name='everest_forms[submit]' class='everest-forms-submit-button button evf-submit ' id='evf-submit-2932' value='evf-submit' data-process-text=\"Processing…\" conditional_rules='&quot;&quot;' conditional_id='evf-submit-2932'  id=\"evf-submit-2932\" aria-live=\"assertive\">Submit</button></div></form></div><!-- .evf-container --></div>\n",
      "</div>\n",
      "\t\t</aside>\t\t</div>\r\n",
      "\t</div>\r\n",
      "\r\n",
      "\r\n",
      "\r\n",
      "<footer id=\"colophon\" class=\"clearfix  \">\r\n",
      "\t\r\n",
      "<div class=\"footer-widgets-wrapper\">\r\n",
      "\t<div class=\"inner-wrap\">\r\n",
      "\t\t<div class=\"footer-widgets-area clearfix\">\r\n",
      "\t\t\t<div class=\"tg-upper-footer-widgets clearfix\">\r\n",
      "\t\t\t\t<div class=\"footer_upper_widget_area tg-one-third\">\r\n",
      "\t\t\t\t\t\t\t\t\t</div>\r\n",
      "\t\t\t\t<div class=\"footer_upper_widget_area tg-one-third\">\r\n",
      "\t\t\t\t\t\t\t\t\t</div>\r\n",
      "\t\t\t\t<div class=\"footer_upper_widget_area tg-one-third tg-one-third-last\">\r\n",
      "\t\t\t\t\t\t\t\t\t</div>\r\n",
      "\t\t\t</div>\r\n",
      "\r\n",
      "\t\t\t<div class=\"tg-footer-main-widget\">\r\n",
      "\t\t\t\t<div class=\"tg-first-footer-widget\">\r\n",
      "\t\t\t\t\t<aside id=\"text-1\" class=\"widget widget_text clearfix\"><h3 class=\"widget-title\"><span>About Us</span></h3>\t\t\t<div class=\"textwidget\"><a title=\"Burrus Seed\" href=\"https://burrusseed.com/\"><img alt=\"Burrus Seed Logo\" src=\"https://burrusseed.com/wp-content/uploads/2019/07/Burrus-white-text-outlined.png\"></a><br/>\r\n",
      "<p class=\"small-type\">Burrus® is a registered trademark of Burrus®. Power Plus® brand seed is distributed by Burrus. Power Plus® is a registered trademark of Pioneer. DONMARIO™ is a trademark used by B&B Seeds, LLC under license from GDM Seeds, Inc. Burrus is a distributor of DONMARIO™ products for B&B Seeds, LLC. </p>\r\n",
      "<p class=\"small-type\"><a href=\"https://burrusseed.com/terms/\">Terms &amp; Conditions</a><br />\r\n",
      "<a href=\"https://burrusseed.com/product-legal/\">Product Legal &amp; Trademarks</a>\r\n",
      "</p></div>\n",
      "\t\t</aside>\t\t\t\t</div>\r\n",
      "\t\t\t</div>\r\n",
      "\r\n",
      "\t\t\t<div class=\"tg-footer-other-widgets\">\r\n",
      "\t\t\t\t<div class=\"tg-second-footer-widget\">\r\n",
      "\t\t\t\t\t<aside id=\"media_gallery-3\" class=\"widget widget_media_gallery clearfix\"><h3 class=\"widget-title\"><span>BURRUS BRANDS</span></h3><div id='gallery-1' class='gallery galleryid-1952 gallery-columns-2 gallery-size-full'><figure class='gallery-item'>\n",
      "\t\t\t<div class='gallery-icon landscape'>\n",
      "\t\t\t\t<img width=\"130\" height=\"68\" src=\"https://burrusseed.com/wp-content/uploads/2019/05/logo-donmario-footer-2.png\" class=\"attachment-full size-full\" alt=\"\" decoding=\"async\" loading=\"lazy\" />\n",
      "\t\t\t</div></figure><figure class='gallery-item'>\n",
      "\t\t\t<div class='gallery-icon landscape'>\n",
      "\t\t\t\t<img width=\"130\" height=\"68\" src=\"https://burrusseed.com/wp-content/uploads/2019/04/logo-powerplus.png\" class=\"attachment-full size-full\" alt=\"PowerPlus Logo\" decoding=\"async\" loading=\"lazy\" />\n",
      "\t\t\t</div></figure>\n",
      "\t\t</div>\n",
      "</aside><aside id=\"text-16\" class=\"widget widget_text clearfix\">\t\t\t<div class=\"textwidget\"><div style=\"padding-left: 10px;\">\n",
      "<h6><a href=\"https://burrusseed.com/burrus-dealer-logins/\">BURRUS LOGINS</a></h6>\n",
      "</div>\n",
      "</div>\n",
      "\t\t</aside>\t\t\t\t</div>\r\n",
      "\t\t\t\t<div class=\"tg-third-footer-widget\">\r\n",
      "\t\t\t\t\t<aside id=\"text-18\" class=\"widget widget_text clearfix\">\t\t\t<div class=\"textwidget\"><div style=\"padding-left: 20px;\">\n",
      "<h6><a href=\"https://burrusseed.com/contact-us/\">CONTACT US</a></h6>\n",
      "<div style=\"padding-left: 10px;\">\n",
      "<a href=\"tel:1-877-428-7787\">877-4-BURRUS</a><br />\n",
      "<a href=\"mailto:burrus.seed@burrusseed.com\">burrus.seed@burrusseed.com</a></p>\n",
      "<h6 class=\"bright-blue\">Burrus Arenzville</h6>\n",
      "<p>826 Arenzville Road<br />\n",
      "Arenzville, IL 62611</p>\n",
      "<h6 class=\"bright-blue\">Burrus Jacksonville</h6>\n",
      "<p>200 Capitol Way<br />\n",
      "Jacksonville, IL 62650</p>\n",
      "</div>\n",
      "</div>\n",
      "\t\t</aside>\t\t\t\t</div>\r\n",
      "\t\t\t\t<div class=\"tg-fourth-footer-widget\">\r\n",
      "\t\t\t\t\t<aside id=\"colormag_300x250_advertisement_widget-3\" class=\"widget widget_300x250_advertisement clearfix\">\r\n",
      "\t\t<div class=\"advertisement_300x250\">\r\n",
      "\t\t\t\t\t\t<div class=\"advertisement-content\"><img src=\"http://burrusseed.com/wp-content/uploads/2019/04/img-bannerad-square-2.png\" width=\"300\" height=\"250\" alt=\"When Nature is a Real Mother\"></div>\t\t</div>\r\n",
      "\t\t</aside><aside id=\"text-4\" class=\"widget widget_text clearfix\">\t\t\t<div class=\"textwidget\"><p>Contains all features of free version and many new additional features.</p>\n",
      "</div>\n",
      "\t\t</aside>\t\t\t\t</div>\r\n",
      "\t\t\t</div>\r\n",
      "\r\n",
      "\t\t\t<div class=\"footer-full-width-sidebar inner-wrap clearfix\">\r\n",
      "\t\t\t\t\t\t\t</div>\r\n",
      "\t\t</div>\r\n",
      "\t</div>\r\n",
      "</div>\r\n",
      "\t<div class=\"footer-socket-wrapper clearfix\">\r\n",
      "\t\t<div class=\"inner-wrap\">\r\n",
      "\t\t\t<div class=\"footer-socket-area\">\r\n",
      "\t\t\t\t<div class=\"footer-socket-right-section\">\r\n",
      "\t\t\t\t\t\r\n",
      "\t\t\r\n",
      "\t\t<div class=\"social-links clearfix\">\r\n",
      "\t\t\t<ul>\r\n",
      "\t\t\t\t<li><a href=\"https://www.facebook.com/BurrusSeed\" target=\"_blank\"><i class=\"fa fa-facebook\"></i></a></li><li><a href=\"https://twitter.com/BurrusSeed\" target=\"_blank\"><i class=\"fa fa-twitter\"></i></a></li><li><a href=\"https://www.youtube.com/channel/UCWZtdex0cFtht_jEIU69daw\" target=\"_blank\"><i class=\"fa fa-youtube\"></i></a></li><li><a href=\"https://www.linkedin.com/company/burrus-seed-company\" target=\"_blank\"><i class=\"fa fa-linkedin\"></i></a></li>\r\n",
      "\t\t\t\t\t\t\t</ul>\r\n",
      "\t\t</div><!-- .social-links -->\r\n",
      "\t\t\r\n",
      "\t\t\t\t\t<nav class=\"footer-menu clearfix\">\r\n",
      "\t\t\t\t\t\t\t\t\t\t\t</nav>\r\n",
      "\t\t\t\t</div>\r\n",
      "\r\n",
      "\t\t\t\t<div class=\"footer-socket-left-section\">\r\n",
      "\t\t\t\t\t<div class=\"copyright\">Copyright ©  2023 <a href=\"https://burrusseed.com/\" title=\"Burrus Seed\" ><span>Burrus Seed</span></a>. All rights reserved. </div>\t\t\t\t</div>\r\n",
      "\t\t\t</div>\r\n",
      "\r\n",
      "\t\t</div>\r\n",
      "\t</div>\r\n",
      "</footer>\r\n",
      "\r\n",
      "\r\n",
      "\r\n",
      "\r\n",
      "</div><!-- #page -->\r\n",
      "<!-- Twitter universal website tag code -->\r\n",
      "<script>\r\n",
      "!function(e,t,n,s,u,a){e.twq||(s=e.twq=function(){s.exe?s.exe.apply(s,arguments):s.queue.push(arguments);\r\n",
      "},s.version='1.1',s.queue=[],u=t.createElement(n),u.async=!0,u.src='//static.ads-twitter.com/uwt.js',\r\n",
      "a=t.getElementsByTagName(n)[0],a.parentNode.insertBefore(u,a))}(window,document,'script');\r\n",
      "// Insert Twitter Pixel ID and Standard Event data below\r\n",
      "twq('init','o31ri');\r\n",
      "twq('track','PageView');\r\n",
      "</script>\r\n",
      "<!-- End Twitter universal website tag code -->\n",
      "\t\t\t<!--facebook like and share js -->\r\n",
      "\t\t\t<div id=\"fb-root\"></div>\r\n",
      "\t\t\t<script>\r\n",
      "\t\t\t\t(function(d, s, id) {\r\n",
      "\t\t\t\t\tvar js, fjs = d.getElementsByTagName(s)[0];\r\n",
      "\t\t\t\t\tif (d.getElementById(id)) return;\r\n",
      "\t\t\t\t\tjs = d.createElement(s);\r\n",
      "\t\t\t\t\tjs.id = id;\r\n",
      "\t\t\t\t\tjs.src = \"//connect.facebook.net/en_US/sdk.js#xfbml=1&version=v2.5\";\r\n",
      "\t\t\t\t\tfjs.parentNode.insertBefore(js, fjs);\r\n",
      "\t\t\t\t}(document, 'script', 'facebook-jssdk'));\r\n",
      "\t\t\t</script>\r\n",
      "\t\t<script>\n",
      "window.addEventListener('sfsi_functions_loaded', function() {\n",
      "    if (typeof sfsi_responsive_toggle == 'function') {\n",
      "        sfsi_responsive_toggle(0);\n",
      "        // console.log('sfsi_responsive_toggle');\n",
      "\n",
      "    }\n",
      "})\n",
      "</script>\n",
      "    <script>\r\n",
      "        window.addEventListener('sfsi_functions_loaded', function() {\r\n",
      "            if (typeof sfsi_plugin_version == 'function') {\r\n",
      "                sfsi_plugin_version(2.77);\r\n",
      "            }\r\n",
      "        });\r\n",
      "\r\n",
      "        function sfsi_processfurther(ref) {\r\n",
      "            var feed_id = 'ekdOZjJUZGR2aTVSODA5VnM0dVE3SUJZdmxHMk5YUGtZY0JHM3hoRkxLaFdSMlBlRkFuS2d0bkg0N205aGFvbzlTT2d5T0RYM0xyWVdXZnBEZEpwSGVOR05XZFlZMDBiQnVURm9YRGk4MWw2NzY2VnNlU0V0RjRKNXNFd1cvRU58WUg1MUdDOEF0OHkweEpqa3Z0dTU2N0NoMnpnTFlqYXZDUEZiamlycnZBST0=';\r\n",
      "            var feedtype = 8;\r\n",
      "            var email = jQuery(ref).find('input[name=\"email\"]').val();\r\n",
      "            var filter = /^([a-zA-Z0-9_\\.\\-])+\\@(([a-zA-Z0-9\\-])+\\.)+([a-zA-Z0-9]{2,4})+$/;\r\n",
      "            if ((email != \"Enter your email\") && (filter.test(email))) {\r\n",
      "                if (feedtype == \"8\") {\r\n",
      "                    var url = \"https://api.follow.it/subscription-form/\" + feed_id + \"/\" + feedtype;\r\n",
      "                    window.open(url, \"popupwindow\", \"scrollbars=yes,width=1080,height=760\");\r\n",
      "                    return true;\r\n",
      "                }\r\n",
      "            } else {\r\n",
      "                alert(\"Please enter email address\");\r\n",
      "                jQuery(ref).find('input[name=\"email\"]').focus();\r\n",
      "                return false;\r\n",
      "            }\r\n",
      "        }\r\n",
      "    </script>\r\n",
      "    <style type=\"text/css\" aria-selected=\"true\">\r\n",
      "        .sfsi_subscribe_Popinner {\r\n",
      "            width: 100% !important;\r\n",
      "\r\n",
      "            height: auto !important;\r\n",
      "\r\n",
      "            padding: 18px 0px !important;\r\n",
      "\r\n",
      "            background-color: #ffffff !important;\r\n",
      "        }\r\n",
      "        .sfsi_subscribe_Popinner form {\r\n",
      "            margin: 0 20px !important;\r\n",
      "        }\r\n",
      "        .sfsi_subscribe_Popinner h5 {\r\n",
      "            font-family: Helvetica,Arial,sans-serif !important;\r\n",
      "\r\n",
      "            font-weight: bold !important;\r\n",
      "\r\n",
      "            color: #000000 !important;\r\n",
      "\r\n",
      "            font-size: 16px !important;\r\n",
      "\r\n",
      "            text-align: center !important;\r\n",
      "            margin: 0 0 10px !important;\r\n",
      "            padding: 0 !important;\r\n",
      "        }\r\n",
      "        .sfsi_subscription_form_field {\r\n",
      "            margin: 5px 0 !important;\r\n",
      "            width: 100% !important;\r\n",
      "            display: inline-flex;\r\n",
      "            display: -webkit-inline-flex;\r\n",
      "        }\r\n",
      "\r\n",
      "        .sfsi_subscription_form_field input {\r\n",
      "            width: 100% !important;\r\n",
      "            padding: 10px 0px !important;\r\n",
      "        }\r\n",
      "\r\n",
      "        .sfsi_subscribe_Popinner input[type=email] {\r\n",
      "            font-family: Helvetica,Arial,sans-serif !important;\r\n",
      "\r\n",
      "            font-style: normal !important;\r\n",
      "\r\n",
      "            color:  !important;\r\n",
      "\r\n",
      "            font-size: 14px !important;\r\n",
      "\r\n",
      "            text-align: center !important;\r\n",
      "        }\r\n",
      "\r\n",
      "        .sfsi_subscribe_Popinner input[type=email]::-webkit-input-placeholder {\r\n",
      "\r\n",
      "            font-family: Helvetica,Arial,sans-serif !important;\r\n",
      "\r\n",
      "            font-style: normal !important;\r\n",
      "\r\n",
      "            color:  !important;\r\n",
      "\r\n",
      "            font-size: 14px !important;\r\n",
      "\r\n",
      "            text-align: center !important;\r\n",
      "        }\r\n",
      "        .sfsi_subscribe_Popinner input[type=email]:-moz-placeholder {\r\n",
      "            /* Firefox 18- */\r\n",
      "\r\n",
      "            font-family: Helvetica,Arial,sans-serif !important;\r\n",
      "\r\n",
      "            font-style: normal !important;\r\n",
      "\r\n",
      "            color:  !important;\r\n",
      "\r\n",
      "            font-size: 14px !important;\r\n",
      "\r\n",
      "            text-align: center !important;\r\n",
      "\r\n",
      "        }\r\n",
      "\r\n",
      "        .sfsi_subscribe_Popinner input[type=email]::-moz-placeholder {\r\n",
      "            /* Firefox 19+ */\r\n",
      "            font-family: Helvetica,Arial,sans-serif !important;\r\n",
      "\r\n",
      "            font-style: normal !important;\r\n",
      "\r\n",
      "            color:  !important;\r\n",
      "\r\n",
      "            font-size: 14px !important;\r\n",
      "\r\n",
      "            text-align: center !important;\r\n",
      "\r\n",
      "        }\r\n",
      "\r\n",
      "        .sfsi_subscribe_Popinner input[type=email]:-ms-input-placeholder {\r\n",
      "            font-family: Helvetica,Arial,sans-serif !important;\r\n",
      "\r\n",
      "            font-style: normal !important;\r\n",
      "\r\n",
      "            color:  !important;\r\n",
      "\r\n",
      "            font-size: 14px !important;\r\n",
      "\r\n",
      "            text-align: center !important;\r\n",
      "        }\r\n",
      "\r\n",
      "        .sfsi_subscribe_Popinner input[type=submit] {\r\n",
      "            font-family: Helvetica,Arial,sans-serif !important;\r\n",
      "\r\n",
      "            font-weight: bold !important;\r\n",
      "\r\n",
      "            color: #000000 !important;\r\n",
      "\r\n",
      "            font-size: 16px !important;\r\n",
      "\r\n",
      "            text-align: center !important;\r\n",
      "\r\n",
      "            background-color: #dedede !important;\r\n",
      "        }\r\n",
      "\r\n",
      "        .sfsi_shortcode_container {\r\n",
      "            float: left;\r\n",
      "        }\r\n",
      "\r\n",
      "        .sfsi_shortcode_container .norm_row .sfsi_wDiv {\r\n",
      "            position: relative !important;\r\n",
      "        }\r\n",
      "\r\n",
      "        .sfsi_shortcode_container .sfsi_holders {\r\n",
      "            display: none;\r\n",
      "        }\r\n",
      "\r\n",
      "            </style>\r\n",
      "\r\n",
      "\t<script type=\"text/javascript\">\n",
      "\t\tvar c = document.body.className;\n",
      "\t\tc = c.replace( /everest-forms-no-js/, 'everest-forms-js' );\n",
      "\t\tdocument.body.className = c;\n",
      "\t</script>\n",
      "\t<link rel='stylesheet' id='jquery-intl-tel-input-css' href='https://burrusseed.com/wp-content/plugins/everest-forms-pro/assets/css/intlTelInput.css?ver=1.3.7.2' type='text/css' media='all' />\n",
      "<script type='text/javascript' src='https://burrusseed.com/wp-content/plugins/responsive-accordion-and-collapse/js/accordion-custom.js?ver=6.2' id='call_ac-custom-js-front-js'></script>\n",
      "<script type='text/javascript' src='https://burrusseed.com/wp-content/plugins/responsive-accordion-and-collapse/js/accordion.js?ver=6.2' id='call_ac-js-front-js'></script>\n",
      "<script type='text/javascript' src='https://burrusseed.com/wp-includes/js/jquery/ui/core.min.js?ver=1.13.2' id='jquery-ui-core-js'></script>\n",
      "<script type='text/javascript' src='https://burrusseed.com/wp-content/plugins/ultimate-social-media-icons/js/shuffle/modernizr.custom.min.js?ver=6.2' id='SFSIjqueryModernizr-js'></script>\n",
      "<script type='text/javascript' src='https://burrusseed.com/wp-content/plugins/ultimate-social-media-icons/js/shuffle/jquery.shuffle.min.js?ver=6.2' id='SFSIjqueryShuffle-js'></script>\n",
      "<script type='text/javascript' src='https://burrusseed.com/wp-content/plugins/ultimate-social-media-icons/js/shuffle/random-shuffle-min.js?ver=6.2' id='SFSIjqueryrandom-shuffle-js'></script>\n",
      "<script type='text/javascript' id='SFSICustomJs-js-extra'>\n",
      "/* <![CDATA[ */\n",
      "var sfsi_icon_ajax_object = {\"ajax_url\":\"https:\\/\\/burrusseed.com\\/wp-admin\\/admin-ajax.php\",\"plugin_url\":\"https:\\/\\/burrusseed.com\\/wp-content\\/plugins\\/ultimate-social-media-icons\\/\"};\n",
      "/* ]]> */\n",
      "</script>\n",
      "<script type='text/javascript' src='https://burrusseed.com/wp-content/plugins/ultimate-social-media-icons/js/custom.js?ver=2.8.1' id='SFSICustomJs-js'></script>\n",
      "<script type='text/javascript' src='https://burrusseed.com/wp-content/plugins/everest-forms/assets/js/inputmask/jquery.inputmask.bundle.min.js?ver=4.0.0-beta.58' id='inputmask-js'></script>\n",
      "<script type='text/javascript' src='https://burrusseed.com/wp-content/plugins/everest-forms/assets/js/jquery-validate/jquery.validate.min.js?ver=1.19.2' id='jquery-validate-js'></script>\n",
      "<script type='text/javascript' id='everest-forms-js-extra'>\n",
      "/* <![CDATA[ */\n",
      "var everest_forms_params = {\"ajax_url\":\"\\/wp-admin\\/admin-ajax.php\",\"submit\":\"Submit\",\"disable_user_details\":\"no\",\"everest_forms_data_save\":\"6a8ff1967c\",\"i18n_messages_required\":\"This field is required.\",\"i18n_messages_url\":\"Please enter a valid URL.\",\"i18n_messages_email\":\"Please enter a valid email address.\",\"i18n_messages_email_suggestion\":\"Did you mean {suggestion}?\",\"i18n_messages_email_suggestion_title\":\"Click to accept this suggestion.\",\"i18n_messages_confirm\":\"Field values do not match.\",\"i18n_messages_check_limit\":\"You have exceeded number of allowed selections: {#}.\",\"i18n_messages_number\":\"Please enter a valid number.\",\"i18n_no_matches\":\"No matches found\",\"mailcheck_enabled\":\"1\",\"mailcheck_domains\":[],\"mailcheck_toplevel_domains\":[\"dev\"],\"i18n_no_countries\":\"No countries found\",\"i18n_messages_phone\":\"Please enter a valid phone number.\",\"i18n_messages_fileextension\":\"File type is not allowed.\",\"i18n_messages_filesize\":\"File exceeds max size allowed.\"};\n",
      "/* ]]> */\n",
      "</script>\n",
      "<script type='text/javascript' src='https://burrusseed.com/wp-content/plugins/everest-forms/assets/js/frontend/everest-forms.min.js?ver=1.9.9' id='everest-forms-js'></script>\n",
      "<script type='text/javascript' id='everest-forms-pro-js-extra'>\n",
      "/* <![CDATA[ */\n",
      "var everest_forms_pro_params = {\"plugin_url\":\"https:\\/\\/burrusseed.com\\/wp-content\\/plugins\\/everest-forms-pro\\/\"};\n",
      "/* ]]> */\n",
      "</script>\n",
      "<script type='text/javascript' src='https://burrusseed.com/wp-content/plugins/everest-forms-pro/assets/js/frontend/everest-forms-pro.min.js?ver=1.3.7.2' id='everest-forms-pro-js'></script>\n",
      "<script type='text/javascript' src='https://burrusseed.com/wp-content/plugins/everest-forms-pro/assets/js/frontend/conditional-logic-frontend.min.js?ver=1.3.7.2' id='conditional-logic-builder-js'></script>\n",
      "<script type='text/javascript' src='https://burrusseed.com/wp-content/themes/colormag-pro/js/jquery.bxslider.min.js?ver=4.2.10' id='colormag-bxslider-js'></script>\n",
      "<script type='text/javascript' src='https://burrusseed.com/wp-content/themes/colormag-pro/js/sticky/jquery.sticky.min.js?ver=20150309' id='colormag-sticky-menu-js'></script>\n",
      "<script type='text/javascript' src='https://burrusseed.com/wp-content/themes/colormag-pro/js/news-ticker/jquery.newsTicker.min.js?ver=1.0.0' id='colormag-news-ticker-js'></script>\n",
      "<script type='text/javascript' src='https://burrusseed.com/wp-content/themes/colormag-pro/js/magnific-popup/jquery.magnific-popup.min.js?ver=1.1.0' id='colormag-featured-image-popup-js'></script>\n",
      "<script type='text/javascript' src='https://burrusseed.com/wp-content/themes/colormag-pro/js/navigation.min.js?ver=6.2' id='colormag-navigation-js'></script>\n",
      "<script type='text/javascript' src='https://burrusseed.com/wp-content/themes/colormag-pro/js/fitvids/jquery.fitvids.min.js?ver=1.2.0' id='colormag-fitvids-js'></script>\n",
      "<script type='text/javascript' src='https://burrusseed.com/wp-content/themes/colormag-pro/js/theia-sticky-sidebar/theia-sticky-sidebar.min.js?ver=1.7.0' id='theia-sticky-sidebar-js'></script>\n",
      "<script type='text/javascript' src='https://burrusseed.com/wp-content/themes/colormag-pro/js/theia-sticky-sidebar/ResizeSensor.min.js?ver=6.2' id='ResizeSensor-js'></script>\n",
      "<script type='text/javascript' src='https://burrusseed.com/wp-content/themes/colormag-pro/js/skip-link-focus-fix.min.js?ver=6.2' id='colormag-skip-link-focus-fix-js'></script>\n",
      "<script type='text/javascript' id='colormag-custom-js-extra'>\n",
      "/* <![CDATA[ */\n",
      "var colormag_ticker_settings = {\"breaking_news_slide_effect\":\"down\",\"breaking_news_duration\":\"4000\",\"breaking_news_speed\":\"1000\"};\n",
      "var colormag_load_more = {\"tg_nonce\":\"52f73fe65c\",\"ajax_url\":\"https:\\/\\/burrusseed.com\\/wp-admin\\/admin-ajax.php\"};\n",
      "/* ]]> */\n",
      "</script>\n",
      "<script type='text/javascript' src='https://burrusseed.com/wp-content/themes/colormag-pro/js/colormag-custom.min.js?ver=6.2' id='colormag-custom-js'></script>\n",
      "<script type='text/javascript' id='colormag-loadmore-js-extra'>\n",
      "/* <![CDATA[ */\n",
      "var colormag_script_vars = {\"no_more_posts\":\"No more post\"};\n",
      "/* ]]> */\n",
      "</script>\n",
      "<script type='text/javascript' src='https://burrusseed.com/wp-content/themes/colormag-pro/js/loadmore.min.js?ver=6.2' id='colormag-loadmore-js'></script>\n",
      "<script type='text/javascript' src='https://burrusseed.com/wp-content/plugins/3d-flipbook-dflip-lite/assets/js/dflip.min.js?ver=1.7.35' id='dflip-script-js'></script>\n",
      "<script type='text/javascript' id='ctf_scripts-js-extra'>\n",
      "/* <![CDATA[ */\n",
      "var ctf = {\"ajax_url\":\"https:\\/\\/burrusseed.com\\/wp-admin\\/admin-ajax.php\",\"font_method\":\"svg\"};\n",
      "/* ]]> */\n",
      "</script>\n",
      "<script type='text/javascript' src='https://burrusseed.com/wp-content/plugins/custom-twitter-feeds-pro/js/ctf-scripts.min.js?ver=1.8' id='ctf_scripts-js'></script>\n",
      "<script type='text/javascript' src='https://burrusseed.com/wp-content/plugins/everest-forms/assets/js/mailcheck/mailcheck.min.js?ver=1.1.2' id='mailcheck-js'></script>\n",
      "<script type='text/javascript' src='https://burrusseed.com/wp-content/plugins/everest-forms-pro/assets/js/intlTelInput/jquery.intlTelInput.min.js?ver=16.0.7' id='jquery-intl-tel-input-js'></script>\n",
      "<script type='text/javascript' id='everest-forms-ajax-submission-js-extra'>\n",
      "/* <![CDATA[ */\n",
      "var everest_forms_ajax_submission_params = {\"ajax_url\":\"https:\\/\\/burrusseed.com\\/wp-admin\\/admin-ajax.php\",\"evf_ajax_submission\":\"ec23c02dbe\",\"submit\":\"Submit\",\"error\":\"Something went wrong while making an AJAX submission\",\"required\":\"This field is required.\",\"pdf_download\":\"Click here to download your pdf submission\"};\n",
      "/* ]]> */\n",
      "</script>\n",
      "<script type='text/javascript' src='https://burrusseed.com/wp-content/plugins/everest-forms/assets/js/frontend/ajax-submission.min.js?ver=1.9.9' id='everest-forms-ajax-submission-js'></script>\n",
      "<script type='text/javascript' src='https://burrusseed.com/wp-content/plugins/everest-forms-pro/assets/js/signature_pad/signature_pad.umd.js?ver=1' id='signature-pad-js'></script>\n",
      "<script type='text/javascript' id='everest-forms-signature-js-extra'>\n",
      "/* <![CDATA[ */\n",
      "var evf_signature_params = {\"background_color\":\"rgb(255, 255, 255)\",\"pen_color\":\"rgba(0,0,0,1)\",\"image_format\":\"png\"};\n",
      "/* ]]> */\n",
      "</script>\n",
      "<script type='text/javascript' src='https://burrusseed.com/wp-content/plugins/everest-forms-pro/assets/js/frontend/signature.min.js?ver=1.3.7.2' id='everest-forms-signature-js'></script>\n",
      "</body>\r\n",
      "</html>\r\n",
      "\n"
     ]
    }
   ],
   "source": [
    "print(html)"
   ]
  },
  {
   "cell_type": "code",
   "execution_count": 68,
   "id": "3a850521",
   "metadata": {
    "ExecuteTime": {
     "end_time": "2023-04-22T22:28:14.496528Z",
     "start_time": "2023-04-22T22:28:14.490229Z"
    }
   },
   "outputs": [],
   "source": [
    "url = 'https://www.dekalbasgrowdeltapine.com/en-us/local-yield-results.html#crop=corn,soybeans&radius=200&year=2022&zipcode=63376'"
   ]
  },
  {
   "cell_type": "code",
   "execution_count": 71,
   "id": "0993339f",
   "metadata": {
    "ExecuteTime": {
     "end_time": "2023-04-22T22:28:52.322677Z",
     "start_time": "2023-04-22T22:28:52.163796Z"
    }
   },
   "outputs": [
    {
     "name": "stdout",
     "output_type": "stream",
     "text": [
      "<HTML><HEAD>\n",
      "<TITLE>Access Denied</TITLE>\n",
      "</HEAD><BODY>\n",
      "<H1>Access Denied</H1>\n",
      " \n",
      "You don't have permission to access \"http&#58;&#47;&#47;www&#46;dekalbasgrowdeltapine&#46;com&#47;en&#45;us&#47;local&#45;yield&#45;results&#46;html\" on this server.<P>\n",
      "Reference&#32;&#35;18&#46;8483c217&#46;1682202532&#46;6a87064\n",
      "</BODY>\n",
      "</HTML>\n",
      "\n"
     ]
    }
   ],
   "source": [
    "response = requests.get(url)\n",
    "html = response.text\n",
    "print(html)"
   ]
  },
  {
   "cell_type": "code",
   "execution_count": 83,
   "id": "31a944f2",
   "metadata": {
    "ExecuteTime": {
     "end_time": "2023-04-22T23:11:00.147788Z",
     "start_time": "2023-04-22T23:11:00.140729Z"
    }
   },
   "outputs": [],
   "source": [
    "url = '/en-us/local-yield-results/_jcr_content/root/responsivegrid/harvest_results.harvest.json'"
   ]
  },
  {
   "cell_type": "code",
   "execution_count": 84,
   "id": "a45cd403",
   "metadata": {
    "ExecuteTime": {
     "end_time": "2023-04-22T23:11:00.665783Z",
     "start_time": "2023-04-22T23:11:00.521858Z"
    }
   },
   "outputs": [
    {
     "ename": "MissingSchema",
     "evalue": "Invalid URL '/en-us/local-yield-results/_jcr_content/root/responsivegrid/harvest_results.harvest.json': No scheme supplied. Perhaps you meant http:///en-us/local-yield-results/_jcr_content/root/responsivegrid/harvest_results.harvest.json?",
     "output_type": "error",
     "traceback": [
      "\u001b[0;31m---------------------------------------------------------------------------\u001b[0m",
      "\u001b[0;31mMissingSchema\u001b[0m                             Traceback (most recent call last)",
      "Input \u001b[0;32mIn [84]\u001b[0m, in \u001b[0;36m<cell line: 1>\u001b[0;34m()\u001b[0m\n\u001b[0;32m----> 1\u001b[0m response \u001b[38;5;241m=\u001b[39m \u001b[43mrequests\u001b[49m\u001b[38;5;241;43m.\u001b[39;49m\u001b[43mget\u001b[49m\u001b[43m(\u001b[49m\u001b[43murl\u001b[49m\u001b[43m)\u001b[49m\n\u001b[1;32m      2\u001b[0m html \u001b[38;5;241m=\u001b[39m response\u001b[38;5;241m.\u001b[39mtext\n\u001b[1;32m      3\u001b[0m \u001b[38;5;28mprint\u001b[39m(html)\n",
      "File \u001b[0;32m~/software/python/python39/virtualenvs/pairs-python3/lib/python3.9/site-packages/requests/api.py:73\u001b[0m, in \u001b[0;36mget\u001b[0;34m(url, params, **kwargs)\u001b[0m\n\u001b[1;32m     62\u001b[0m \u001b[38;5;28;01mdef\u001b[39;00m \u001b[38;5;21mget\u001b[39m(url, params\u001b[38;5;241m=\u001b[39m\u001b[38;5;28;01mNone\u001b[39;00m, \u001b[38;5;241m*\u001b[39m\u001b[38;5;241m*\u001b[39mkwargs):\n\u001b[1;32m     63\u001b[0m     \u001b[38;5;124mr\u001b[39m\u001b[38;5;124;03m\"\"\"Sends a GET request.\u001b[39;00m\n\u001b[1;32m     64\u001b[0m \n\u001b[1;32m     65\u001b[0m \u001b[38;5;124;03m    :param url: URL for the new :class:`Request` object.\u001b[39;00m\n\u001b[0;32m   (...)\u001b[0m\n\u001b[1;32m     70\u001b[0m \u001b[38;5;124;03m    :rtype: requests.Response\u001b[39;00m\n\u001b[1;32m     71\u001b[0m \u001b[38;5;124;03m    \"\"\"\u001b[39;00m\n\u001b[0;32m---> 73\u001b[0m     \u001b[38;5;28;01mreturn\u001b[39;00m \u001b[43mrequest\u001b[49m\u001b[43m(\u001b[49m\u001b[38;5;124;43m\"\u001b[39;49m\u001b[38;5;124;43mget\u001b[39;49m\u001b[38;5;124;43m\"\u001b[39;49m\u001b[43m,\u001b[49m\u001b[43m \u001b[49m\u001b[43murl\u001b[49m\u001b[43m,\u001b[49m\u001b[43m \u001b[49m\u001b[43mparams\u001b[49m\u001b[38;5;241;43m=\u001b[39;49m\u001b[43mparams\u001b[49m\u001b[43m,\u001b[49m\u001b[43m \u001b[49m\u001b[38;5;241;43m*\u001b[39;49m\u001b[38;5;241;43m*\u001b[39;49m\u001b[43mkwargs\u001b[49m\u001b[43m)\u001b[49m\n",
      "File \u001b[0;32m~/software/python/python39/virtualenvs/pairs-python3/lib/python3.9/site-packages/requests/api.py:59\u001b[0m, in \u001b[0;36mrequest\u001b[0;34m(method, url, **kwargs)\u001b[0m\n\u001b[1;32m     55\u001b[0m \u001b[38;5;66;03m# By using the 'with' statement we are sure the session is closed, thus we\u001b[39;00m\n\u001b[1;32m     56\u001b[0m \u001b[38;5;66;03m# avoid leaving sockets open which can trigger a ResourceWarning in some\u001b[39;00m\n\u001b[1;32m     57\u001b[0m \u001b[38;5;66;03m# cases, and look like a memory leak in others.\u001b[39;00m\n\u001b[1;32m     58\u001b[0m \u001b[38;5;28;01mwith\u001b[39;00m sessions\u001b[38;5;241m.\u001b[39mSession() \u001b[38;5;28;01mas\u001b[39;00m session:\n\u001b[0;32m---> 59\u001b[0m     \u001b[38;5;28;01mreturn\u001b[39;00m \u001b[43msession\u001b[49m\u001b[38;5;241;43m.\u001b[39;49m\u001b[43mrequest\u001b[49m\u001b[43m(\u001b[49m\u001b[43mmethod\u001b[49m\u001b[38;5;241;43m=\u001b[39;49m\u001b[43mmethod\u001b[49m\u001b[43m,\u001b[49m\u001b[43m \u001b[49m\u001b[43murl\u001b[49m\u001b[38;5;241;43m=\u001b[39;49m\u001b[43murl\u001b[49m\u001b[43m,\u001b[49m\u001b[43m \u001b[49m\u001b[38;5;241;43m*\u001b[39;49m\u001b[38;5;241;43m*\u001b[39;49m\u001b[43mkwargs\u001b[49m\u001b[43m)\u001b[49m\n",
      "File \u001b[0;32m~/software/python/python39/virtualenvs/pairs-python3/lib/python3.9/site-packages/requests/sessions.py:573\u001b[0m, in \u001b[0;36mSession.request\u001b[0;34m(self, method, url, params, data, headers, cookies, files, auth, timeout, allow_redirects, proxies, hooks, stream, verify, cert, json)\u001b[0m\n\u001b[1;32m    560\u001b[0m \u001b[38;5;66;03m# Create the Request.\u001b[39;00m\n\u001b[1;32m    561\u001b[0m req \u001b[38;5;241m=\u001b[39m Request(\n\u001b[1;32m    562\u001b[0m     method\u001b[38;5;241m=\u001b[39mmethod\u001b[38;5;241m.\u001b[39mupper(),\n\u001b[1;32m    563\u001b[0m     url\u001b[38;5;241m=\u001b[39murl,\n\u001b[0;32m   (...)\u001b[0m\n\u001b[1;32m    571\u001b[0m     hooks\u001b[38;5;241m=\u001b[39mhooks,\n\u001b[1;32m    572\u001b[0m )\n\u001b[0;32m--> 573\u001b[0m prep \u001b[38;5;241m=\u001b[39m \u001b[38;5;28;43mself\u001b[39;49m\u001b[38;5;241;43m.\u001b[39;49m\u001b[43mprepare_request\u001b[49m\u001b[43m(\u001b[49m\u001b[43mreq\u001b[49m\u001b[43m)\u001b[49m\n\u001b[1;32m    575\u001b[0m proxies \u001b[38;5;241m=\u001b[39m proxies \u001b[38;5;129;01mor\u001b[39;00m {}\n\u001b[1;32m    577\u001b[0m settings \u001b[38;5;241m=\u001b[39m \u001b[38;5;28mself\u001b[39m\u001b[38;5;241m.\u001b[39mmerge_environment_settings(\n\u001b[1;32m    578\u001b[0m     prep\u001b[38;5;241m.\u001b[39murl, proxies, stream, verify, cert\n\u001b[1;32m    579\u001b[0m )\n",
      "File \u001b[0;32m~/software/python/python39/virtualenvs/pairs-python3/lib/python3.9/site-packages/requests/sessions.py:484\u001b[0m, in \u001b[0;36mSession.prepare_request\u001b[0;34m(self, request)\u001b[0m\n\u001b[1;32m    481\u001b[0m     auth \u001b[38;5;241m=\u001b[39m get_netrc_auth(request\u001b[38;5;241m.\u001b[39murl)\n\u001b[1;32m    483\u001b[0m p \u001b[38;5;241m=\u001b[39m PreparedRequest()\n\u001b[0;32m--> 484\u001b[0m \u001b[43mp\u001b[49m\u001b[38;5;241;43m.\u001b[39;49m\u001b[43mprepare\u001b[49m\u001b[43m(\u001b[49m\n\u001b[1;32m    485\u001b[0m \u001b[43m    \u001b[49m\u001b[43mmethod\u001b[49m\u001b[38;5;241;43m=\u001b[39;49m\u001b[43mrequest\u001b[49m\u001b[38;5;241;43m.\u001b[39;49m\u001b[43mmethod\u001b[49m\u001b[38;5;241;43m.\u001b[39;49m\u001b[43mupper\u001b[49m\u001b[43m(\u001b[49m\u001b[43m)\u001b[49m\u001b[43m,\u001b[49m\n\u001b[1;32m    486\u001b[0m \u001b[43m    \u001b[49m\u001b[43murl\u001b[49m\u001b[38;5;241;43m=\u001b[39;49m\u001b[43mrequest\u001b[49m\u001b[38;5;241;43m.\u001b[39;49m\u001b[43murl\u001b[49m\u001b[43m,\u001b[49m\n\u001b[1;32m    487\u001b[0m \u001b[43m    \u001b[49m\u001b[43mfiles\u001b[49m\u001b[38;5;241;43m=\u001b[39;49m\u001b[43mrequest\u001b[49m\u001b[38;5;241;43m.\u001b[39;49m\u001b[43mfiles\u001b[49m\u001b[43m,\u001b[49m\n\u001b[1;32m    488\u001b[0m \u001b[43m    \u001b[49m\u001b[43mdata\u001b[49m\u001b[38;5;241;43m=\u001b[39;49m\u001b[43mrequest\u001b[49m\u001b[38;5;241;43m.\u001b[39;49m\u001b[43mdata\u001b[49m\u001b[43m,\u001b[49m\n\u001b[1;32m    489\u001b[0m \u001b[43m    \u001b[49m\u001b[43mjson\u001b[49m\u001b[38;5;241;43m=\u001b[39;49m\u001b[43mrequest\u001b[49m\u001b[38;5;241;43m.\u001b[39;49m\u001b[43mjson\u001b[49m\u001b[43m,\u001b[49m\n\u001b[1;32m    490\u001b[0m \u001b[43m    \u001b[49m\u001b[43mheaders\u001b[49m\u001b[38;5;241;43m=\u001b[39;49m\u001b[43mmerge_setting\u001b[49m\u001b[43m(\u001b[49m\n\u001b[1;32m    491\u001b[0m \u001b[43m        \u001b[49m\u001b[43mrequest\u001b[49m\u001b[38;5;241;43m.\u001b[39;49m\u001b[43mheaders\u001b[49m\u001b[43m,\u001b[49m\u001b[43m \u001b[49m\u001b[38;5;28;43mself\u001b[39;49m\u001b[38;5;241;43m.\u001b[39;49m\u001b[43mheaders\u001b[49m\u001b[43m,\u001b[49m\u001b[43m \u001b[49m\u001b[43mdict_class\u001b[49m\u001b[38;5;241;43m=\u001b[39;49m\u001b[43mCaseInsensitiveDict\u001b[49m\n\u001b[1;32m    492\u001b[0m \u001b[43m    \u001b[49m\u001b[43m)\u001b[49m\u001b[43m,\u001b[49m\n\u001b[1;32m    493\u001b[0m \u001b[43m    \u001b[49m\u001b[43mparams\u001b[49m\u001b[38;5;241;43m=\u001b[39;49m\u001b[43mmerge_setting\u001b[49m\u001b[43m(\u001b[49m\u001b[43mrequest\u001b[49m\u001b[38;5;241;43m.\u001b[39;49m\u001b[43mparams\u001b[49m\u001b[43m,\u001b[49m\u001b[43m \u001b[49m\u001b[38;5;28;43mself\u001b[39;49m\u001b[38;5;241;43m.\u001b[39;49m\u001b[43mparams\u001b[49m\u001b[43m)\u001b[49m\u001b[43m,\u001b[49m\n\u001b[1;32m    494\u001b[0m \u001b[43m    \u001b[49m\u001b[43mauth\u001b[49m\u001b[38;5;241;43m=\u001b[39;49m\u001b[43mmerge_setting\u001b[49m\u001b[43m(\u001b[49m\u001b[43mauth\u001b[49m\u001b[43m,\u001b[49m\u001b[43m \u001b[49m\u001b[38;5;28;43mself\u001b[39;49m\u001b[38;5;241;43m.\u001b[39;49m\u001b[43mauth\u001b[49m\u001b[43m)\u001b[49m\u001b[43m,\u001b[49m\n\u001b[1;32m    495\u001b[0m \u001b[43m    \u001b[49m\u001b[43mcookies\u001b[49m\u001b[38;5;241;43m=\u001b[39;49m\u001b[43mmerged_cookies\u001b[49m\u001b[43m,\u001b[49m\n\u001b[1;32m    496\u001b[0m \u001b[43m    \u001b[49m\u001b[43mhooks\u001b[49m\u001b[38;5;241;43m=\u001b[39;49m\u001b[43mmerge_hooks\u001b[49m\u001b[43m(\u001b[49m\u001b[43mrequest\u001b[49m\u001b[38;5;241;43m.\u001b[39;49m\u001b[43mhooks\u001b[49m\u001b[43m,\u001b[49m\u001b[43m \u001b[49m\u001b[38;5;28;43mself\u001b[39;49m\u001b[38;5;241;43m.\u001b[39;49m\u001b[43mhooks\u001b[49m\u001b[43m)\u001b[49m\u001b[43m,\u001b[49m\n\u001b[1;32m    497\u001b[0m \u001b[43m\u001b[49m\u001b[43m)\u001b[49m\n\u001b[1;32m    498\u001b[0m \u001b[38;5;28;01mreturn\u001b[39;00m p\n",
      "File \u001b[0;32m~/software/python/python39/virtualenvs/pairs-python3/lib/python3.9/site-packages/requests/models.py:368\u001b[0m, in \u001b[0;36mPreparedRequest.prepare\u001b[0;34m(self, method, url, headers, files, data, params, auth, cookies, hooks, json)\u001b[0m\n\u001b[1;32m    365\u001b[0m \u001b[38;5;124;03m\"\"\"Prepares the entire request with the given parameters.\"\"\"\u001b[39;00m\n\u001b[1;32m    367\u001b[0m \u001b[38;5;28mself\u001b[39m\u001b[38;5;241m.\u001b[39mprepare_method(method)\n\u001b[0;32m--> 368\u001b[0m \u001b[38;5;28;43mself\u001b[39;49m\u001b[38;5;241;43m.\u001b[39;49m\u001b[43mprepare_url\u001b[49m\u001b[43m(\u001b[49m\u001b[43murl\u001b[49m\u001b[43m,\u001b[49m\u001b[43m \u001b[49m\u001b[43mparams\u001b[49m\u001b[43m)\u001b[49m\n\u001b[1;32m    369\u001b[0m \u001b[38;5;28mself\u001b[39m\u001b[38;5;241m.\u001b[39mprepare_headers(headers)\n\u001b[1;32m    370\u001b[0m \u001b[38;5;28mself\u001b[39m\u001b[38;5;241m.\u001b[39mprepare_cookies(cookies)\n",
      "File \u001b[0;32m~/software/python/python39/virtualenvs/pairs-python3/lib/python3.9/site-packages/requests/models.py:439\u001b[0m, in \u001b[0;36mPreparedRequest.prepare_url\u001b[0;34m(self, url, params)\u001b[0m\n\u001b[1;32m    436\u001b[0m     \u001b[38;5;28;01mraise\u001b[39;00m InvalidURL(\u001b[38;5;241m*\u001b[39me\u001b[38;5;241m.\u001b[39margs)\n\u001b[1;32m    438\u001b[0m \u001b[38;5;28;01mif\u001b[39;00m \u001b[38;5;129;01mnot\u001b[39;00m scheme:\n\u001b[0;32m--> 439\u001b[0m     \u001b[38;5;28;01mraise\u001b[39;00m MissingSchema(\n\u001b[1;32m    440\u001b[0m         \u001b[38;5;124mf\u001b[39m\u001b[38;5;124m\"\u001b[39m\u001b[38;5;124mInvalid URL \u001b[39m\u001b[38;5;132;01m{\u001b[39;00murl\u001b[38;5;132;01m!r}\u001b[39;00m\u001b[38;5;124m: No scheme supplied. \u001b[39m\u001b[38;5;124m\"\u001b[39m\n\u001b[1;32m    441\u001b[0m         \u001b[38;5;124mf\u001b[39m\u001b[38;5;124m\"\u001b[39m\u001b[38;5;124mPerhaps you meant http://\u001b[39m\u001b[38;5;132;01m{\u001b[39;00murl\u001b[38;5;132;01m}\u001b[39;00m\u001b[38;5;124m?\u001b[39m\u001b[38;5;124m\"\u001b[39m\n\u001b[1;32m    442\u001b[0m     )\n\u001b[1;32m    444\u001b[0m \u001b[38;5;28;01mif\u001b[39;00m \u001b[38;5;129;01mnot\u001b[39;00m host:\n\u001b[1;32m    445\u001b[0m     \u001b[38;5;28;01mraise\u001b[39;00m InvalidURL(\u001b[38;5;124mf\u001b[39m\u001b[38;5;124m\"\u001b[39m\u001b[38;5;124mInvalid URL \u001b[39m\u001b[38;5;132;01m{\u001b[39;00murl\u001b[38;5;132;01m!r}\u001b[39;00m\u001b[38;5;124m: No host supplied\u001b[39m\u001b[38;5;124m\"\u001b[39m)\n",
      "\u001b[0;31mMissingSchema\u001b[0m: Invalid URL '/en-us/local-yield-results/_jcr_content/root/responsivegrid/harvest_results.harvest.json': No scheme supplied. Perhaps you meant http:///en-us/local-yield-results/_jcr_content/root/responsivegrid/harvest_results.harvest.json?"
     ]
    }
   ],
   "source": [
    "response = requests.get(url)\n",
    "html = response.text\n",
    "print(html)"
   ]
  },
  {
   "cell_type": "code",
   "execution_count": 85,
   "id": "03d78286",
   "metadata": {
    "ExecuteTime": {
     "end_time": "2023-04-23T03:09:06.827045Z",
     "start_time": "2023-04-23T03:09:06.818342Z"
    }
   },
   "outputs": [
    {
     "ename": "SyntaxError",
     "evalue": "invalid syntax (4002882802.py, line 1)",
     "output_type": "error",
     "traceback": [
      "\u001b[0;36m  Input \u001b[0;32mIn [85]\u001b[0;36m\u001b[0m\n\u001b[0;31m    scrapy startproject steam\u001b[0m\n\u001b[0m           ^\u001b[0m\n\u001b[0;31mSyntaxError\u001b[0m\u001b[0;31m:\u001b[0m invalid syntax\n"
     ]
    }
   ],
   "source": [
    "scrapy startproject steam"
   ]
  },
  {
   "cell_type": "code",
   "execution_count": 86,
   "id": "e5df452c",
   "metadata": {
    "ExecuteTime": {
     "end_time": "2023-04-23T03:09:17.924149Z",
     "start_time": "2023-04-23T03:09:17.122369Z"
    }
   },
   "outputs": [],
   "source": [
    "import scrapy"
   ]
  },
  {
   "cell_type": "code",
   "execution_count": 87,
   "id": "cef1935b",
   "metadata": {
    "ExecuteTime": {
     "end_time": "2023-04-23T03:11:38.738743Z",
     "start_time": "2023-04-23T03:11:38.727032Z"
    }
   },
   "outputs": [
    {
     "data": {
      "text/plain": [
       "scrapy.spiders.Spider"
      ]
     },
     "execution_count": 87,
     "metadata": {},
     "output_type": "execute_result"
    }
   ],
   "source": [
    "scrapy.Spider"
   ]
  },
  {
   "cell_type": "code",
   "execution_count": 91,
   "id": "4f0b7a57",
   "metadata": {
    "ExecuteTime": {
     "end_time": "2023-04-23T03:15:38.918472Z",
     "start_time": "2023-04-23T03:15:38.906986Z"
    }
   },
   "outputs": [],
   "source": [
    "import scrapyrt"
   ]
  },
  {
   "cell_type": "code",
   "execution_count": null,
   "id": "b897989f",
   "metadata": {},
   "outputs": [],
   "source": [
    " "
   ]
  }
 ],
 "metadata": {
  "kernelspec": {
   "display_name": "Python 3 (ipykernel)",
   "language": "python",
   "name": "python3"
  },
  "language_info": {
   "codemirror_mode": {
    "name": "ipython",
    "version": 3
   },
   "file_extension": ".py",
   "mimetype": "text/x-python",
   "name": "python",
   "nbconvert_exporter": "python",
   "pygments_lexer": "ipython3",
   "version": "3.9.2"
  },
  "toc": {
   "base_numbering": 1,
   "nav_menu": {},
   "number_sections": true,
   "sideBar": true,
   "skip_h1_title": false,
   "title_cell": "Table of Contents",
   "title_sidebar": "Contents",
   "toc_cell": false,
   "toc_position": {},
   "toc_section_display": true,
   "toc_window_display": true
  }
 },
 "nbformat": 4,
 "nbformat_minor": 5
}
